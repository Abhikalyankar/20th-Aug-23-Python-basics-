{
 "cells": [
  {
   "cell_type": "markdown",
   "id": "5ad60a1f-990d-4655-be51-e98625891fc0",
   "metadata": {},
   "source": [
    "# 20 Aug 2023"
   ]
  },
  {
   "cell_type": "markdown",
   "id": "564ecf10-3c0e-4355-b93b-1064f78d0a0c",
   "metadata": {},
   "source": [
    "## String"
   ]
  },
  {
   "cell_type": "markdown",
   "id": "11f10020-e2b6-4372-8b03-be10f2b5fd98",
   "metadata": {},
   "source": [
    "### Write a program to reverse a string."
   ]
  },
  {
   "cell_type": "code",
   "execution_count": 8,
   "id": "f48eff9d-5a99-4ab7-9312-fb8e707f769e",
   "metadata": {},
   "outputs": [
    {
     "name": "stdin",
     "output_type": "stream",
     "text": [
      " Enter a Strng: abhi\n"
     ]
    },
    {
     "name": "stdout",
     "output_type": "stream",
     "text": [
      "ihba\n"
     ]
    }
   ],
   "source": [
    "a = input(\" Enter a Strng:\")\n",
    "b = a[::-1]\n",
    "print(b)"
   ]
  },
  {
   "cell_type": "code",
   "execution_count": null,
   "id": "1d3f5d64-8d63-45b4-b060-39671256cbf0",
   "metadata": {},
   "outputs": [],
   "source": []
  },
  {
   "cell_type": "markdown",
   "id": "04314636-0cd5-48f1-b711-7ffd1ac35120",
   "metadata": {},
   "source": [
    "### Check if a string is a palindrome."
   ]
  },
  {
   "cell_type": "code",
   "execution_count": 10,
   "id": "e3a35ddb-4ada-47cb-969d-37a04ad00d5d",
   "metadata": {},
   "outputs": [
    {
     "name": "stdin",
     "output_type": "stream",
     "text": [
      "Enter a String: madam\n"
     ]
    },
    {
     "name": "stdout",
     "output_type": "stream",
     "text": [
      "String is palindrome\n"
     ]
    }
   ],
   "source": [
    "a = input(\"Enter a String:\")\n",
    "b = a[::-1]\n",
    "if a==b:\n",
    "    print(\"String is palindrome\")\n",
    "else:\n",
    "    print(\"String is not palindrome\")"
   ]
  },
  {
   "cell_type": "code",
   "execution_count": null,
   "id": "f7d96cf5-0046-480c-a400-d5ed93baab04",
   "metadata": {},
   "outputs": [],
   "source": []
  },
  {
   "cell_type": "markdown",
   "id": "d775ee98-2bc3-42e5-ae57-a1b27bfef141",
   "metadata": {},
   "source": [
    "### Convert a string to uppercase."
   ]
  },
  {
   "cell_type": "code",
   "execution_count": 12,
   "id": "f7757a2b-154a-49cb-bef2-53ebc8838be2",
   "metadata": {},
   "outputs": [
    {
     "name": "stdin",
     "output_type": "stream",
     "text": [
      "Enter a String: abhi\n"
     ]
    },
    {
     "name": "stdout",
     "output_type": "stream",
     "text": [
      "ABHI\n"
     ]
    }
   ],
   "source": [
    "a = input(\"Enter a String:\")\n",
    "b = a.upper()\n",
    "print(b)"
   ]
  },
  {
   "cell_type": "code",
   "execution_count": null,
   "id": "2ffd80f7-56d4-420e-a1a6-cc03163f6859",
   "metadata": {},
   "outputs": [],
   "source": []
  },
  {
   "cell_type": "markdown",
   "id": "de1b8971-a245-4158-8346-6463155f8e5c",
   "metadata": {},
   "source": [
    "### Convert a string to lowercase."
   ]
  },
  {
   "cell_type": "code",
   "execution_count": 15,
   "id": "ff81fd13-a06e-4875-813b-a34e5183ab07",
   "metadata": {},
   "outputs": [
    {
     "name": "stdin",
     "output_type": "stream",
     "text": [
      "Enter a String: ABHI\n"
     ]
    },
    {
     "name": "stdout",
     "output_type": "stream",
     "text": [
      "abhi\n"
     ]
    }
   ],
   "source": [
    "a = input(\"Enter a String:\")\n",
    "b = a.lower()\n",
    "print(b)"
   ]
  },
  {
   "cell_type": "code",
   "execution_count": null,
   "id": "97f4ca04-632a-4a66-8afc-581fed4d5002",
   "metadata": {},
   "outputs": [],
   "source": []
  },
  {
   "cell_type": "markdown",
   "id": "3f70c0ac-37b0-483d-9f37-e9e39569ee82",
   "metadata": {},
   "source": [
    "### Count the number of vowels in a string."
   ]
  },
  {
   "cell_type": "code",
   "execution_count": 19,
   "id": "a2d8c556-40ea-4198-a0a8-3c059bebfd25",
   "metadata": {},
   "outputs": [
    {
     "name": "stdin",
     "output_type": "stream",
     "text": [
      " Enter a String: abhishek\n"
     ]
    },
    {
     "name": "stdout",
     "output_type": "stream",
     "text": [
      "3\n"
     ]
    }
   ],
   "source": [
    "\n",
    "A = input(\" Enter a String:\")\n",
    "vowels = \"aeiou\"\n",
    "c = sum(1 for char in A if char in vowels)\n",
    "print(c)"
   ]
  },
  {
   "cell_type": "code",
   "execution_count": null,
   "id": "3d0e716c-f5dd-4d48-80b6-c31f565cd19a",
   "metadata": {},
   "outputs": [],
   "source": []
  },
  {
   "cell_type": "markdown",
   "id": "6114be1f-c6fa-46a5-870d-55a51bd60961",
   "metadata": {},
   "source": [
    "### Count the number of consonants in a string."
   ]
  },
  {
   "cell_type": "code",
   "execution_count": 21,
   "id": "41e29043-2bc0-44f2-a722-2aecab2f08ed",
   "metadata": {},
   "outputs": [
    {
     "name": "stdin",
     "output_type": "stream",
     "text": [
      "Enter a String: abhishek\n"
     ]
    },
    {
     "name": "stdout",
     "output_type": "stream",
     "text": [
      "5\n"
     ]
    }
   ],
   "source": [
    "a = input(\"Enter a String:\")\n",
    "vowels = \"aeiou\"\n",
    "c = sum(1 for char in a if char not in vowels)\n",
    "print(c)"
   ]
  },
  {
   "cell_type": "code",
   "execution_count": null,
   "id": "a8c211b3-f8c9-4c10-a544-4e6e06b41440",
   "metadata": {},
   "outputs": [],
   "source": []
  },
  {
   "cell_type": "markdown",
   "id": "ac7dc930-6268-405a-9847-58d566224926",
   "metadata": {},
   "source": [
    "### Remove all whitespaces from a string."
   ]
  },
  {
   "cell_type": "code",
   "execution_count": 22,
   "id": "069b57d0-a438-4d7b-a007-decb34c93ac6",
   "metadata": {},
   "outputs": [
    {
     "name": "stdin",
     "output_type": "stream",
     "text": [
      " Enter a String: abhis hek\n"
     ]
    },
    {
     "name": "stdout",
     "output_type": "stream",
     "text": [
      "abhishek\n"
     ]
    }
   ],
   "source": [
    "a = input(\" Enter a String:\")\n",
    "b = a.replace(\" \",\"\")\n",
    "print(b)"
   ]
  },
  {
   "cell_type": "code",
   "execution_count": null,
   "id": "9b469d26-a9b6-413f-aabf-81c0d8ec865c",
   "metadata": {},
   "outputs": [],
   "source": []
  },
  {
   "cell_type": "markdown",
   "id": "59cf6832-49cc-43a3-b12c-cd80ec7a4be4",
   "metadata": {},
   "source": [
    "### Find the length of a string without using the `len()` function."
   ]
  },
  {
   "cell_type": "code",
   "execution_count": 27,
   "id": "01d82898-633a-43fc-afc2-8811e4cf5317",
   "metadata": {},
   "outputs": [
    {
     "name": "stdin",
     "output_type": "stream",
     "text": [
      "Enter a String: abhishek\n"
     ]
    },
    {
     "name": "stdout",
     "output_type": "stream",
     "text": [
      "8\n"
     ]
    }
   ],
   "source": [
    "a = input(\"Enter a String:\")\n",
    "b = sum(1 for char in a)\n",
    "print(b)"
   ]
  },
  {
   "cell_type": "code",
   "execution_count": null,
   "id": "9ab2a9db-e3a7-4c2a-bccd-02066a47ef7f",
   "metadata": {},
   "outputs": [],
   "source": []
  },
  {
   "cell_type": "markdown",
   "id": "56867d86-0497-4879-97af-3b127f9ac782",
   "metadata": {},
   "source": [
    "### Check if a string contains a specific word."
   ]
  },
  {
   "cell_type": "code",
   "execution_count": 29,
   "id": "e2488049-48a7-4786-a681-bd143775eeee",
   "metadata": {},
   "outputs": [
    {
     "name": "stdin",
     "output_type": "stream",
     "text": [
      "Enter a String: abhi is a good guy\n",
      "Enter a Specific word: good\n"
     ]
    },
    {
     "name": "stdout",
     "output_type": "stream",
     "text": [
      "good is present in string\n"
     ]
    }
   ],
   "source": [
    "a = input(\"Enter a String:\")\n",
    "specific_word = input(\"Enter a Specific word:\")\n",
    "if specific_word in a:\n",
    "    print(specific_word, \"is present in string\")\n",
    "else:\n",
    "    print(specifi_word, \"is not present\")"
   ]
  },
  {
   "cell_type": "code",
   "execution_count": null,
   "id": "76fcabe1-d9a6-4092-b5b7-faf9419db478",
   "metadata": {},
   "outputs": [],
   "source": []
  },
  {
   "cell_type": "markdown",
   "id": "55ec7cb2-5640-40aa-adb1-c409c61b8032",
   "metadata": {},
   "source": [
    "### Replace a word in a string with another word."
   ]
  },
  {
   "cell_type": "code",
   "execution_count": 32,
   "id": "6507f29c-6338-4038-a2db-85b70fb6b38b",
   "metadata": {},
   "outputs": [
    {
     "name": "stdin",
     "output_type": "stream",
     "text": [
      "Enter a word: ABHI\n",
      "Enter a String: ABHISHEK\n"
     ]
    },
    {
     "name": "stdout",
     "output_type": "stream",
     "text": [
      "ABHISHEK\n"
     ]
    }
   ],
   "source": [
    "a = input(\"Enter a word:\")\n",
    "new = input(\"Enter a String:\")\n",
    "CURRENT = a.replace(a,new)\n",
    "print(CURRENT)"
   ]
  },
  {
   "cell_type": "code",
   "execution_count": null,
   "id": "9b09a8fd-566e-44a4-8e59-9aa650246e1d",
   "metadata": {},
   "outputs": [],
   "source": []
  },
  {
   "cell_type": "markdown",
   "id": "785ee2d0-4843-4693-9f85-f4c10a27274c",
   "metadata": {},
   "source": [
    "### Count the occurrences of a word in a string."
   ]
  },
  {
   "cell_type": "code",
   "execution_count": null,
   "id": "6175ee8e-90bf-4836-ad36-ad458fb64819",
   "metadata": {},
   "outputs": [],
   "source": []
  },
  {
   "cell_type": "code",
   "execution_count": 47,
   "id": "24a96e1c-3f5e-4d55-a8cc-11ab5c8c9b6d",
   "metadata": {},
   "outputs": [
    {
     "name": "stdin",
     "output_type": "stream",
     "text": [
      " Enter a String: aabhi\n",
      "Enter a word: a\n"
     ]
    },
    {
     "name": "stdout",
     "output_type": "stream",
     "text": [
      "2\n"
     ]
    }
   ],
   "source": [
    "A = input(\" Enter a String:\")\n",
    "b = input(\"Enter a word:\")\n",
    "c = sum(1 for char in A if char in b)\n",
    "print(c)\n"
   ]
  },
  {
   "cell_type": "code",
   "execution_count": null,
   "id": "016a877d-26fa-46ff-87c1-62e56f59aa18",
   "metadata": {},
   "outputs": [],
   "source": []
  },
  {
   "cell_type": "markdown",
   "id": "1222c849-ea67-4715-9be3-51959cc7d479",
   "metadata": {},
   "source": [
    "### Find the first occurrence of a word in a string."
   ]
  },
  {
   "cell_type": "code",
   "execution_count": 11,
   "id": "a676464e-efac-465c-8305-111700fe026f",
   "metadata": {},
   "outputs": [
    {
     "name": "stdin",
     "output_type": "stream",
     "text": [
      "Enter a string: abhishek\n",
      "Enter a word: a\n"
     ]
    },
    {
     "name": "stdout",
     "output_type": "stream",
     "text": [
      "0\n",
      "First occurrence\n"
     ]
    }
   ],
   "source": [
    "str = input(\"Enter a string:\")\n",
    "word = input(\"Enter a word:\")\n",
    "b = str.index(word)\n",
    "print(b)\n",
    "if b != 0:\n",
    "    print(\"Not the first occurrence\")\n",
    "else:\n",
    "    print(\"First occurrence\")"
   ]
  },
  {
   "cell_type": "code",
   "execution_count": null,
   "id": "f8466364-0a59-4150-88dd-48387dea768e",
   "metadata": {},
   "outputs": [],
   "source": []
  },
  {
   "cell_type": "markdown",
   "id": "b0d276d0-606c-4646-a69b-edee932fd771",
   "metadata": {},
   "source": [
    "### Find the last occurrence of a word in a string."
   ]
  },
  {
   "cell_type": "code",
   "execution_count": 20,
   "id": "f2b2fc91-9dad-4402-bf9a-6c48208d77d4",
   "metadata": {},
   "outputs": [
    {
     "name": "stdin",
     "output_type": "stream",
     "text": [
      "Enter a Strig: hello how are you\n",
      "Enter a word: how\n"
     ]
    },
    {
     "name": "stdout",
     "output_type": "stream",
     "text": [
      "False\n",
      "Not last occurrence\n"
     ]
    }
   ],
   "source": [
    "str = input(\"Enter a Strig:\")\n",
    "word = input(\"Enter a word:\")\n",
    "b = str.endswith(word)\n",
    "print(b)\n",
    "if b==True:\n",
    "    print(\"Last occurrence\")\n",
    "else:\n",
    "    print(\"Not last occurrence\")"
   ]
  },
  {
   "cell_type": "code",
   "execution_count": null,
   "id": "3f07ae32-f1ac-4dc2-82a0-f8bc0ed011bb",
   "metadata": {},
   "outputs": [],
   "source": []
  },
  {
   "cell_type": "markdown",
   "id": "3e8762b3-e2b7-4d4e-b9f5-aba94022bd4a",
   "metadata": {},
   "source": [
    "### Split a string into a list of words."
   ]
  },
  {
   "cell_type": "code",
   "execution_count": 24,
   "id": "71ca988a-9a4f-48a4-b904-517d0dafaafb",
   "metadata": {},
   "outputs": [
    {
     "name": "stdin",
     "output_type": "stream",
     "text": [
      "Enter a String: hello how are you\n"
     ]
    },
    {
     "name": "stdout",
     "output_type": "stream",
     "text": [
      "['hello', 'how', 'are', 'you']\n"
     ]
    }
   ],
   "source": [
    "str = input(\"Enter a String:\")\n",
    "a = str.split()\n",
    "print(a)"
   ]
  },
  {
   "cell_type": "code",
   "execution_count": null,
   "id": "3b0b4aaa-372b-4e1e-9d3a-49d03e1ca788",
   "metadata": {},
   "outputs": [],
   "source": []
  },
  {
   "cell_type": "markdown",
   "id": "ddb2f335-919b-4314-8f05-cd2730f91c6a",
   "metadata": {},
   "source": [
    "### Join a list of words into a string."
   ]
  },
  {
   "cell_type": "code",
   "execution_count": 3,
   "id": "36e290c0-0481-4748-a9cb-defb43b5a6a8",
   "metadata": {},
   "outputs": [
    {
     "name": "stdin",
     "output_type": "stream",
     "text": [
      "Enter a String: hello\n",
      "Enter a word: how\n"
     ]
    },
    {
     "name": "stdout",
     "output_type": "stream",
     "text": [
      "hello how\n"
     ]
    }
   ],
   "source": [
    "str = input(\"Enter a String:\")\n",
    "word = input(\"Enter a word:\")\n",
    "a = str + \" \" + word\n",
    "\n",
    "print(a)"
   ]
  },
  {
   "cell_type": "code",
   "execution_count": null,
   "id": "f399e76b-c947-4ca0-9871-e8bd9be2ce4b",
   "metadata": {},
   "outputs": [],
   "source": []
  },
  {
   "cell_type": "markdown",
   "id": "4f71a3e8-2f70-41b3-8f58-de67d7dcaf24",
   "metadata": {},
   "source": [
    "### Convert a string where words are separated by spaces to one where words are separated by underscores."
   ]
  },
  {
   "cell_type": "code",
   "execution_count": 15,
   "id": "3d5afee4-f3dd-4bd6-bd53-51b8af18a397",
   "metadata": {},
   "outputs": [
    {
     "name": "stdin",
     "output_type": "stream",
     "text": [
      "Enter a String: hello abhi\n"
     ]
    },
    {
     "name": "stdout",
     "output_type": "stream",
     "text": [
      "hello_abhi\n"
     ]
    }
   ],
   "source": [
    "a = input(\"Enter a String:\")\n",
    "b = a.replace(\" \" , '_')\n",
    "print(b)"
   ]
  },
  {
   "cell_type": "code",
   "execution_count": null,
   "id": "1f4745e6-d9e5-43f8-bf94-ae6fcff2ae53",
   "metadata": {},
   "outputs": [],
   "source": []
  },
  {
   "cell_type": "markdown",
   "id": "d51a82c1-06e8-4977-8868-a5972c9682b4",
   "metadata": {},
   "source": [
    "### Check if a string starts with a specific word or phrase."
   ]
  },
  {
   "cell_type": "code",
   "execution_count": 18,
   "id": "43021bfc-975a-4b06-b872-16b9abcea937",
   "metadata": {},
   "outputs": [
    {
     "name": "stdin",
     "output_type": "stream",
     "text": [
      "Enter a String: Hello Abhi\n",
      "Enter a word: Hello\n"
     ]
    },
    {
     "name": "stdout",
     "output_type": "stream",
     "text": [
      "True\n",
      "Yes String startwith given word\n"
     ]
    }
   ],
   "source": [
    "str = input(\"Enter a String:\")\n",
    "word = input(\"Enter a word:\")\n",
    "start = str.startswith(word)\n",
    "print(start)\n",
    "if start==1:\n",
    "    print(\"Yes String startwith given word\")\n",
    "else:\n",
    "    print(\"No string does not start with given word\")"
   ]
  },
  {
   "cell_type": "code",
   "execution_count": null,
   "id": "efc4183c-7951-4de8-8794-a223e2e54d73",
   "metadata": {},
   "outputs": [],
   "source": []
  },
  {
   "cell_type": "markdown",
   "id": "0805a107-02da-4a79-adf8-0a3f237e3da1",
   "metadata": {},
   "source": [
    "### Check if a string ends with a specific word or phrase."
   ]
  },
  {
   "cell_type": "code",
   "execution_count": 19,
   "id": "1e9819ba-f410-40ea-b52f-ed872804fb93",
   "metadata": {},
   "outputs": [
    {
     "name": "stdin",
     "output_type": "stream",
     "text": [
      "Enter a String: Hello Abhi\n",
      "Enter a Word: Abhi\n"
     ]
    },
    {
     "name": "stdout",
     "output_type": "stream",
     "text": [
      "True\n",
      "String endswith given word\n"
     ]
    }
   ],
   "source": [
    "str = input(\"Enter a String:\")\n",
    "word = input(\"Enter a Word:\")\n",
    "end = str.endswith(word)\n",
    "print(end)\n",
    "if end == 1:\n",
    "    print(\"String endswith given word\")\n",
    "else:\n",
    "    print(\"String does not ends with given word\")"
   ]
  },
  {
   "cell_type": "code",
   "execution_count": null,
   "id": "0a4b4088-f420-4e92-8a47-60e3093a3480",
   "metadata": {},
   "outputs": [],
   "source": []
  },
  {
   "cell_type": "markdown",
   "id": "e6bb44b5-cf53-4ae6-8005-0505f305a99e",
   "metadata": {},
   "source": [
    "### Convert a string to title case (e.g., \"hello world\" to \"Hello World\")."
   ]
  },
  {
   "cell_type": "code",
   "execution_count": 20,
   "id": "9cafe806-b5bb-443f-92b2-00259ad91388",
   "metadata": {},
   "outputs": [
    {
     "name": "stdin",
     "output_type": "stream",
     "text": [
      "Enter a String: hello world\n"
     ]
    },
    {
     "name": "stdout",
     "output_type": "stream",
     "text": [
      "Hello World\n"
     ]
    }
   ],
   "source": [
    "str = input(\"Enter a String:\")\n",
    "a = str.title()\n",
    "print(a)"
   ]
  },
  {
   "cell_type": "code",
   "execution_count": null,
   "id": "6f78ee26-9c01-4810-8a32-fa5c043ac3de",
   "metadata": {},
   "outputs": [],
   "source": []
  },
  {
   "cell_type": "markdown",
   "id": "4828fb1c-d0c0-4ba1-8d2b-1de8feee3f13",
   "metadata": {},
   "source": [
    "### (Doubt) Find the longest word in a string."
   ]
  },
  {
   "cell_type": "code",
   "execution_count": 22,
   "id": "366b7ec5-a14c-415f-bea8-b8e4429c5a01",
   "metadata": {},
   "outputs": [
    {
     "name": "stdin",
     "output_type": "stream",
     "text": [
      "Enter a String: Hello how ar u\n"
     ]
    },
    {
     "name": "stdout",
     "output_type": "stream",
     "text": [
      "['hello', 'how', 'ar', 'u']\n",
      "Hello\n",
      "how\n",
      "ar\n",
      "u\n",
      "1\n"
     ]
    }
   ],
   "source": [
    "str = input(\"Enter a String:\")\n",
    "words = str.split()\n",
    "print(a)\n",
    "for word in words:\n",
    "         print(word)\n",
    "b = len(word)\n",
    "print(b)"
   ]
  },
  {
   "cell_type": "code",
   "execution_count": 23,
   "id": "6344eba4-f26f-4e5c-ae0b-f36e26007e75",
   "metadata": {},
   "outputs": [],
   "source": [
    "### Find the longest word in a string."
   ]
  },
  {
   "cell_type": "code",
   "execution_count": 43,
   "id": "7bfe11b2-a4db-4a4b-a34a-a076da2b947c",
   "metadata": {},
   "outputs": [
    {
     "name": "stdin",
     "output_type": "stream",
     "text": [
      "Enter a String: The quick brown fox jumps over the lazy dog\n"
     ]
    },
    {
     "name": "stdout",
     "output_type": "stream",
     "text": [
      "The\n",
      "quick\n"
     ]
    }
   ],
   "source": [
    "a = input(\"Enter a String:\")\n",
    "b = a.split()\n",
    "longest_word = \"\"\n",
    "for word in b:\n",
    "    if len(word) > len(longest_word):\n",
    "        longest_word = word\n",
    "        print(longest_word)"
   ]
  },
  {
   "cell_type": "code",
   "execution_count": null,
   "id": "2d366cad-3249-4640-ac0e-5e00e5aca3cd",
   "metadata": {},
   "outputs": [],
   "source": []
  },
  {
   "cell_type": "markdown",
   "id": "bbe4ad13-8435-4bb9-82b6-8595a5bf4b60",
   "metadata": {},
   "source": [
    "### Find the shortest word in a string."
   ]
  },
  {
   "cell_type": "code",
   "execution_count": 33,
   "id": "40f5cf01-c934-4676-8f26-91fbe59c409f",
   "metadata": {},
   "outputs": [
    {
     "name": "stdin",
     "output_type": "stream",
     "text": [
      "Enter a String: hello how ar u\n"
     ]
    },
    {
     "name": "stdout",
     "output_type": "stream",
     "text": [
      "hello\n",
      "5\n",
      "u\n",
      "1\n",
      "shortest word is: u\n"
     ]
    }
   ],
   "source": [
    "str = input(\"Enter a String:\")\n",
    "words = str.split()\n",
    "s_word = words[0]\n",
    "c = print(s_word)\n",
    "a = len(s_word)\n",
    "print(a)\n",
    "d = print(word)\n",
    "b = len(word)\n",
    "print(b)\n",
    "\n",
    "if s_word < word:\n",
    "    print(\"shortest word is:\", word)\n"
   ]
  },
  {
   "cell_type": "code",
   "execution_count": null,
   "id": "fc33b8a3-8295-4fb0-80ce-ac7f1035cbf0",
   "metadata": {},
   "outputs": [],
   "source": []
  },
  {
   "cell_type": "markdown",
   "id": "fc897ae2-754e-4486-94f6-5291f630159b",
   "metadata": {},
   "source": [
    "### Reverse the order of words in a string."
   ]
  },
  {
   "cell_type": "code",
   "execution_count": 36,
   "id": "3bb28fd1-dbf6-4889-9c82-b524ce4de569",
   "metadata": {},
   "outputs": [
    {
     "name": "stdin",
     "output_type": "stream",
     "text": [
      "Enter a String: hello abhi\n"
     ]
    },
    {
     "name": "stdout",
     "output_type": "stream",
     "text": [
      "['abhi', 'hello']\n"
     ]
    }
   ],
   "source": [
    "str = input(\"Enter a String:\")\n",
    "b = str.split()\n",
    "a = b[::-1]\n",
    "print(a)"
   ]
  },
  {
   "cell_type": "code",
   "execution_count": null,
   "id": "ef8026a0-70e8-4396-a72d-697772abaef8",
   "metadata": {},
   "outputs": [],
   "source": []
  },
  {
   "cell_type": "markdown",
   "id": "0df1111a-4678-45a1-bce6-69e192e34dab",
   "metadata": {},
   "source": [
    "### Check if a string is alphanumeric."
   ]
  },
  {
   "cell_type": "code",
   "execution_count": 43,
   "id": "69521f26-d7cc-4237-a99a-0729834a1004",
   "metadata": {},
   "outputs": [
    {
     "name": "stdin",
     "output_type": "stream",
     "text": [
      "Enter a String: abhi123\n"
     ]
    },
    {
     "name": "stdout",
     "output_type": "stream",
     "text": [
      "True\n"
     ]
    }
   ],
   "source": [
    "str = input(\"Enter a String:\")\n",
    "alpha = str.isalnum()\n",
    "print(alpha)"
   ]
  },
  {
   "cell_type": "code",
   "execution_count": null,
   "id": "0928e26b-8435-4c56-b688-9416aaf6869b",
   "metadata": {},
   "outputs": [],
   "source": []
  },
  {
   "cell_type": "markdown",
   "id": "3f39cc53-ae17-4f71-8c99-45e08bd5dfab",
   "metadata": {},
   "source": [
    "### Extract all digits from a string."
   ]
  },
  {
   "cell_type": "code",
   "execution_count": 86,
   "id": "b8253ed5-2a40-4b66-90f0-37cf5ce7295c",
   "metadata": {},
   "outputs": [
    {
     "name": "stdin",
     "output_type": "stream",
     "text": [
      "enter: abhi12\n"
     ]
    },
    {
     "name": "stdout",
     "output_type": "stream",
     "text": [
      "1\n",
      "2\n"
     ]
    }
   ],
   "source": [
    "str = input(\"enter:\")\n",
    "a = str.isdigit()\n",
    "for char in str:\n",
    "    if char.isdigit():\n",
    "        print(char)\n",
    "    "
   ]
  },
  {
   "cell_type": "code",
   "execution_count": null,
   "id": "1c1fd63a-5bf7-4043-a975-a060e6e18ff7",
   "metadata": {},
   "outputs": [],
   "source": []
  },
  {
   "cell_type": "markdown",
   "id": "d1e37c71-dfb1-4f5f-8ae3-f17bd21f8b0c",
   "metadata": {},
   "source": [
    "### Extract all alphabets from a string."
   ]
  },
  {
   "cell_type": "code",
   "execution_count": 90,
   "id": "659f1e59-4516-40ce-b0e1-24519c9ca0ed",
   "metadata": {},
   "outputs": [
    {
     "name": "stdin",
     "output_type": "stream",
     "text": [
      "Enter: abhi123\n"
     ]
    },
    {
     "name": "stdout",
     "output_type": "stream",
     "text": [
      "a\n",
      "b\n",
      "h\n",
      "i\n"
     ]
    }
   ],
   "source": [
    "str = input(\"Enter:\")\n",
    "for char in str:\n",
    "    if char.isalpha():\n",
    "        print(char)"
   ]
  },
  {
   "cell_type": "code",
   "execution_count": null,
   "id": "8dd7888d-2201-4460-88f6-793d8ad268bc",
   "metadata": {},
   "outputs": [],
   "source": []
  },
  {
   "cell_type": "markdown",
   "id": "8149f4d2-9434-4ca8-a420-3cb5e2fce134",
   "metadata": {},
   "source": [
    "### Count the number of uppercase letters in a string."
   ]
  },
  {
   "cell_type": "code",
   "execution_count": 102,
   "id": "43978188-6e86-4526-9fad-010493c99b84",
   "metadata": {},
   "outputs": [
    {
     "name": "stdin",
     "output_type": "stream",
     "text": [
      "Enter a String: Abhi\n"
     ]
    },
    {
     "name": "stdout",
     "output_type": "stream",
     "text": [
      "1\n"
     ]
    }
   ],
   "source": [
    "str = input(\"Enter a String:\")\n",
    "u = sum(1 for char in str if char.isupper())\n",
    "print(u)"
   ]
  },
  {
   "cell_type": "code",
   "execution_count": null,
   "id": "b7afa0a1-3736-4c7d-b0ad-acffcceef901",
   "metadata": {},
   "outputs": [],
   "source": []
  },
  {
   "cell_type": "markdown",
   "id": "d14de5a2-e666-43cc-bb1d-c38bfc01e650",
   "metadata": {},
   "source": [
    "### Count the number of lowercase letters in a string."
   ]
  },
  {
   "cell_type": "code",
   "execution_count": 103,
   "id": "f6e8c6df-8c63-4849-961f-7d8b118336f5",
   "metadata": {},
   "outputs": [
    {
     "name": "stdin",
     "output_type": "stream",
     "text": [
      "Enter a String: Abhi\n"
     ]
    },
    {
     "name": "stdout",
     "output_type": "stream",
     "text": [
      "3\n"
     ]
    }
   ],
   "source": [
    "str = input(\"Enter a String:\")\n",
    "l = sum(1 for char in str if char.islower())\n",
    "print(l)"
   ]
  },
  {
   "cell_type": "code",
   "execution_count": null,
   "id": "d3e32daa-28e7-47df-b420-9bd4f9a6f061",
   "metadata": {},
   "outputs": [],
   "source": []
  },
  {
   "cell_type": "markdown",
   "id": "8e75a740-9d98-4313-b8c9-c584040a7e19",
   "metadata": {},
   "source": [
    "### Swap the case of each character in a string."
   ]
  },
  {
   "cell_type": "code",
   "execution_count": 104,
   "id": "da8ebe38-ba8b-412f-a17d-9e286b4392d4",
   "metadata": {},
   "outputs": [
    {
     "name": "stdin",
     "output_type": "stream",
     "text": [
      "Enter a Char: Abhi\n"
     ]
    },
    {
     "name": "stdout",
     "output_type": "stream",
     "text": [
      "aBHI\n"
     ]
    }
   ],
   "source": [
    "str = input(\"Enter a Char:\")\n",
    "a = str.swapcase()\n",
    "print(a)"
   ]
  },
  {
   "cell_type": "code",
   "execution_count": null,
   "id": "a8a915fd-0674-4d9e-9a75-a1fdecbe7646",
   "metadata": {},
   "outputs": [],
   "source": []
  },
  {
   "cell_type": "markdown",
   "id": "df2734ed-a982-40d2-a1e2-58a42b3d7158",
   "metadata": {},
   "source": [
    "### Remove a specific word from a string."
   ]
  },
  {
   "cell_type": "code",
   "execution_count": 40,
   "id": "3556215c-cb8d-4f5c-a1c7-29b9f2bbbc4a",
   "metadata": {},
   "outputs": [],
   "source": [
    "def r_w(original , w_of_r):\n",
    "    words = original.split()\n",
    "    new = (word for word in words if word!=words)\n",
    "    modfied = ''.jon(new)\n",
    "    return modified\n",
    "    \n",
    "    origonal = \"Hello world, how are you\"\n",
    "    w_of_r = \"are\"\n",
    "    result =  new(word , word_of_removal)\n",
    "    print(result)\n",
    "    "
   ]
  },
  {
   "cell_type": "code",
   "execution_count": null,
   "id": "05dbdb5f-2fbd-4a21-92c1-2036746f31fe",
   "metadata": {},
   "outputs": [],
   "source": []
  },
  {
   "cell_type": "markdown",
   "id": "2dec2bb7-2a00-4989-93b3-72b86c30c0d0",
   "metadata": {},
   "source": [
    "### Check if a string is a valid email address."
   ]
  },
  {
   "cell_type": "code",
   "execution_count": 14,
   "id": "bbe8ae11-ec15-485a-94c3-345c6f6f3b35",
   "metadata": {},
   "outputs": [
    {
     "ename": "SyntaxError",
     "evalue": "unterminated string literal (detected at line 3) (2684908997.py, line 3)",
     "output_type": "error",
     "traceback": [
      "\u001b[0;36m  Cell \u001b[0;32mIn[14], line 3\u001b[0;36m\u001b[0m\n\u001b[0;31m    pattern = r'^[example@email]\u001b[0m\n\u001b[0m              ^\u001b[0m\n\u001b[0;31mSyntaxError\u001b[0m\u001b[0;31m:\u001b[0m unterminated string literal (detected at line 3)\n"
     ]
    }
   ],
   "source": [
    "import re\n",
    "def valid_email(email):\n",
    "    pattern = r'^[\\w\\\\]\n",
    "    if re.match(pattern,email):\n",
    "        return True\n",
    "    else:\n",
    "        return False\n",
    "email1 = \"example@email.com\"\n",
    "email2 = \"invalid_email\"\n",
    "result1 = valid_email(email1)\n",
    "result2 = valid_email(email2)\n",
    "print(result1)\n",
    "print(result2)\n",
    "\n"
   ]
  },
  {
   "cell_type": "code",
   "execution_count": null,
   "id": "d93bea62-b2a8-4247-819e-d67c57745e6b",
   "metadata": {},
   "outputs": [],
   "source": []
  },
  {
   "cell_type": "markdown",
   "id": "31b981ea-1260-4bf5-afd4-4fdd9cb976e5",
   "metadata": {},
   "source": [
    "### Extract the username from an email address string."
   ]
  },
  {
   "cell_type": "code",
   "execution_count": 25,
   "id": "abe8562c-07b0-4749-8e67-b6073edbfe01",
   "metadata": {},
   "outputs": [
    {
     "name": "stdin",
     "output_type": "stream",
     "text": [
      "Enter email: abhishekkalyankar0604@gmail.com\n"
     ]
    },
    {
     "name": "stdout",
     "output_type": "stream",
     "text": [
      "abhishekkalyankar0604\n"
     ]
    }
   ],
   "source": [
    "email = input(\"Enter email:\")\n",
    "u = email.split('@')[0]\n",
    "print(u)\n"
   ]
  },
  {
   "cell_type": "markdown",
   "id": "28702095-c9d7-4a84-b6bf-ffe72ae3b4aa",
   "metadata": {},
   "source": [
    "### Extract the domain name from an email address string."
   ]
  },
  {
   "cell_type": "code",
   "execution_count": 26,
   "id": "933bd0fa-da67-4c25-8e4a-eee5bc0d5a2e",
   "metadata": {},
   "outputs": [
    {
     "name": "stdin",
     "output_type": "stream",
     "text": [
      "Enter Email: abhishekkalyankar0604@gmail.com\n"
     ]
    },
    {
     "name": "stdout",
     "output_type": "stream",
     "text": [
      "gmail.com\n"
     ]
    }
   ],
   "source": [
    "email = input(\"Enter Email:\")\n",
    "domain = email.split('@')[1]\n",
    "print(domain)"
   ]
  },
  {
   "cell_type": "code",
   "execution_count": null,
   "id": "4f0f93be-8a21-4220-904a-3b11e1d65002",
   "metadata": {},
   "outputs": [],
   "source": []
  },
  {
   "cell_type": "markdown",
   "id": "f50562cf-c35d-464f-8ee7-400f86c09b6e",
   "metadata": {},
   "source": [
    "### Replace multiple spaces in a string with a single space."
   ]
  },
  {
   "cell_type": "code",
   "execution_count": 30,
   "id": "64419b95-3644-4ac1-8cd0-863ced73cc82",
   "metadata": {},
   "outputs": [
    {
     "name": "stdin",
     "output_type": "stream",
     "text": [
      "Enter a Sring: abhi    shek     kal   yankar\n"
     ]
    },
    {
     "name": "stdout",
     "output_type": "stream",
     "text": [
      "abhishek kal yankar\n"
     ]
    }
   ],
   "source": [
    "str = input(\"Enter a Sring:\")\n",
    "a = str.replace(\"  \",\"\")\n",
    "print(a)"
   ]
  },
  {
   "cell_type": "code",
   "execution_count": null,
   "id": "68eba6d8-b110-44f3-868c-bf40ad042d44",
   "metadata": {},
   "outputs": [],
   "source": []
  },
  {
   "cell_type": "markdown",
   "id": "30a7e7cc-cfe7-4d19-84a1-9716bbffeeeb",
   "metadata": {},
   "source": [
    "### Check if a string is a valid URL."
   ]
  },
  {
   "cell_type": "code",
   "execution_count": 18,
   "id": "1cecc316-7186-4993-88ce-9d8e362cbc90",
   "metadata": {},
   "outputs": [
    {
     "name": "stdout",
     "output_type": "stream",
     "text": [
      "True\n",
      "True\n",
      "True\n",
      "True\n"
     ]
    },
    {
     "ename": "IndexError",
     "evalue": "list index out of range",
     "output_type": "error",
     "traceback": [
      "\u001b[0;31m---------------------------------------------------------------------------\u001b[0m",
      "\u001b[0;31mIndexError\u001b[0m                                Traceback (most recent call last)",
      "Cell \u001b[0;32mIn[18], line 20\u001b[0m\n\u001b[1;32m     18\u001b[0m \u001b[38;5;28mprint\u001b[39m(valid(url3))  \n\u001b[1;32m     19\u001b[0m \u001b[38;5;28mprint\u001b[39m(valid(url4)) \n\u001b[0;32m---> 20\u001b[0m \u001b[38;5;28mprint\u001b[39m(\u001b[43mvalid\u001b[49m\u001b[43m(\u001b[49m\u001b[43murl5\u001b[49m\u001b[43m)\u001b[49m)  \n\u001b[1;32m     21\u001b[0m \u001b[38;5;28mprint\u001b[39m(valid(url6))\n",
      "Cell \u001b[0;32mIn[18], line 4\u001b[0m, in \u001b[0;36mvalid\u001b[0;34m(url)\u001b[0m\n\u001b[1;32m      2\u001b[0m \u001b[38;5;28;01mif\u001b[39;00m (url\u001b[38;5;241m.\u001b[39mstartswith(\u001b[38;5;124m\"\u001b[39m\u001b[38;5;124mhttp://\u001b[39m\u001b[38;5;124m\"\u001b[39m) \u001b[38;5;129;01mor\u001b[39;00m url\u001b[38;5;241m.\u001b[39mstartswith(\u001b[38;5;124m\"\u001b[39m\u001b[38;5;124mhttps://\u001b[39m\u001b[38;5;124m\"\u001b[39m)):\n\u001b[1;32m      3\u001b[0m     \u001b[38;5;28;01mreturn\u001b[39;00m \u001b[38;5;28;01mTrue\u001b[39;00m\n\u001b[0;32m----> 4\u001b[0m url_without_prot \u001b[38;5;241m=\u001b[39m \u001b[43murl\u001b[49m\u001b[38;5;241;43m.\u001b[39;49m\u001b[43msplit\u001b[49m\u001b[43m(\u001b[49m\u001b[38;5;124;43m\"\u001b[39;49m\u001b[38;5;124;43m://\u001b[39;49m\u001b[38;5;124;43m\"\u001b[39;49m\u001b[43m)\u001b[49m\u001b[43m[\u001b[49m\u001b[38;5;241;43m1\u001b[39;49m\u001b[43m]\u001b[49m\n\u001b[1;32m      5\u001b[0m \u001b[38;5;28;01mif\u001b[39;00m \u001b[38;5;124m'\u001b[39m\u001b[38;5;124m.\u001b[39m\u001b[38;5;124m'\u001b[39m \u001b[38;5;129;01mnot\u001b[39;00m \u001b[38;5;129;01min\u001b[39;00m url_without_prot:\n\u001b[1;32m      6\u001b[0m         \u001b[38;5;28;01mreturn\u001b[39;00m false\n",
      "\u001b[0;31mIndexError\u001b[0m: list index out of range"
     ]
    }
   ],
   "source": [
    "def valid(url):\n",
    "    if (url.startswith(\"http://\") or url.startswith(\"https://\")):\n",
    "        return True\n",
    "    url_without_prot = url.split(\"://\")[1]\n",
    "    if '.' not in url_without_prot:\n",
    "            return false\n",
    "    return True\n",
    "\n",
    "url1 = \"http://example.com\"\n",
    "url2 = \"https://www.example.com/path/to/page\"\n",
    "url3 = \"ftp://example.com\"\n",
    "url4 = \"http://example\"\n",
    "url5 = \"example.com\"\n",
    "url6 = \"https://example.com\"\n",
    "\n",
    "print(valid(url1))\n",
    "print(valid(url2))  \n",
    "print(valid(url3))  \n",
    "print(valid(url4)) \n",
    "print(valid(url5))  \n",
    "print(valid(url6))"
   ]
  },
  {
   "cell_type": "code",
   "execution_count": null,
   "id": "8f1a3f1b-9a4a-4044-8067-13d0d94c0f02",
   "metadata": {},
   "outputs": [],
   "source": []
  },
  {
   "cell_type": "markdown",
   "id": "60ed20e9-b4a5-4ef4-9b0e-220c5981a55b",
   "metadata": {},
   "source": [
    "### Extract the protocol (http or https) from a URL string."
   ]
  },
  {
   "cell_type": "code",
   "execution_count": 44,
   "id": "ec912fce-a8fe-45bb-9a8e-23da251f271d",
   "metadata": {},
   "outputs": [
    {
     "name": "stdout",
     "output_type": "stream",
     "text": [
      "http\n",
      "None\n",
      "https\n",
      "None\n",
      "None\n"
     ]
    }
   ],
   "source": [
    "def protocol(url):\n",
    "    if url.startswith(\"http://\"):\n",
    "        print(\"http\")\n",
    "    elif url.startswith(\"https://\"):\n",
    "        print(\"https\")\n",
    "    else:\n",
    "              return None \n",
    "\n",
    "url1 = \"http://example.com\"\n",
    "url2 = \"https://exampleno2.com\"\n",
    "url3 = \"ftp//example.com\"\n",
    "\n",
    "print(protocol(url1))\n",
    "print(protocol(url2))\n",
    "print(protocol(url3))"
   ]
  },
  {
   "cell_type": "code",
   "execution_count": null,
   "id": "6252fb3c-a9d9-4c2a-ba1f-4a1a99748422",
   "metadata": {},
   "outputs": [],
   "source": []
  },
  {
   "cell_type": "code",
   "execution_count": null,
   "id": "977624a3-c207-45ae-8977-9143094d5dea",
   "metadata": {},
   "outputs": [],
   "source": []
  },
  {
   "cell_type": "code",
   "execution_count": null,
   "id": "e69ffd62-336f-4afd-b25b-5c706b696961",
   "metadata": {},
   "outputs": [],
   "source": []
  },
  {
   "cell_type": "markdown",
   "id": "041d076c-01c0-4fe9-9bf6-3930c6df14b5",
   "metadata": {},
   "source": [
    "### Find the frequency of each character in a string."
   ]
  },
  {
   "cell_type": "code",
   "execution_count": null,
   "id": "a8b0dd36-604b-4acd-bc76-792c9e24a964",
   "metadata": {},
   "outputs": [],
   "source": []
  },
  {
   "cell_type": "code",
   "execution_count": null,
   "id": "689bc769-45e0-4d9d-ab06-f3c4bf0d620b",
   "metadata": {},
   "outputs": [],
   "source": []
  },
  {
   "cell_type": "markdown",
   "id": "bcbda750-9905-4ce1-9f3a-79bb3ed1ba08",
   "metadata": {},
   "source": [
    "### Remove all punctuation from a string."
   ]
  },
  {
   "cell_type": "code",
   "execution_count": 25,
   "id": "ca092241-59ef-461c-aa43-17d647b12892",
   "metadata": {},
   "outputs": [
    {
     "name": "stdout",
     "output_type": "stream",
     "text": [
      "{33: None, 34: None, 35: None, 36: None, 37: None, 38: None, 39: None, 40: None, 41: None, 42: None, 43: None, 44: None, 45: None, 46: None, 47: None, 58: None, 59: None, 60: None, 61: None, 62: None, 63: None, 64: None, 91: None, 92: None, 93: None, 94: None, 95: None, 96: None, 123: None, 124: None, 125: None, 126: None}\n",
      "original string: Hello, world! How's it going?\n",
      "cleaned string: Hello world Hows it going\n"
     ]
    }
   ],
   "source": [
    "import string\n",
    "def remove_pun(input_string):\n",
    "    translator = input_str.maketrans(\"\",\"\", string.punctuation)\n",
    "    print(translator)\n",
    "    \n",
    "    clean_string = input_str.translate(translator)\n",
    "    return clean_string\n",
    "    \n",
    "input_str = \"Hello, world! How's it going?\"\n",
    "cleaned_str = remove_pun(input_str)\n",
    "print(\"original string:\" , input_str)\n",
    "print(\"cleaned string:\" , cleaned_str)"
   ]
  },
  {
   "cell_type": "code",
   "execution_count": null,
   "id": "a9f67b35-6ff8-404b-98b2-821650db277c",
   "metadata": {},
   "outputs": [],
   "source": []
  },
  {
   "cell_type": "markdown",
   "id": "5c54d2cf-4fd9-406c-aa1f-866e66e463fb",
   "metadata": {},
   "source": [
    "### Check if a string contains only digits."
   ]
  },
  {
   "cell_type": "code",
   "execution_count": 27,
   "id": "2be5c721-8fca-4896-b045-97c717191653",
   "metadata": {},
   "outputs": [
    {
     "name": "stdin",
     "output_type": "stream",
     "text": [
      "Enter a String: 1234\n"
     ]
    },
    {
     "name": "stdout",
     "output_type": "stream",
     "text": [
      "True\n"
     ]
    }
   ],
   "source": [
    "str = input(\"Enter a String:\")\n",
    "a = str.isdigit()\n",
    "print(a)"
   ]
  },
  {
   "cell_type": "code",
   "execution_count": null,
   "id": "ffb4ed39-a7d1-4f38-9866-010515b02596",
   "metadata": {},
   "outputs": [],
   "source": []
  },
  {
   "cell_type": "markdown",
   "id": "2ffe0dc0-2389-4901-b19d-9999f234cc7e",
   "metadata": {},
   "source": [
    "### Check if a string contains only alphabets."
   ]
  },
  {
   "cell_type": "code",
   "execution_count": 28,
   "id": "a5214978-2c77-41c9-8777-8e6a4ca2e5d4",
   "metadata": {},
   "outputs": [
    {
     "name": "stdin",
     "output_type": "stream",
     "text": [
      "Enter a String abhi\n"
     ]
    },
    {
     "name": "stdout",
     "output_type": "stream",
     "text": [
      "True\n"
     ]
    }
   ],
   "source": [
    "str = input(\"Enter a String\")\n",
    "a = str.isalpha()\n",
    "print(a)"
   ]
  },
  {
   "cell_type": "code",
   "execution_count": null,
   "id": "5258fd01-238b-4a6c-9a14-f6578e19b070",
   "metadata": {},
   "outputs": [],
   "source": []
  },
  {
   "cell_type": "markdown",
   "id": "d978e4a6-e1f0-4147-8f61-9fc7a1ef69d1",
   "metadata": {},
   "source": [
    "### Convert a string to a list of characters."
   ]
  },
  {
   "cell_type": "code",
   "execution_count": 42,
   "id": "22d979f7-1ddb-4575-820b-da66c24b98eb",
   "metadata": {},
   "outputs": [
    {
     "name": "stdin",
     "output_type": "stream",
     "text": [
      "Enter a String: \n"
     ]
    },
    {
     "name": "stdout",
     "output_type": "stream",
     "text": [
      "\n"
     ]
    }
   ],
   "source": [
    "str = input(\"Enter a String:\")\n",
    "print(str)\n",
    "for char in str:\n",
    "    print(creplacer)"
   ]
  },
  {
   "cell_type": "code",
   "execution_count": null,
   "id": "10120996-c70e-491a-be5d-4f217b3f04e0",
   "metadata": {},
   "outputs": [],
   "source": []
  },
  {
   "cell_type": "markdown",
   "id": "38305fb2-8454-4ba8-8113-766c7e64d9a0",
   "metadata": {},
   "source": [
    "### Check if two strings are anagrams."
   ]
  },
  {
   "cell_type": "code",
   "execution_count": 10,
   "id": "44dd44b1-1a76-4dd9-bf2e-02331d1e9009",
   "metadata": {},
   "outputs": [
    {
     "name": "stdout",
     "output_type": "stream",
     "text": [
      "'listen' and 'silent' are anagrams: True\n",
      "'Hello' and 'world' are anagrams: False\n"
     ]
    }
   ],
   "source": [
    "def are_anagrams(str1, str2):\n",
    "    str1 = str1.replace(\" \" , \"\").lower()\n",
    "    str2 = str2.replace(\" \", \"\").lower()\n",
    "    return sorted (str1) == sorted(str2)\n",
    "string1 = \"listen\"\n",
    "string2 = \"silent\"\n",
    "string3 = \"Hello\"\n",
    "string4 = \"world\"\n",
    "\n",
    "result1 = are_anagrams(string1, string2)\n",
    "result2 = are_anagrams(string3, string4)\n",
    "print (f\"'{string1}' and '{string2}' are anagrams:\", result1)\n",
    "print (f\"'{string3}' and '{string4}' are anagrams:\", result2)"
   ]
  },
  {
   "cell_type": "code",
   "execution_count": null,
   "id": "cd1c6b16-074c-43ec-87bf-609f9e861f13",
   "metadata": {},
   "outputs": [],
   "source": []
  },
  {
   "cell_type": "markdown",
   "id": "324b9504-54a6-4fe4-ac22-e7c672c87114",
   "metadata": {},
   "source": [
    "### Encode a string using a Caesar cipher."
   ]
  },
  {
   "cell_type": "code",
   "execution_count": null,
   "id": "9d499b03-e62d-47ee-b4ff-b43d6c17614f",
   "metadata": {},
   "outputs": [],
   "source": []
  },
  {
   "cell_type": "code",
   "execution_count": null,
   "id": "403c02c4-902a-4248-8814-7ae688a4cf24",
   "metadata": {},
   "outputs": [],
   "source": []
  },
  {
   "cell_type": "markdown",
   "id": "45c0fc24-e388-48ea-aca9-2d62a2632cbb",
   "metadata": {},
   "source": [
    "# List Based Practice Problem :"
   ]
  },
  {
   "cell_type": "markdown",
   "id": "189cf39d-049a-4adf-95be-aa902c3d0735",
   "metadata": {},
   "source": [
    "### Create a list with integers from 1 to 10."
   ]
  },
  {
   "cell_type": "code",
   "execution_count": 1,
   "id": "58067cf2-6503-43e4-ab86-803bdc00bd07",
   "metadata": {},
   "outputs": [
    {
     "name": "stdout",
     "output_type": "stream",
     "text": [
      "[1, 2, 3, 4, 5, 6, 7, 8, 9, 10]\n"
     ]
    }
   ],
   "source": [
    "list = [i for i in range(1,11)]\n",
    "print(list)"
   ]
  },
  {
   "cell_type": "code",
   "execution_count": null,
   "id": "599fdfba-82de-407e-990d-faaa0020a313",
   "metadata": {},
   "outputs": [],
   "source": []
  },
  {
   "cell_type": "markdown",
   "id": "61a517ca-f997-4397-8a0e-75c8ce26b912",
   "metadata": {},
   "source": [
    "### Find the length of a list without using the `len()` function."
   ]
  },
  {
   "cell_type": "code",
   "execution_count": 33,
   "id": "1570e551-5e3a-492d-9256-7d9f91fc4c3f",
   "metadata": {},
   "outputs": [
    {
     "name": "stdout",
     "output_type": "stream",
     "text": [
      "6\n"
     ]
    }
   ],
   "source": [
    "def my_l(l):\n",
    "    count = 0\n",
    "    for _ in l:\n",
    "        count += 1\n",
    "    return count\n",
    "\n",
    "l1 = [1,2,3,4,5,6]\n",
    "print(my_l(l1))"
   ]
  },
  {
   "cell_type": "code",
   "execution_count": null,
   "id": "ca7c2f8d-18c3-4406-a747-fc0aaa3f3943",
   "metadata": {},
   "outputs": [],
   "source": []
  },
  {
   "cell_type": "markdown",
   "id": "f79fe14f-caef-4be7-9621-bf8c818ee2bf",
   "metadata": {},
   "source": [
    "### Append an element to the end of a list."
   ]
  },
  {
   "cell_type": "code",
   "execution_count": 37,
   "id": "d37ed87e-83ef-4716-aaff-3bf65a1ddf11",
   "metadata": {},
   "outputs": [
    {
     "name": "stdout",
     "output_type": "stream",
     "text": [
      "[1, 2, 3, 4, 5, 40]\n"
     ]
    }
   ],
   "source": [
    "my_list = [1,2,3,4,5]\n",
    "new_ele = 40\n",
    "my_list.append(new_ele)\n",
    "\n",
    "print(my_list)"
   ]
  },
  {
   "cell_type": "code",
   "execution_count": null,
   "id": "fb359982-8bd7-413f-8cc1-73d55ed4be3f",
   "metadata": {},
   "outputs": [],
   "source": []
  },
  {
   "cell_type": "markdown",
   "id": "c56284d1-c11e-4a8f-8511-825099fd4428",
   "metadata": {},
   "source": [
    "### Insert an element at a specific index in a list."
   ]
  },
  {
   "cell_type": "code",
   "execution_count": 39,
   "id": "05d811b8-db26-4dd0-964e-798fbf88e0ab",
   "metadata": {},
   "outputs": [
    {
     "name": "stdout",
     "output_type": "stream",
     "text": [
      "[1, 2, 3, 5, 4, 5]\n"
     ]
    }
   ],
   "source": [
    "list = [1,2, 3, 4, 5]\n",
    "list.insert(3 , 5)\n",
    "print(list)"
   ]
  },
  {
   "cell_type": "code",
   "execution_count": null,
   "id": "1786f12c-fbd8-41f8-8596-2876baea5a4b",
   "metadata": {},
   "outputs": [],
   "source": []
  },
  {
   "cell_type": "markdown",
   "id": "de69299c-5eed-477c-87b4-dc51cea44a26",
   "metadata": {},
   "source": [
    "### Remove an element from a list by its value."
   ]
  },
  {
   "cell_type": "code",
   "execution_count": 92,
   "id": "73e80a78-3715-4bfe-94d4-9429a8a5422f",
   "metadata": {},
   "outputs": [
    {
     "name": "stdout",
     "output_type": "stream",
     "text": [
      "[1, 2, 3, 4, 5, 6]\n"
     ]
    },
    {
     "name": "stdin",
     "output_type": "stream",
     "text": [
      "Enter item: 3\n"
     ]
    },
    {
     "name": "stdout",
     "output_type": "stream",
     "text": [
      "Yes\n",
      "new list is: [1, 2, 4, 5, 6]\n"
     ]
    }
   ],
   "source": [
    "list = [1,2,3,4,5,6]\n",
    "print(list)\n",
    "element_to_remove = int(input(\"Enter item:\"))\n",
    "if element_to_remove in list:\n",
    "    print(\"Yes\")\n",
    "else:\n",
    "    print(\"No\" , element_to_remove)\n",
    "list.remove(element_to_remove)\n",
    "print(\"new list is:\",list)"
   ]
  },
  {
   "cell_type": "code",
   "execution_count": null,
   "id": "97be634c-e8f0-4506-b996-d357c124b02c",
   "metadata": {},
   "outputs": [],
   "source": []
  },
  {
   "cell_type": "markdown",
   "id": "77dc2247-7c2b-4dbb-846a-a09c3e9ca231",
   "metadata": {},
   "source": [
    "### Remove an element from a list by its index."
   ]
  },
  {
   "cell_type": "code",
   "execution_count": 3,
   "id": "a6f34932-dafd-49c5-965b-7a5d4be3bbef",
   "metadata": {},
   "outputs": [
    {
     "name": "stdout",
     "output_type": "stream",
     "text": [
      "[1, 2, 4, 5, 6]\n"
     ]
    }
   ],
   "source": [
    "list = [1,2,3,4,5,6]\n",
    "list.pop(2)\n",
    "print(list)"
   ]
  },
  {
   "cell_type": "code",
   "execution_count": null,
   "id": "285c2cda-acf3-4ffc-9409-3adfb91d14a6",
   "metadata": {},
   "outputs": [],
   "source": []
  },
  {
   "cell_type": "markdown",
   "id": "ee1669d7-8f6e-4aa0-bb7f-ad6132dfdf23",
   "metadata": {},
   "source": [
    "### Check if an element exists in a list."
   ]
  },
  {
   "cell_type": "code",
   "execution_count": 11,
   "id": "0456de11-a1b4-42a5-837e-fa0402262c76",
   "metadata": {},
   "outputs": [
    {
     "name": "stdin",
     "output_type": "stream",
     "text": [
      "Enter a number: 9\n"
     ]
    },
    {
     "name": "stdout",
     "output_type": "stream",
     "text": [
      "Element does not exist\n"
     ]
    }
   ],
   "source": [
    "list = [1,2,3,4,5,6]\n",
    "check = int(input(\"Enter a number:\"))\n",
    "if check in list:\n",
    "     print(\"Element exist in list\")\n",
    "else:\n",
    "     print(\"Element does not exist\")"
   ]
  },
  {
   "cell_type": "code",
   "execution_count": null,
   "id": "82cefdd9-0952-4c28-95ad-29b571feec07",
   "metadata": {},
   "outputs": [],
   "source": []
  },
  {
   "cell_type": "markdown",
   "id": "ebb4f196-933c-4c01-9a86-1b229e1a5863",
   "metadata": {},
   "source": [
    "### Find the index of the first occurrence of an element in a list."
   ]
  },
  {
   "cell_type": "code",
   "execution_count": 20,
   "id": "196568d9-0841-4d24-894e-f3d2a240f307",
   "metadata": {},
   "outputs": [
    {
     "name": "stdin",
     "output_type": "stream",
     "text": [
      "Enter an element to find: 3\n"
     ]
    },
    {
     "name": "stdout",
     "output_type": "stream",
     "text": [
      "The index of: 3 is 2\n"
     ]
    }
   ],
   "source": [
    "list = [1,2,3,4,5,6]\n",
    "find = int(input(\"Enter an element to find:\"))\n",
    "a = list.index(find)\n",
    "print(\"The index of:\",find,\"is\",a)"
   ]
  },
  {
   "cell_type": "code",
   "execution_count": null,
   "id": "b8ff8644-47ff-45b6-ae60-5f3bdda7d203",
   "metadata": {},
   "outputs": [],
   "source": []
  },
  {
   "cell_type": "markdown",
   "id": "6f44a4f9-66e3-42ac-a4b3-e1b1a213647a",
   "metadata": {},
   "source": [
    "### Count the occurrences of an element in a list."
   ]
  },
  {
   "cell_type": "code",
   "execution_count": 23,
   "id": "989a0b3c-53aa-4d22-b438-50ade94ab956",
   "metadata": {},
   "outputs": [
    {
     "name": "stdin",
     "output_type": "stream",
     "text": [
      "Enter an element to count: 2\n"
     ]
    },
    {
     "name": "stdout",
     "output_type": "stream",
     "text": [
      "The element 2 occurs 3 times\n"
     ]
    }
   ],
   "source": [
    "list = [1,2,3,4,5,6,2,2,3]\n",
    "element_to_count = int(input(\"Enter an element to count:\"))\n",
    "count = list.count(element_to_count)\n",
    "print(\"The element\",element_to_count, \"occurs\",count , \"times\")"
   ]
  },
  {
   "cell_type": "code",
   "execution_count": null,
   "id": "e39a687a-5047-4a0f-9183-010c6a185d05",
   "metadata": {},
   "outputs": [],
   "source": []
  },
  {
   "cell_type": "markdown",
   "id": "ae6981be-601b-4196-90a6-8b45ea0d320d",
   "metadata": {},
   "source": [
    "### Reverse the order of elements in a list."
   ]
  },
  {
   "cell_type": "code",
   "execution_count": 2,
   "id": "2237a255-b3eb-4329-b86f-1d369d044259",
   "metadata": {},
   "outputs": [
    {
     "name": "stdout",
     "output_type": "stream",
     "text": [
      "[6, 5, 4, 3, 2, 1]\n"
     ]
    }
   ],
   "source": [
    "list = [1,2,3,4,5,6]\n",
    "list.reverse()\n",
    "print(list)"
   ]
  },
  {
   "cell_type": "code",
   "execution_count": null,
   "id": "36c50f8e-c632-49ae-864c-0eb8ba0b4986",
   "metadata": {},
   "outputs": [],
   "source": []
  },
  {
   "cell_type": "markdown",
   "id": "040f1e27-347e-45d7-a15a-a5a7bff79dd6",
   "metadata": {},
   "source": [
    "### Sort a list in ascending order."
   ]
  },
  {
   "cell_type": "code",
   "execution_count": 5,
   "id": "8165e927-eede-4575-a054-48b513fb67f1",
   "metadata": {},
   "outputs": [
    {
     "name": "stdout",
     "output_type": "stream",
     "text": [
      "[1, 2, 3, 5, 6, 7, 34, 65, 78]\n"
     ]
    }
   ],
   "source": [
    "list = [1,2,34,5,6,78,7,65,3]\n",
    "list.sort()\n",
    "print(list)"
   ]
  },
  {
   "cell_type": "code",
   "execution_count": null,
   "id": "713c8a88-c48f-48e0-bd4b-1aab8f2bfa79",
   "metadata": {},
   "outputs": [],
   "source": []
  },
  {
   "cell_type": "markdown",
   "id": "672d4278-30fc-4af5-a17f-7dd607beefbe",
   "metadata": {},
   "source": [
    "#### Sort a list in descending order."
   ]
  },
  {
   "cell_type": "code",
   "execution_count": 8,
   "id": "6ecd326d-0289-458c-bdcf-7a07c7bb4ff1",
   "metadata": {},
   "outputs": [
    {
     "name": "stdout",
     "output_type": "stream",
     "text": [
      "[9, 8, 7, 6, 5, 4, 3, 2, 1]\n"
     ]
    }
   ],
   "source": [
    "list = [1,2,3,4,5,6,7,8,9]\n",
    "list.sort(reverse = True)\n",
    "print(list)"
   ]
  },
  {
   "cell_type": "code",
   "execution_count": null,
   "id": "c970a734-b8ee-43f3-b18b-d144aa8c6bb2",
   "metadata": {},
   "outputs": [],
   "source": []
  },
  {
   "cell_type": "markdown",
   "id": "5a728eb8-15e5-4cf2-8a17-bad59b0f1421",
   "metadata": {},
   "source": [
    "### Create a list of even numbers from 1 to 20."
   ]
  },
  {
   "cell_type": "code",
   "execution_count": 37,
   "id": "3a39aeb9-05aa-4efc-8f7a-6249c6f560b8",
   "metadata": {},
   "outputs": [
    {
     "name": "stdout",
     "output_type": "stream",
     "text": [
      "even numbers: [2, 4, 6, 8, 10, 12, 14, 16, 18, 20]\n"
     ]
    }
   ],
   "source": [
    "even = [x for x in range(2,21,2)]\n",
    "print(\"even numbers:\",even)"
   ]
  },
  {
   "cell_type": "code",
   "execution_count": null,
   "id": "7c3bec39-d278-4e1c-ac39-157b2b0cd223",
   "metadata": {},
   "outputs": [],
   "source": []
  },
  {
   "cell_type": "markdown",
   "id": "85c991a3-94e3-4419-96c2-6bd58f3642e0",
   "metadata": {},
   "source": [
    "### Create a list of odd numbers from 1 to 20."
   ]
  },
  {
   "cell_type": "code",
   "execution_count": 36,
   "id": "d3c07d1d-93b5-4972-b090-428d2a1d3e00",
   "metadata": {},
   "outputs": [
    {
     "name": "stdout",
     "output_type": "stream",
     "text": [
      "odd numbers: [1, 3, 5, 7, 9, 11, 13, 15, 17, 19]\n"
     ]
    }
   ],
   "source": [
    "odd = [x for x in range(1,21,2)]\n",
    "print(\"odd numbers:\",odd)"
   ]
  },
  {
   "cell_type": "code",
   "execution_count": null,
   "id": "067272b8-3ff3-4bca-9ca4-69a84d7e0fc1",
   "metadata": {},
   "outputs": [],
   "source": []
  },
  {
   "cell_type": "markdown",
   "id": "910b8da1-2228-44f7-9746-d770b082e58c",
   "metadata": {},
   "source": [
    "### Find the sum of all elements in a list."
   ]
  },
  {
   "cell_type": "code",
   "execution_count": 42,
   "id": "d88b8025-544e-4e55-b11a-e0fb5991dae5",
   "metadata": {},
   "outputs": [
    {
     "name": "stdout",
     "output_type": "stream",
     "text": [
      "15\n"
     ]
    }
   ],
   "source": [
    "list = [1,2,3,4,5]\n",
    "a = sum(list)\n",
    "print(a)"
   ]
  },
  {
   "cell_type": "code",
   "execution_count": null,
   "id": "60fb89b2-4226-4e0d-9657-e3f8272a5d71",
   "metadata": {},
   "outputs": [],
   "source": []
  },
  {
   "cell_type": "markdown",
   "id": "dd99c327-72e0-409a-9b3d-dee0e38aeb31",
   "metadata": {},
   "source": [
    "### Find the maximum value in a list."
   ]
  },
  {
   "cell_type": "code",
   "execution_count": 44,
   "id": "4149a0a0-19e1-4975-83e1-e817e706f538",
   "metadata": {},
   "outputs": [
    {
     "name": "stdout",
     "output_type": "stream",
     "text": [
      "13\n"
     ]
    }
   ],
   "source": [
    "list = [1,2,13,4,5,6]\n",
    "max_val = max(list)\n",
    "print(max_val)"
   ]
  },
  {
   "cell_type": "code",
   "execution_count": null,
   "id": "c1394b87-2ab4-4d82-a594-cf482cfe63f0",
   "metadata": {},
   "outputs": [],
   "source": []
  },
  {
   "cell_type": "markdown",
   "id": "8c59b7ff-3b16-4df1-9384-e8dded50c330",
   "metadata": {},
   "source": [
    "### Find the minimum value in a list."
   ]
  },
  {
   "cell_type": "code",
   "execution_count": 45,
   "id": "6e68bd64-0e5a-47ea-b61b-66d8e9f1dc62",
   "metadata": {},
   "outputs": [
    {
     "name": "stdout",
     "output_type": "stream",
     "text": [
      "1\n"
     ]
    }
   ],
   "source": [
    "list = [1,2,3,4,5,6,7,89]\n",
    "min_val = min(list)\n",
    "print(min_val)"
   ]
  },
  {
   "cell_type": "code",
   "execution_count": null,
   "id": "40b54574-5a77-465a-9ea1-535bd854c646",
   "metadata": {},
   "outputs": [],
   "source": []
  },
  {
   "cell_type": "markdown",
   "id": "e9a81b9d-6ba8-421d-a78f-bb16713060b6",
   "metadata": {},
   "source": [
    "### Create a list of squares of numbers from 1 to 10."
   ]
  },
  {
   "cell_type": "code",
   "execution_count": 54,
   "id": "a34f024b-586a-4431-ab03-6e451d027652",
   "metadata": {},
   "outputs": [
    {
     "name": "stdout",
     "output_type": "stream",
     "text": [
      "[1, 4, 9, 16, 25, 36, 49, 64, 81, 100]\n"
     ]
    }
   ],
   "source": [
    "list = [x**2 for x in range (1,11,1)] \n",
    "print(list)\n",
    "\n"
   ]
  },
  {
   "cell_type": "code",
   "execution_count": null,
   "id": "3beed308-4479-4dc3-a0d8-aba4270be06c",
   "metadata": {},
   "outputs": [],
   "source": []
  },
  {
   "cell_type": "markdown",
   "id": "f1ba3283-05a2-453f-9eed-e45cbcfe2c7b",
   "metadata": {},
   "source": [
    "### Create a list of random numbers."
   ]
  },
  {
   "cell_type": "code",
   "execution_count": 62,
   "id": "ec6d6a88-25ae-4bdb-8d09-a3f65de7a0c7",
   "metadata": {},
   "outputs": [
    {
     "name": "stdout",
     "output_type": "stream",
     "text": [
      "[35, 52, 13, 67, 54, 30, 32, 39, 99, 11]\n"
     ]
    }
   ],
   "source": [
    "import random\n",
    "\n",
    "list = [random.randint(1,100) for char in range(10)]\n",
    "print(list)"
   ]
  },
  {
   "cell_type": "code",
   "execution_count": null,
   "id": "3bfcbbf7-204f-4453-a55c-3df91607b73a",
   "metadata": {},
   "outputs": [],
   "source": []
  },
  {
   "cell_type": "markdown",
   "id": "faf360e2-7f82-4b84-9af1-908c03ca4551",
   "metadata": {},
   "source": [
    "### Remove duplicates from a list."
   ]
  },
  {
   "cell_type": "code",
   "execution_count": 63,
   "id": "ecf20b8c-357c-4152-97d9-167437eaa3db",
   "metadata": {},
   "outputs": [
    {
     "name": "stdout",
     "output_type": "stream",
     "text": [
      "{1, 2, 3, 4, 5, 6}\n"
     ]
    }
   ],
   "source": [
    "list = [1,2,3,4,1,2,5,6,3,1]\n",
    "unique = set(list)\n",
    "print(unique)"
   ]
  },
  {
   "cell_type": "code",
   "execution_count": null,
   "id": "88b8f4e5-2ae2-478d-b54e-585a1143365c",
   "metadata": {},
   "outputs": [],
   "source": []
  },
  {
   "cell_type": "markdown",
   "id": "3bad695d-96af-4da9-8991-b2cf4c907a7f",
   "metadata": {},
   "source": [
    "### Find the common elements between two lists."
   ]
  },
  {
   "cell_type": "code",
   "execution_count": 70,
   "id": "a012d21f-712b-42da-a247-227c5f4ae3dd",
   "metadata": {},
   "outputs": [
    {
     "name": "stdout",
     "output_type": "stream",
     "text": [
      "{1, 2, 4, 6, 7}\n"
     ]
    }
   ],
   "source": [
    "l1 = [1,2,3,4,5,6,7,8]\n",
    "l2 = [1,2,45,67,44,34,6,7,4,]\n",
    "l3 = set(l1) & set(l2)\n",
    "print(l3)"
   ]
  },
  {
   "cell_type": "code",
   "execution_count": null,
   "id": "186b08af-01d6-4fe5-9dcb-d0de5f4e636a",
   "metadata": {},
   "outputs": [],
   "source": []
  },
  {
   "cell_type": "markdown",
   "id": "e28c337e-08e9-409c-b7eb-e833a12e3029",
   "metadata": {},
   "source": [
    "### Find the difference between two lists."
   ]
  },
  {
   "cell_type": "code",
   "execution_count": 73,
   "id": "cfdb2fae-0482-4d58-925d-632dac4ef439",
   "metadata": {},
   "outputs": [
    {
     "name": "stdout",
     "output_type": "stream",
     "text": [
      "{4, 5}\n"
     ]
    }
   ],
   "source": [
    "l1 = [1,2,3,4,5,6]\n",
    "l2 = [8,6,54,3,2,1]\n",
    "diff = set(l1)-set(l2)\n",
    "print(diff)"
   ]
  },
  {
   "cell_type": "code",
   "execution_count": null,
   "id": "ea8be7bd-b84f-41cd-b589-1ef6556d604c",
   "metadata": {},
   "outputs": [],
   "source": []
  },
  {
   "cell_type": "markdown",
   "id": "86f4454d-d175-44c4-bbd9-100f938cd01f",
   "metadata": {},
   "source": [
    "### Merge two lists."
   ]
  },
  {
   "cell_type": "code",
   "execution_count": 77,
   "id": "d455c96d-c178-43b0-b9c9-8c24be2ff6e9",
   "metadata": {},
   "outputs": [
    {
     "name": "stdout",
     "output_type": "stream",
     "text": [
      "[1, 2, 34, 4, 5, 6, 5, 78, 5, 3, 45]\n"
     ]
    }
   ],
   "source": [
    "l1 = [1,2,34,4,5]\n",
    "l2 = [6,5,78,5,3,45]\n",
    "l3 = l1+l2\n",
    "print(l3)"
   ]
  },
  {
   "cell_type": "code",
   "execution_count": null,
   "id": "c391732c-d4e2-4dc2-bd96-4b26632918d1",
   "metadata": {},
   "outputs": [],
   "source": []
  },
  {
   "cell_type": "markdown",
   "id": "159b6d7f-ae5d-42be-b52d-3bb0c3962ff4",
   "metadata": {},
   "source": [
    "### Multiply all elements in a list by 2."
   ]
  },
  {
   "cell_type": "code",
   "execution_count": 81,
   "id": "9c3f7166-0d4c-46fb-882a-51ea407af740",
   "metadata": {},
   "outputs": [
    {
     "name": "stdout",
     "output_type": "stream",
     "text": [
      "[2, 4, 6, 8, 10, 12, 14, 16, 18, 0]\n"
     ]
    }
   ],
   "source": [
    "l1 = [1,2,3,4,5,6,7,8,9,0]\n",
    "l2 = [x*2 for x in l1]\n",
    "print(l2)"
   ]
  },
  {
   "cell_type": "code",
   "execution_count": null,
   "id": "bb97b246-f527-4d6e-b594-cab209d36126",
   "metadata": {},
   "outputs": [],
   "source": []
  },
  {
   "cell_type": "markdown",
   "id": "72315bfe-2bc9-4cb9-be7a-9662488491f8",
   "metadata": {},
   "source": [
    "### Filter out all even numbers from a list."
   ]
  },
  {
   "cell_type": "code",
   "execution_count": 86,
   "id": "6181b653-4ebb-4618-8cc4-008958f46bda",
   "metadata": {},
   "outputs": [
    {
     "name": "stdout",
     "output_type": "stream",
     "text": [
      "even numbers: [2, 4, 6, 8, 0]\n"
     ]
    }
   ],
   "source": [
    "l1 = [1,2,3,4,5,6,7,8,9,0]\n",
    "l2 = [x for x in l1 if x%2 == 0]\n",
    "print(\"even numbers:\",l2)"
   ]
  },
  {
   "cell_type": "code",
   "execution_count": null,
   "id": "d7cf9af9-a15c-4de2-af27-ebfc2ed6cefb",
   "metadata": {},
   "outputs": [],
   "source": []
  },
  {
   "cell_type": "markdown",
   "id": "4bc269b1-f928-4a33-8ab0-3a33cfb69bf3",
   "metadata": {},
   "source": [
    "### Convert a list of strings to a list of integers."
   ]
  },
  {
   "cell_type": "code",
   "execution_count": 87,
   "id": "acfeac3f-05b7-4a5f-8a0d-7888ee982a18",
   "metadata": {},
   "outputs": [
    {
     "name": "stdout",
     "output_type": "stream",
     "text": [
      "[1, 2, 3, 4, 5, 6]\n"
     ]
    }
   ],
   "source": [
    "str = [\"1\",\"2\",\"3\",\"4\",\"5\",\"6\"]\n",
    "int = [int(x) for x in str]\n",
    "print(int)\n"
   ]
  },
  {
   "cell_type": "code",
   "execution_count": null,
   "id": "5a33e167-8e4f-4677-8967-7527efca86a0",
   "metadata": {},
   "outputs": [],
   "source": []
  },
  {
   "cell_type": "markdown",
   "id": "851d7b35-739a-4788-bbd3-46a41a33d5d3",
   "metadata": {},
   "source": [
    "### Convert a list of integers to a list of strings."
   ]
  },
  {
   "cell_type": "code",
   "execution_count": 2,
   "id": "b97946fb-740a-44f8-9ae7-b65fb405c2b6",
   "metadata": {},
   "outputs": [
    {
     "name": "stdout",
     "output_type": "stream",
     "text": [
      "['1', '2', '3', '4', '5']\n"
     ]
    }
   ],
   "source": [
    "int_list = [1,2,3,4,5]\n",
    "\n",
    "string_list = [str(num) for num in int_list]\n",
    "\n",
    "print(string_list)"
   ]
  },
  {
   "cell_type": "code",
   "execution_count": null,
   "id": "1d05fc10-6833-4149-bec5-e4f416ee595e",
   "metadata": {},
   "outputs": [],
   "source": []
  },
  {
   "cell_type": "markdown",
   "id": "608b4cf9-9766-4b5f-bfb2-c7bc73f677c9",
   "metadata": {},
   "source": [
    "### Flatten a nested list."
   ]
  },
  {
   "cell_type": "code",
   "execution_count": null,
   "id": "53d039d6-dcab-4122-9629-de90697be170",
   "metadata": {},
   "outputs": [],
   "source": []
  },
  {
   "cell_type": "markdown",
   "id": "d395ca37-b54c-4971-8cb3-f6309a6f948b",
   "metadata": {},
   "source": [
    "### Create a list of the first 10 Fibonacci numbers."
   ]
  },
  {
   "cell_type": "code",
   "execution_count": 1,
   "id": "25296ffe-95b9-4387-a755-9b40df6aa452",
   "metadata": {},
   "outputs": [
    {
     "name": "stdout",
     "output_type": "stream",
     "text": [
      "[0, 1, 1, 2, 3, 5, 8, 13, 21, 34]\n"
     ]
    }
   ],
   "source": [
    "def fibonacci(n):\n",
    "    fib_sequence = [0, 1]\n",
    "    while len(fib_sequence) < n:\n",
    "        fib_sequence.append(fib_sequence[-1] + fib_sequence[-2])\n",
    "    return fib_sequence[:n]\n",
    "\n",
    "first_10_fib = fibonacci(10)\n",
    "print(first_10_fib)\n"
   ]
  },
  {
   "cell_type": "code",
   "execution_count": null,
   "id": "c30a2bf3-4448-4381-8830-01afc525961c",
   "metadata": {},
   "outputs": [],
   "source": []
  },
  {
   "cell_type": "markdown",
   "id": "6fc177e2-cfaa-4b13-8ec8-3b628dfcd6aa",
   "metadata": {},
   "source": [
    "### Check if a list is sorted."
   ]
  },
  {
   "cell_type": "code",
   "execution_count": 2,
   "id": "8968df27-7bc6-4ecc-950f-49d5253b9c54",
   "metadata": {},
   "outputs": [
    {
     "name": "stdout",
     "output_type": "stream",
     "text": [
      "List is sorted in ascending order\n"
     ]
    }
   ],
   "source": [
    "def sorted_list(l1):\n",
    "    for i in range(1, len(l1)):\n",
    "        if l1[i] < l1[i - 1]:\n",
    "            return False\n",
    "    return True\n",
    "    \n",
    "a_list = [12,13,14,15,16]\n",
    "\n",
    "if sorted_list(a_list):\n",
    "    print(\"List is sorted in ascending order\")\n",
    "else:\n",
    "    print(\"List is not sorted\")"
   ]
  },
  {
   "cell_type": "code",
   "execution_count": null,
   "id": "96dcb762-edce-4e58-b37b-17c99b3f5b8b",
   "metadata": {},
   "outputs": [],
   "source": []
  },
  {
   "cell_type": "markdown",
   "id": "3fc13b42-03f9-47fd-9cca-5c6c6fe6ac35",
   "metadata": {},
   "source": [
    "### Rotate a list to the left by `n` positions."
   ]
  },
  {
   "cell_type": "code",
   "execution_count": 7,
   "id": "7b381a9a-bba5-4c2d-a588-3618f0930335",
   "metadata": {},
   "outputs": [
    {
     "name": "stdout",
     "output_type": "stream",
     "text": [
      "[3, 4, 5, 1, 2]\n"
     ]
    }
   ],
   "source": [
    "def rotate_left(lst, n):\n",
    "    n = n % len(lst) \n",
    "    return lst[n:] + lst[:n]\n",
    "\n",
    "lst = [1, 2, 3, 4, 5]\n",
    "rotated_lst = rotate_left(lst, 2)\n",
    "print(rotated_lst)  \n"
   ]
  },
  {
   "cell_type": "code",
   "execution_count": null,
   "id": "981bb5f5-5da4-40de-b7e1-452c5675ecab",
   "metadata": {},
   "outputs": [],
   "source": []
  },
  {
   "cell_type": "markdown",
   "id": "1f98fc29-7000-49a8-9699-3dd8e5f28f47",
   "metadata": {},
   "source": [
    "### Rotate a list to the right by `n` positions."
   ]
  },
  {
   "cell_type": "code",
   "execution_count": 8,
   "id": "d3daf8e7-411c-465d-b1a9-115ab71a9d84",
   "metadata": {},
   "outputs": [
    {
     "name": "stdout",
     "output_type": "stream",
     "text": [
      "[4, 5, 1, 2, 3]\n"
     ]
    }
   ],
   "source": [
    "def rotate_right(lst, n):\n",
    "    n = n % len(lst)  \n",
    "    return lst[-n:] + lst[:-n]\n",
    "\n",
    "lst = [1, 2, 3, 4, 5]\n",
    "rotated_lst = rotate_right(lst, 2)\n",
    "print(rotated_lst)  \n"
   ]
  },
  {
   "cell_type": "code",
   "execution_count": null,
   "id": "0e393802-1c59-491b-8222-9922e4947fd3",
   "metadata": {},
   "outputs": [],
   "source": []
  },
  {
   "cell_type": "markdown",
   "id": "281f6dd6-490c-4893-8916-b1c93d8213b7",
   "metadata": {},
   "source": [
    "### Create a list of prime numbers up to 50."
   ]
  },
  {
   "cell_type": "code",
   "execution_count": 33,
   "id": "42a01ca4-c7bb-4d6b-88c0-4a326219a91a",
   "metadata": {},
   "outputs": [
    {
     "name": "stdout",
     "output_type": "stream",
     "text": [
      "5 25\n",
      "5 29\n",
      "5 31\n",
      "5 35\n",
      "5 37\n",
      "5 41\n",
      "5 43\n",
      "5 47\n",
      "5 49\n",
      "List of prime numbers up to 50: [2, 3, 5, 7, 11, 13, 17, 19, 23, 29, 31, 37, 41, 43, 47]\n"
     ]
    }
   ],
   "source": [
    "def is_prime(num):\n",
    "     if num <=1:\n",
    "        return False\n",
    "     if num <= 3:\n",
    "        return True\n",
    "     if num % 2 == 0 or num % 3 == 0:\n",
    "        return False\n",
    "     i = 5\n",
    "     while i * i <= num:\n",
    "        print(i,num)\n",
    "        if num % i == 0 or num % (i + 2) == 0:\n",
    "            return False\n",
    "        i += 6\n",
    "     return True\n",
    "\n",
    "prime_numbers = [num for num in range(2,50) if is_prime(num)]\n",
    "\n",
    "print(\"List of prime numbers up to 50:\", prime_numbers)"
   ]
  },
  {
   "cell_type": "code",
   "execution_count": null,
   "id": "137dc7e8-a429-4cec-b51c-282775ac1c83",
   "metadata": {},
   "outputs": [],
   "source": []
  },
  {
   "cell_type": "markdown",
   "id": "4f390a7d-afa3-49cf-95d1-21e936b9d184",
   "metadata": {},
   "source": [
    "### Split a list into chunks of size `n`."
   ]
  },
  {
   "cell_type": "code",
   "execution_count": 34,
   "id": "fbe1e579-c03d-4a3a-b243-8a5dd875700f",
   "metadata": {},
   "outputs": [
    {
     "name": "stdout",
     "output_type": "stream",
     "text": [
      "[[1, 4, 7], [1, 4, 7], [1, 4, 7]]\n"
     ]
    }
   ],
   "source": [
    "def chunkify(lst, n):\n",
    "    return [lst[::n] for i in range (0, len(lst), n)]\n",
    "my_list = [1,2,3,4,5,6,7,8]\n",
    "chunk_size = 3\n",
    "chunks = chunkify(my_list, chunk_size)\n",
    "print(chunks)"
   ]
  },
  {
   "cell_type": "code",
   "execution_count": null,
   "id": "adb53c14-d54f-4a5e-984d-0e2caa7b051a",
   "metadata": {},
   "outputs": [],
   "source": []
  },
  {
   "cell_type": "markdown",
   "id": "7d470129-0831-4af7-bfc2-3456cd216818",
   "metadata": {},
   "source": [
    "### Find the second largest number in a list."
   ]
  },
  {
   "cell_type": "code",
   "execution_count": 40,
   "id": "564d252a-5204-427e-90dc-341ea3b64d01",
   "metadata": {},
   "outputs": [
    {
     "name": "stdout",
     "output_type": "stream",
     "text": [
      "[1, 2, 3, 4, 5, 6, 7, 8]\n",
      "7\n"
     ]
    }
   ],
   "source": [
    "g_list = [1,2,3,4,5,6,7,8]\n",
    "\n",
    "sorted_list = sorted(g_list)\n",
    "print(sorted_list)\n",
    "\n",
    "second_largest = g_list[-2]\n",
    "\n",
    "print(second_largest)"
   ]
  },
  {
   "cell_type": "code",
   "execution_count": null,
   "id": "ac7b1eae-1523-484c-882d-122c06630a7e",
   "metadata": {},
   "outputs": [],
   "source": []
  },
  {
   "cell_type": "markdown",
   "id": "f7be190b-0bfe-434f-a99c-a3bb4b01a056",
   "metadata": {},
   "source": [
    "### Replace every element in a list with its square."
   ]
  },
  {
   "cell_type": "code",
   "execution_count": 44,
   "id": "ab50cd7c-13d9-4ec6-b72f-affb91b690c5",
   "metadata": {},
   "outputs": [
    {
     "name": "stdout",
     "output_type": "stream",
     "text": [
      "[1, 4, 9, 16, 25, 36, 49, 64]\n"
     ]
    }
   ],
   "source": [
    "list = [1,2,3,4,5,6,7,8]\n",
    "square = [i**2 for i in list]\n",
    "print(square)"
   ]
  },
  {
   "cell_type": "code",
   "execution_count": null,
   "id": "8937ba5f-5826-4c50-bccf-e1ff8eca08dd",
   "metadata": {},
   "outputs": [],
   "source": []
  },
  {
   "cell_type": "markdown",
   "id": "cc302c66-bf55-463b-8e3c-6c76f3551079",
   "metadata": {},
   "source": [
    "### Convert a list to a dictionary where list elements become keys and their indices become values."
   ]
  },
  {
   "cell_type": "code",
   "execution_count": 49,
   "id": "e265626e-4107-4be4-9013-c7c48bf3cb38",
   "metadata": {},
   "outputs": [
    {
     "name": "stdout",
     "output_type": "stream",
     "text": [
      "Converted dictionary: {1: 0, 2: 1, 3: 2, 4: 3, 5: 4, 6: 5, 7: 6, 8: 7, 9: 8}\n"
     ]
    }
   ],
   "source": [
    "my_list = [1,2,3,4,5,6,7,8,9]\n",
    "\n",
    "my_dict = {element: index for index, element in enumerate(my_list)}\n",
    "\n",
    "print(\"Converted dictionary:\", my_dict)"
   ]
  },
  {
   "cell_type": "code",
   "execution_count": null,
   "id": "bf8617dd-ba6e-4804-9527-1205c38ef0ba",
   "metadata": {},
   "outputs": [],
   "source": []
  },
  {
   "cell_type": "markdown",
   "id": "d900298b-7e83-4620-a92e-f98035f5faed",
   "metadata": {},
   "source": [
    "### Shuffle the elements of a list randomly."
   ]
  },
  {
   "cell_type": "code",
   "execution_count": 52,
   "id": "6236136a-c122-4647-9524-b5ff771fcafd",
   "metadata": {},
   "outputs": [
    {
     "name": "stdout",
     "output_type": "stream",
     "text": [
      "[5, 1, 9, 2, 7, 6, 3, 4, 8]\n"
     ]
    }
   ],
   "source": [
    "import random\n",
    "\n",
    "list = [1,2,3,4,5,6,7,8,9]\n",
    "\n",
    "random.shuffle(list)\n",
    "\n",
    "print(list)"
   ]
  },
  {
   "cell_type": "code",
   "execution_count": null,
   "id": "0bac62bf-9657-4a09-8a8b-a4288a222307",
   "metadata": {},
   "outputs": [],
   "source": []
  },
  {
   "cell_type": "markdown",
   "id": "b37956ab-36ad-42c7-977d-dedc3dd7fbef",
   "metadata": {},
   "source": [
    "### Create a list of the first 10 factorial numbers."
   ]
  },
  {
   "cell_type": "code",
   "execution_count": 59,
   "id": "5fe38e90-cb68-4f80-9e22-1a043e336857",
   "metadata": {},
   "outputs": [
    {
     "name": "stdout",
     "output_type": "stream",
     "text": [
      "[1, 1, 2, 6, 24, 120, 720, 5040, 40320, 362880]\n"
     ]
    }
   ],
   "source": [
    "def fact(n):\n",
    "    if n == 0 or n == 1:\n",
    "        return 1\n",
    "    else:\n",
    "        return n * fact(n - 1)\n",
    "fact_num = [fact (i) for i in range(10)]\n",
    "print(fact_num)"
   ]
  },
  {
   "cell_type": "code",
   "execution_count": null,
   "id": "27237bae-f51b-4e43-9b62-57891e8e939c",
   "metadata": {},
   "outputs": [],
   "source": []
  },
  {
   "cell_type": "markdown",
   "id": "9e1521e6-3878-42b2-a58b-d9634e82d801",
   "metadata": {},
   "source": [
    "### Check if two lists have at least one element in common."
   ]
  },
  {
   "cell_type": "code",
   "execution_count": 4,
   "id": "c445b1ec-b8b5-4bfb-96d0-8ad8d7930b9b",
   "metadata": {},
   "outputs": [
    {
     "name": "stdout",
     "output_type": "stream",
     "text": [
      "have common element\n"
     ]
    }
   ],
   "source": [
    "def common_ele(l1,l2):\n",
    "    for ele in l1:\n",
    "        if ele in l2:\n",
    "            return True\n",
    "    return False\n",
    "\n",
    "l1 = [1,2,3,4,5]\n",
    "l2 = [8,7,6,5,4]\n",
    "\n",
    "if common_ele(l1,l2):\n",
    "    print(\"have common element\")\n",
    "else:\n",
    "    print(\"no common element\")"
   ]
  },
  {
   "cell_type": "code",
   "execution_count": null,
   "id": "7a766bb2-6b31-48eb-adf5-b911709d3e11",
   "metadata": {},
   "outputs": [],
   "source": []
  },
  {
   "cell_type": "markdown",
   "id": "85b629f9-155c-4738-957a-75e17168316c",
   "metadata": {},
   "source": [
    "### Remove all elements from a list."
   ]
  },
  {
   "cell_type": "code",
   "execution_count": 6,
   "id": "49195dc1-5ed6-4c33-9202-f5981463a03d",
   "metadata": {},
   "outputs": [
    {
     "name": "stdout",
     "output_type": "stream",
     "text": [
      "[]\n"
     ]
    }
   ],
   "source": [
    "l1 = [1,2,3,4,5,6,7,8,9]\n",
    "l1.clear()\n",
    "print(l1)"
   ]
  },
  {
   "cell_type": "code",
   "execution_count": null,
   "id": "3d7a71ae-8163-48f1-99f7-db8ea64ad9da",
   "metadata": {},
   "outputs": [],
   "source": []
  },
  {
   "cell_type": "markdown",
   "id": "734142e2-5df9-477c-9224-ec50dc578caf",
   "metadata": {},
   "source": [
    "### Replace negative numbers in a list with 0."
   ]
  },
  {
   "cell_type": "code",
   "execution_count": 25,
   "id": "a5ab6f0d-f5e5-4643-a717-02ed114adbfc",
   "metadata": {},
   "outputs": [
    {
     "name": "stdout",
     "output_type": "stream",
     "text": [
      "[1, 0, 0, 0, 5, 6, 7, 8]\n"
     ]
    }
   ],
   "source": [
    "list1 = [1,-2,-3,-4,5,6,7,8]\n",
    "for i in range (len(list1)):\n",
    "        if list1[i] < 0:\n",
    "            list1[i] = 0\n",
    "print(list1)\n",
    "        "
   ]
  },
  {
   "cell_type": "code",
   "execution_count": null,
   "id": "b679295f-0ead-49c7-8d50-14520c90fda7",
   "metadata": {},
   "outputs": [],
   "source": []
  },
  {
   "cell_type": "markdown",
   "id": "4938728a-0432-4e80-afcc-f8e4e2dd3ca9",
   "metadata": {},
   "source": [
    "### Convert a string into a list of words.\n"
   ]
  },
  {
   "cell_type": "code",
   "execution_count": 31,
   "id": "c114bbac-89b5-43c9-a374-db1cde686088",
   "metadata": {},
   "outputs": [
    {
     "name": "stdout",
     "output_type": "stream",
     "text": [
      "['Hello', 'guys,', 'How', 'are', 'you']\n"
     ]
    }
   ],
   "source": [
    "string = \"Hello guys, How are you\"\n",
    "word = string.split()\n",
    "print(word)"
   ]
  },
  {
   "cell_type": "code",
   "execution_count": null,
   "id": "5a296289-cb3a-4829-b8cf-45bc71d800ce",
   "metadata": {},
   "outputs": [],
   "source": []
  },
  {
   "cell_type": "markdown",
   "id": "bda45436-55a6-43be-b31b-c3cfd67bd31e",
   "metadata": {},
   "source": [
    "### Convert a list of words into a string."
   ]
  },
  {
   "cell_type": "code",
   "execution_count": 35,
   "id": "257a525c-eeaf-4ba5-84e8-0a912b9fa8cb",
   "metadata": {},
   "outputs": [
    {
     "name": "stdout",
     "output_type": "stream",
     "text": [
      "Hello guys How are you\n"
     ]
    }
   ],
   "source": [
    "word = [\"Hello\" , \"guys\" , \"How\", \"are\", \"you\"]\n",
    "string = \" \".join(word)\n",
    "print(string)"
   ]
  },
  {
   "cell_type": "code",
   "execution_count": null,
   "id": "6dbe29fe-c637-41a6-9563-e09763b57856",
   "metadata": {},
   "outputs": [],
   "source": []
  },
  {
   "cell_type": "markdown",
   "id": "9e41fae8-170a-410c-b255-ff8d09001002",
   "metadata": {},
   "source": [
    "### Create a list of the first `n` powers of 2."
   ]
  },
  {
   "cell_type": "code",
   "execution_count": 4,
   "id": "3fa2fa07-e02c-46ae-ac70-3cea9adcc784",
   "metadata": {},
   "outputs": [
    {
     "name": "stdout",
     "output_type": "stream",
     "text": [
      "[1, 2, 4, 8, 16, 32, 64, 128, 256, 512]\n"
     ]
    }
   ],
   "source": [
    "def powers_2(n):\n",
    "    return [2**i for i in range(n)]\n",
    "\n",
    "n = 10\n",
    "powers_of_2 = powers_2(n)\n",
    "print(powers_of_2)"
   ]
  },
  {
   "cell_type": "code",
   "execution_count": null,
   "id": "f7dafcbb-7e44-498a-a8fb-73424f2d5ea0",
   "metadata": {},
   "outputs": [],
   "source": []
  },
  {
   "cell_type": "code",
   "execution_count": null,
   "id": "7762f705-9fa2-40dc-a155-a2d24787bf90",
   "metadata": {},
   "outputs": [],
   "source": []
  },
  {
   "cell_type": "markdown",
   "id": "58d4a5e9-3086-4848-9617-a9774cbef833",
   "metadata": {},
   "source": [
    "### Find the longest string in a list of strings."
   ]
  },
  {
   "cell_type": "code",
   "execution_count": 10,
   "id": "f0153e37-df35-4558-a3bb-ea4ad144f256",
   "metadata": {},
   "outputs": [
    {
     "name": "stdout",
     "output_type": "stream",
     "text": [
      "elderberry\n"
     ]
    }
   ],
   "source": [
    "string_list = [\"apple\", \"banana\", \"cherry\", \"date\", \"elderberry\"]\n",
    "\n",
    "longest_string = \" \"\n",
    "for s in string_list:\n",
    "    if len(s) > len(longest_string):\n",
    "        longest_string = s\n",
    "print(longest_string)\n",
    "  "
   ]
  },
  {
   "cell_type": "code",
   "execution_count": null,
   "id": "6a94e5a2-2909-4bf3-ab81-6d3357a79912",
   "metadata": {},
   "outputs": [],
   "source": []
  },
  {
   "cell_type": "markdown",
   "id": "09623996-05e1-4ce7-9863-bb29350e079b",
   "metadata": {},
   "source": [
    "### Find the shortest string in a list of strings."
   ]
  },
  {
   "cell_type": "code",
   "execution_count": 11,
   "id": "f91abd99-5504-4da2-b261-5cab6dcfdd96",
   "metadata": {},
   "outputs": [
    {
     "name": "stdout",
     "output_type": "stream",
     "text": [
      "Shortest string: date\n"
     ]
    }
   ],
   "source": [
    "string_list = [\"apple\", \"banana\", \"cherry\", \"date\", \"elderberry\"]\n",
    "\n",
    "\n",
    "shortest_string = string_list[0] \n",
    "for s in string_list:\n",
    "    if len(s) < len(shortest_string):\n",
    "        shortest_string = s\n",
    "\n",
    "print(\"Shortest string:\", shortest_string)"
   ]
  },
  {
   "cell_type": "code",
   "execution_count": null,
   "id": "dd641ab5-ab49-4d2e-9766-25530047c615",
   "metadata": {},
   "outputs": [],
   "source": []
  },
  {
   "cell_type": "markdown",
   "id": "8e4d1f53-dbae-4d7b-bf0a-8788d4eea962",
   "metadata": {},
   "source": [
    "# Tuple Based Practice Problem :"
   ]
  },
  {
   "cell_type": "markdown",
   "id": "5f5b95e5-d257-42ea-a659-d85f725f4ad9",
   "metadata": {},
   "source": [
    "### Create a tuple with integers from 1 to 5."
   ]
  },
  {
   "cell_type": "code",
   "execution_count": 12,
   "id": "2a6db20f-0b8f-4354-bc2e-e3115d440270",
   "metadata": {},
   "outputs": [
    {
     "name": "stdout",
     "output_type": "stream",
     "text": [
      "(1, 2, 3, 4, 5)\n"
     ]
    }
   ],
   "source": [
    "tup = (1,2,3,4,5)\n",
    "print(tup)"
   ]
  },
  {
   "cell_type": "code",
   "execution_count": null,
   "id": "03052d43-da12-484e-89bb-b2bda3bf4459",
   "metadata": {},
   "outputs": [],
   "source": []
  },
  {
   "cell_type": "markdown",
   "id": "89d31513-2f60-49e8-b8b6-8c5aab79a22e",
   "metadata": {},
   "source": [
    "### Access the third element of a tuple."
   ]
  },
  {
   "cell_type": "code",
   "execution_count": 13,
   "id": "4ebb0b26-0c2e-4582-8930-d365de54810c",
   "metadata": {},
   "outputs": [
    {
     "name": "stdout",
     "output_type": "stream",
     "text": [
      "30\n"
     ]
    }
   ],
   "source": [
    "tup = (10,20,30,40,50)\n",
    "third = tup[2]\n",
    "print(third)"
   ]
  },
  {
   "cell_type": "code",
   "execution_count": null,
   "id": "406376ab-b5a2-4322-b9e5-659e14e27d4d",
   "metadata": {},
   "outputs": [],
   "source": []
  },
  {
   "cell_type": "markdown",
   "id": "32dc8567-3c81-4fad-8258-23456f8d5cd6",
   "metadata": {},
   "source": [
    "### Find the length of a tuple without using the `len()` function."
   ]
  },
  {
   "cell_type": "code",
   "execution_count": 15,
   "id": "b259898c-b6af-4aae-8f53-16f9631a1786",
   "metadata": {},
   "outputs": [
    {
     "name": "stdout",
     "output_type": "stream",
     "text": [
      "9\n"
     ]
    }
   ],
   "source": [
    "tup = (1,2,3,4,5,6,7,8,9)\n",
    "count = 0\n",
    "for s in tup:\n",
    "    count += 1\n",
    "print(count)"
   ]
  },
  {
   "cell_type": "code",
   "execution_count": null,
   "id": "a5c58ab0-b209-4499-ab28-767293aee59f",
   "metadata": {},
   "outputs": [],
   "source": []
  },
  {
   "cell_type": "markdown",
   "id": "079da58d-2e17-47fa-85c0-f18204990369",
   "metadata": {},
   "source": [
    "### Count the occurrences of an element in a tuple."
   ]
  },
  {
   "cell_type": "code",
   "execution_count": 33,
   "id": "56ede4a0-bf90-456d-ac47-7f595d58c593",
   "metadata": {},
   "outputs": [
    {
     "name": "stdin",
     "output_type": "stream",
     "text": [
      "Enter an element to count: 2\n"
     ]
    },
    {
     "name": "stdout",
     "output_type": "stream",
     "text": [
      "2\n"
     ]
    }
   ],
   "source": [
    "tup = (1,2,3,4,2,5,6,7,8,9,1,1,1)\n",
    "count = 0\n",
    "ele = int(input(\"Enter an element to count:\"))\n",
    "for s in tup:\n",
    "    if s == ele in tup:\n",
    "        count += 1\n",
    "print(count)"
   ]
  },
  {
   "cell_type": "code",
   "execution_count": null,
   "id": "6471bfd0-3163-42dc-a088-f6854527aefa",
   "metadata": {},
   "outputs": [],
   "source": []
  },
  {
   "cell_type": "markdown",
   "id": "cbca0b58-5930-4fa9-af71-1d171355563e",
   "metadata": {},
   "source": [
    "### Find the index of the first occurrence of an element in a tuple."
   ]
  },
  {
   "cell_type": "code",
   "execution_count": 37,
   "id": "6bd28934-3bff-44a5-b43e-deeb9fd80cc0",
   "metadata": {},
   "outputs": [
    {
     "name": "stdin",
     "output_type": "stream",
     "text": [
      "enter an element: 2\n"
     ]
    },
    {
     "name": "stdout",
     "output_type": "stream",
     "text": [
      "1\n"
     ]
    }
   ],
   "source": [
    "tup = (1,2,4,5,6,7,8)\n",
    "ele = int(input(\"enter an element:\"))\n",
    "a = tup.index(ele)\n",
    "print(a)"
   ]
  },
  {
   "cell_type": "code",
   "execution_count": null,
   "id": "7e0f0aa9-f9ef-4d19-a7a0-deb3579efc59",
   "metadata": {},
   "outputs": [],
   "source": []
  },
  {
   "cell_type": "markdown",
   "id": "eb1590e4-e114-4d1a-873a-ae471ba6718f",
   "metadata": {},
   "source": [
    "### Check if an element exists in a tuple."
   ]
  },
  {
   "cell_type": "code",
   "execution_count": 51,
   "id": "2c8a4b40-03bf-4e45-b153-01c18c677d83",
   "metadata": {},
   "outputs": [
    {
     "name": "stdin",
     "output_type": "stream",
     "text": [
      "Enter an element: 1\n"
     ]
    },
    {
     "name": "stdout",
     "output_type": "stream",
     "text": [
      "element exist\n"
     ]
    }
   ],
   "source": [
    "tup = (1,2,3,4,5,6,7,8)\n",
    "ele = int(input(\"Enter an element:\"))\n",
    "if ele in tup:\n",
    "     print(\"element exist\")\n",
    "else:\n",
    "    print(\"does not exist\")\n"
   ]
  },
  {
   "cell_type": "code",
   "execution_count": null,
   "id": "9da9eff7-187d-4900-994e-efecbe0be54a",
   "metadata": {},
   "outputs": [],
   "source": []
  },
  {
   "cell_type": "markdown",
   "id": "3cf5e304-9c36-4443-a57a-fefa46d87b5d",
   "metadata": {},
   "source": [
    "### Convert a tuple to a list."
   ]
  },
  {
   "cell_type": "code",
   "execution_count": 53,
   "id": "0ef7031b-243f-4235-a948-c72335a50909",
   "metadata": {},
   "outputs": [
    {
     "name": "stdout",
     "output_type": "stream",
     "text": [
      "[1, 2, 3, 4, 5, 6]\n"
     ]
    }
   ],
   "source": [
    "tup = (1,2,3,4,5,6)\n",
    "my_list = list(tup)\n",
    "print(my_list)"
   ]
  },
  {
   "cell_type": "code",
   "execution_count": null,
   "id": "bdcfc295-c6fd-4e48-9862-e667335b7625",
   "metadata": {},
   "outputs": [],
   "source": []
  },
  {
   "cell_type": "markdown",
   "id": "fc27ce19-ab7c-49dc-bb7c-bb596fe1f86e",
   "metadata": {},
   "source": [
    "### Convert a list to a tuple."
   ]
  },
  {
   "cell_type": "code",
   "execution_count": 55,
   "id": "9b81f682-7488-4ee8-9d70-08d57cfe6619",
   "metadata": {},
   "outputs": [
    {
     "name": "stdout",
     "output_type": "stream",
     "text": [
      "(1, 2, 3, 4, 5, 6)\n"
     ]
    }
   ],
   "source": [
    "my_list = [1,2,3,4,5,6]\n",
    "tup = tuple(my_list)\n",
    "print(tup)"
   ]
  },
  {
   "cell_type": "code",
   "execution_count": null,
   "id": "4d190e42-50c5-42f8-93e7-5b8c344fc403",
   "metadata": {},
   "outputs": [],
   "source": []
  },
  {
   "cell_type": "markdown",
   "id": "18754255-edf1-4e82-b2f8-6b99d1a955f1",
   "metadata": {},
   "source": [
    "### Unpack the elements of a tuple into variables."
   ]
  },
  {
   "cell_type": "code",
   "execution_count": 57,
   "id": "6826db92-0806-4761-a7d5-598af39e7da9",
   "metadata": {},
   "outputs": [
    {
     "name": "stdout",
     "output_type": "stream",
     "text": [
      "1\n",
      "2\n",
      "3\n",
      "4\n",
      "5\n"
     ]
    }
   ],
   "source": [
    "tup = (1,2,3,4,5)\n",
    "a,b,c,d,e = tup\n",
    "print(a)\n",
    "print(b)\n",
    "print(c)\n",
    "print(d)\n",
    "print(e)"
   ]
  },
  {
   "cell_type": "code",
   "execution_count": null,
   "id": "b8605873-c67d-4a69-bfaf-98fa952615ec",
   "metadata": {},
   "outputs": [],
   "source": []
  },
  {
   "cell_type": "markdown",
   "id": "907f4ff7-ae32-4d51-9810-20eafe3ce757",
   "metadata": {},
   "source": [
    "### Create a tuple of even numbers from 1 to 10."
   ]
  },
  {
   "cell_type": "code",
   "execution_count": 68,
   "id": "109ee075-ecf7-4df2-9410-f855f095ca19",
   "metadata": {},
   "outputs": [
    {
     "name": "stdout",
     "output_type": "stream",
     "text": [
      "[2, 4, 6, 8, 10]\n"
     ]
    }
   ],
   "source": [
    "tup = [x for x in range(2, 11 , 2)]\n",
    "print(tup)"
   ]
  },
  {
   "cell_type": "code",
   "execution_count": null,
   "id": "0b0590d1-53ff-4417-97c0-75da1882b9c7",
   "metadata": {},
   "outputs": [],
   "source": []
  },
  {
   "cell_type": "markdown",
   "id": "5b888259-056d-4480-8a96-ad172798671b",
   "metadata": {},
   "source": [
    "### Create a tuple of odd numbers from 1 to 10."
   ]
  },
  {
   "cell_type": "code",
   "execution_count": 71,
   "id": "70326b61-8784-43ac-ae98-f05701f0396c",
   "metadata": {},
   "outputs": [
    {
     "name": "stdout",
     "output_type": "stream",
     "text": [
      "[1, 3, 5, 7, 9]\n"
     ]
    }
   ],
   "source": [
    "tup = [x for x in range(1,11,2)]\n",
    "print(tup)"
   ]
  },
  {
   "cell_type": "code",
   "execution_count": null,
   "id": "3bb9b077-80f9-48d5-b96a-f92400f14122",
   "metadata": {},
   "outputs": [],
   "source": []
  },
  {
   "cell_type": "markdown",
   "id": "6c25a09f-a0fd-43e9-bbec-d23ba456341a",
   "metadata": {},
   "source": [
    "### Concatenate two tuples."
   ]
  },
  {
   "cell_type": "code",
   "execution_count": 1,
   "id": "93d43b66-bfb1-42c8-a0b6-df491b0700dd",
   "metadata": {},
   "outputs": [
    {
     "name": "stdout",
     "output_type": "stream",
     "text": [
      "(1, 2, 3, 4, 5, 6, 7)\n"
     ]
    }
   ],
   "source": [
    "t1 = (1,2,3,4)\n",
    "t2 = (5,6,7)\n",
    "t3 = t1+t2\n",
    "print(t3)"
   ]
  },
  {
   "cell_type": "code",
   "execution_count": null,
   "id": "a552c459-c933-4d71-bc7f-f65bde95ceb0",
   "metadata": {},
   "outputs": [],
   "source": []
  },
  {
   "cell_type": "markdown",
   "id": "6f9696fc-c5f0-40a5-a7ca-3fffa1ed6ee3",
   "metadata": {},
   "source": [
    "### Repeat a tuple three times."
   ]
  },
  {
   "cell_type": "code",
   "execution_count": 2,
   "id": "55c20701-7796-4aa4-bb16-1a051ff5e51d",
   "metadata": {},
   "outputs": [
    {
     "name": "stdout",
     "output_type": "stream",
     "text": [
      "(1, 2, 3, 1, 2, 3, 1, 2, 3)\n"
     ]
    }
   ],
   "source": [
    "t1 = (1,2,3)\n",
    "t2 = 3*t1\n",
    "print(t2)"
   ]
  },
  {
   "cell_type": "code",
   "execution_count": null,
   "id": "6b0b606e-8ad9-4ab3-ab24-90eaf33c37f0",
   "metadata": {},
   "outputs": [],
   "source": []
  },
  {
   "cell_type": "markdown",
   "id": "721c12c1-1595-4397-b8f1-ec7d57c2fa49",
   "metadata": {},
   "source": [
    "### Check if a tuple is empty."
   ]
  },
  {
   "cell_type": "code",
   "execution_count": 44,
   "id": "9c9cd816-4e87-4e2c-9427-b2a239bdc7be",
   "metadata": {},
   "outputs": [
    {
     "name": "stdout",
     "output_type": "stream",
     "text": [
      "The tuple is empty\n"
     ]
    }
   ],
   "source": [
    "empty_tup = ()\n",
    "if len(empty_tup) == 0:\n",
    "        print(\"The tuple is empty\")\n",
    "else:\n",
    "        print(\"The tuple is not empty\")\n"
   ]
  },
  {
   "cell_type": "code",
   "execution_count": null,
   "id": "ec567b19-ed53-4e25-a661-ef67e92bec0f",
   "metadata": {},
   "outputs": [],
   "source": []
  },
  {
   "cell_type": "markdown",
   "id": "3cdca4c7-61d7-4bb7-b682-1bdf30144fd9",
   "metadata": {},
   "source": [
    "### Create a nested tuple."
   ]
  },
  {
   "cell_type": "code",
   "execution_count": 46,
   "id": "9bf58032-acf4-4fe7-aef0-01fb10dfd4b7",
   "metadata": {},
   "outputs": [
    {
     "name": "stdout",
     "output_type": "stream",
     "text": [
      "((1, 2, 3), (4, 5, 6), (7, 8, 9))\n"
     ]
    }
   ],
   "source": [
    "nested_tuple = ((1, 2, 3), (4, 5, 6), (7, 8, 9))\n",
    "\n",
    "print(nested_tuple)"
   ]
  },
  {
   "cell_type": "code",
   "execution_count": null,
   "id": "ee7ba640-7f7f-4a3d-b3ef-c0c2a5fa2077",
   "metadata": {},
   "outputs": [],
   "source": []
  },
  {
   "cell_type": "markdown",
   "id": "c23211cd-b4ca-4f79-8c7c-296db17d71c4",
   "metadata": {},
   "source": [
    "### Access the first element of a nested tuple."
   ]
  },
  {
   "cell_type": "code",
   "execution_count": 49,
   "id": "dcf01a9c-3d2f-4741-a2d9-b6d8d4b3d205",
   "metadata": {},
   "outputs": [
    {
     "name": "stdout",
     "output_type": "stream",
     "text": [
      "1\n"
     ]
    }
   ],
   "source": [
    "nested_tuple = ((1, 2, 3), (4, 5, 6), (7, 8, 9))\n",
    "print(nested_tuple[0][0])"
   ]
  },
  {
   "cell_type": "code",
   "execution_count": null,
   "id": "917ba85f-2907-4df3-8ea7-47e167fad6f7",
   "metadata": {},
   "outputs": [],
   "source": []
  },
  {
   "cell_type": "markdown",
   "id": "e3a711e8-6cc1-4f18-bd6e-88e303ed5976",
   "metadata": {},
   "source": [
    "### Create a tuple with a single element."
   ]
  },
  {
   "cell_type": "code",
   "execution_count": 50,
   "id": "4a4acd4a-126b-4e7b-a7de-d66fcda7df7e",
   "metadata": {},
   "outputs": [
    {
     "name": "stdout",
     "output_type": "stream",
     "text": [
      "(1,)\n"
     ]
    }
   ],
   "source": [
    "single_ele = (1,)\n",
    "print(single_ele)"
   ]
  },
  {
   "cell_type": "code",
   "execution_count": null,
   "id": "29dfbea8-1cdc-46fc-9767-218ef8eaf24f",
   "metadata": {},
   "outputs": [],
   "source": []
  },
  {
   "cell_type": "markdown",
   "id": "784a0e63-0dd1-4b3c-b1c5-5abda52d3ca9",
   "metadata": {},
   "source": [
    "### Compare two tuples."
   ]
  },
  {
   "cell_type": "code",
   "execution_count": 54,
   "id": "bb932ea8-f1c6-4d94-9d8d-f26cef78c4d5",
   "metadata": {},
   "outputs": [
    {
     "name": "stdout",
     "output_type": "stream",
     "text": [
      "tuples are not equal\n"
     ]
    }
   ],
   "source": [
    "tup1 = (1,2,3,4)\n",
    "tup2 = (5,6,7,8)\n",
    "if tup1 == tup2:\n",
    "    print(\"tuples are equal\")\n",
    "else:\n",
    "    print(\"tuples are not equal\")"
   ]
  },
  {
   "cell_type": "code",
   "execution_count": null,
   "id": "d8863ff0-7d52-428d-afc9-3b996b4c7f12",
   "metadata": {},
   "outputs": [],
   "source": []
  },
  {
   "cell_type": "markdown",
   "id": "16fcb684-74e5-4cf0-b186-e92315395335",
   "metadata": {},
   "source": [
    "### Delete a tuple."
   ]
  },
  {
   "cell_type": "code",
   "execution_count": 56,
   "id": "703c8b98-ae8e-4979-ad2e-5d0a9034a8c3",
   "metadata": {},
   "outputs": [],
   "source": [
    "tup = (1,2,3,4)\n",
    "del tup"
   ]
  },
  {
   "cell_type": "code",
   "execution_count": null,
   "id": "e69eed69-4492-4131-9d32-724b6eaae377",
   "metadata": {},
   "outputs": [],
   "source": []
  },
  {
   "cell_type": "markdown",
   "id": "64ed7c15-2c12-45c1-bf1d-afc27b03a119",
   "metadata": {},
   "source": [
    "### Slice a tuple."
   ]
  },
  {
   "cell_type": "code",
   "execution_count": 60,
   "id": "3e61d910-92a0-4f26-9a55-2754a0bb7d8a",
   "metadata": {},
   "outputs": [
    {
     "name": "stdout",
     "output_type": "stream",
     "text": [
      "(2, 3)\n"
     ]
    }
   ],
   "source": [
    "tup = (1,2,3,4,5)\n",
    "\n",
    "a = tup[1:3]\n",
    "\n",
    "print(a)"
   ]
  },
  {
   "cell_type": "code",
   "execution_count": null,
   "id": "b59671dd-c514-40ad-b682-00f361dc585f",
   "metadata": {},
   "outputs": [],
   "source": []
  },
  {
   "cell_type": "markdown",
   "id": "9cbec97f-c19e-485b-adaa-6840d0ac5139",
   "metadata": {},
   "source": [
    "### Find the maximum value in a tuple."
   ]
  },
  {
   "cell_type": "code",
   "execution_count": 62,
   "id": "42e2ff38-36c7-4aaa-947b-0c61dcd543fe",
   "metadata": {},
   "outputs": [
    {
     "name": "stdout",
     "output_type": "stream",
     "text": [
      "maximum value is: 5\n"
     ]
    }
   ],
   "source": [
    "tup = (1,2,3,4,5)\n",
    "\n",
    "max_v = max(tup)\n",
    "\n",
    "print(\"maximum value is:\",max_v)"
   ]
  },
  {
   "cell_type": "code",
   "execution_count": null,
   "id": "97ca8076-4b4c-43b9-92e6-f64d15767d71",
   "metadata": {},
   "outputs": [],
   "source": []
  },
  {
   "cell_type": "markdown",
   "id": "b62fb0be-ca86-4c2e-b4cf-d65cb142c3ab",
   "metadata": {},
   "source": [
    "### Find the minimum value in a tuple."
   ]
  },
  {
   "cell_type": "code",
   "execution_count": 63,
   "id": "d33a9ae7-5558-4bd8-b9c2-011a114fae8a",
   "metadata": {},
   "outputs": [
    {
     "name": "stdout",
     "output_type": "stream",
     "text": [
      "mnimum value is: 1\n"
     ]
    }
   ],
   "source": [
    "tup = (1,2,3,4,5)\n",
    "\n",
    "min_v = min(tup)\n",
    "\n",
    "print(\"mnimum value is:\",min_v)"
   ]
  },
  {
   "cell_type": "code",
   "execution_count": null,
   "id": "e857b14a-210f-407b-85d6-49b7714bd17e",
   "metadata": {},
   "outputs": [],
   "source": []
  },
  {
   "cell_type": "markdown",
   "id": "78c64b3f-b751-4cdb-83bc-23c255ab5872",
   "metadata": {},
   "source": [
    "### Convert a string to a tuple of characters."
   ]
  },
  {
   "cell_type": "code",
   "execution_count": 64,
   "id": "9157155e-02d8-4b4c-be21-7fc79160917c",
   "metadata": {},
   "outputs": [
    {
     "name": "stdout",
     "output_type": "stream",
     "text": [
      "('H', 'e', 'l', 'l', 'o', ',', ' ', 'W', 'o', 'r', 'l', 'd')\n"
     ]
    }
   ],
   "source": [
    "string1 = \"Hello, World\"\n",
    "\n",
    "tup = tuple(string1)\n",
    "\n",
    "print(tup)"
   ]
  },
  {
   "cell_type": "code",
   "execution_count": null,
   "id": "ec67c2d7-adaa-48e2-824d-a6d956f6ecf5",
   "metadata": {},
   "outputs": [],
   "source": []
  },
  {
   "cell_type": "markdown",
   "id": "366296a2-62b2-49c5-ba6f-dfe85700e649",
   "metadata": {},
   "source": [
    "### Convert a tuple of characters to a string."
   ]
  },
  {
   "cell_type": "code",
   "execution_count": 70,
   "id": "110c6ab8-a1db-4e76-b681-fe2ad9a0922e",
   "metadata": {},
   "outputs": [
    {
     "name": "stdout",
     "output_type": "stream",
     "text": [
      "hello,world\n"
     ]
    }
   ],
   "source": [
    "tup = ('h','e','l','l','o',',','w','o','r','l','d')\n",
    "string = ''.join(tup)\n",
    "print(string)"
   ]
  },
  {
   "cell_type": "code",
   "execution_count": null,
   "id": "26bc341b-b5f7-4935-8f4a-58bf591ad31f",
   "metadata": {},
   "outputs": [],
   "source": []
  },
  {
   "cell_type": "markdown",
   "id": "857560bf-3102-4cdc-98dd-51218aa3afa3",
   "metadata": {},
   "source": [
    "### Create a tuple from multiple data types."
   ]
  },
  {
   "cell_type": "code",
   "execution_count": 71,
   "id": "75b8ff2c-aea0-43b8-963f-55740d9ae385",
   "metadata": {},
   "outputs": [
    {
     "name": "stdout",
     "output_type": "stream",
     "text": [
      "(1, 'hello', 3.14, True)\n"
     ]
    }
   ],
   "source": [
    "tup = (1, 'hello', 3.14 , True)\n",
    "\n",
    "print(tup)"
   ]
  },
  {
   "cell_type": "code",
   "execution_count": null,
   "id": "5b2f9638-7d4b-47fe-b416-38cbad75c0ba",
   "metadata": {},
   "outputs": [],
   "source": []
  },
  {
   "cell_type": "markdown",
   "id": "a9d77d1c-6297-4a6c-9474-edb4be6cba36",
   "metadata": {},
   "source": [
    "### Check if two tuples are identical."
   ]
  },
  {
   "cell_type": "code",
   "execution_count": 73,
   "id": "ef066439-0577-4e11-b7c0-e5dfb724e931",
   "metadata": {},
   "outputs": [
    {
     "name": "stdout",
     "output_type": "stream",
     "text": [
      "The two tuples are identical\n"
     ]
    }
   ],
   "source": [
    "t1 = (1,2,3,4)\n",
    "#t2 = (5,6,7,8)\n",
    "t2 = (1,2,3,4)\n",
    "\n",
    "if t1 == t2:\n",
    "    print(\"The two tuples are identical\")\n",
    "else:\n",
    "    print(\"not identical\")"
   ]
  },
  {
   "cell_type": "code",
   "execution_count": null,
   "id": "b5baeea2-5634-41e8-ba4b-5093ef820da9",
   "metadata": {},
   "outputs": [],
   "source": []
  },
  {
   "cell_type": "markdown",
   "id": "6010ce93-441c-4cf5-b276-c22292f87bca",
   "metadata": {},
   "source": [
    "### Sort the elements of a tuple."
   ]
  },
  {
   "cell_type": "markdown",
   "id": "d900f98b-c767-474a-b31a-3999f1742f9e",
   "metadata": {},
   "source": [
    "t1 = (12,15,11,1,2,78)\n",
    "t2 = tuple(sorted(t1))\n",
    "print(t2)"
   ]
  },
  {
   "cell_type": "code",
   "execution_count": null,
   "id": "88b02b28-ec43-4f51-97cd-f6195c269455",
   "metadata": {},
   "outputs": [],
   "source": []
  },
  {
   "cell_type": "markdown",
   "id": "f8d0bed7-484d-4d86-9ca5-a738daf3b0b9",
   "metadata": {},
   "source": [
    "### Convert a tuple of integers to a tuple of strings."
   ]
  },
  {
   "cell_type": "code",
   "execution_count": 79,
   "id": "44f8fd54-38e8-4da2-a746-9cc64513c043",
   "metadata": {},
   "outputs": [
    {
     "name": "stdout",
     "output_type": "stream",
     "text": [
      "('1', '2', '3', '4', '5')\n"
     ]
    }
   ],
   "source": [
    "tup = (1,2,3,4,5)\n",
    "\n",
    "t2 = tuple(str(item) for item in tup)\n",
    "\n",
    "print(t2)"
   ]
  },
  {
   "cell_type": "code",
   "execution_count": null,
   "id": "a30329d7-b52c-4602-8cd3-62fa00abb9e0",
   "metadata": {},
   "outputs": [],
   "source": []
  },
  {
   "cell_type": "markdown",
   "id": "fc52fd2b-e5c4-462e-8ac5-618708674703",
   "metadata": {},
   "source": [
    "### Convert a tuple of strings to a tuple of integers."
   ]
  },
  {
   "cell_type": "code",
   "execution_count": 1,
   "id": "f8a366d4-357d-4805-b3ee-1455d891a4df",
   "metadata": {},
   "outputs": [
    {
     "name": "stdout",
     "output_type": "stream",
     "text": [
      "(10, 20, 30, 40)\n"
     ]
    }
   ],
   "source": [
    "tup = ('10','20','30','40')\n",
    "\n",
    "t2 = tuple(int(item) for item in tup)\n",
    "\n",
    "print(t2)"
   ]
  },
  {
   "cell_type": "code",
   "execution_count": null,
   "id": "9ae1a90e-1c6c-45db-8226-f0e19f2c7041",
   "metadata": {},
   "outputs": [],
   "source": []
  },
  {
   "cell_type": "markdown",
   "id": "ef8f96f4-9b11-4444-a994-176ded3a9cfd",
   "metadata": {},
   "source": [
    "### Merge two tuples."
   ]
  },
  {
   "cell_type": "code",
   "execution_count": 2,
   "id": "8d90b8da-fb6c-4a43-9bbe-6134142a9b41",
   "metadata": {},
   "outputs": [
    {
     "name": "stdout",
     "output_type": "stream",
     "text": [
      "(1, 2, 3, 4, 4, 5, 6, 7, 8)\n"
     ]
    }
   ],
   "source": [
    "t1 = (1,2,3,4)\n",
    "t2 = (4,5,6,7,8)\n",
    "\n",
    "t3 = t1+t2\n",
    "\n",
    "print(t3)"
   ]
  },
  {
   "cell_type": "code",
   "execution_count": null,
   "id": "7832c55f-9320-4cbe-800e-3732a3dbdca6",
   "metadata": {},
   "outputs": [],
   "source": []
  },
  {
   "cell_type": "markdown",
   "id": "4e56f75e-f0ca-42d4-95ec-df004739b7e9",
   "metadata": {},
   "source": [
    "### Flatten a nested tuple."
   ]
  },
  {
   "cell_type": "code",
   "execution_count": 16,
   "id": "d1a2252a-92a2-489d-938f-366cdaece95e",
   "metadata": {},
   "outputs": [
    {
     "name": "stdout",
     "output_type": "stream",
     "text": [
      "(1, 2, 3, 4, 5, 6, 7, 8, 9)\n"
     ]
    }
   ],
   "source": [
    "def flatten_tuple(nested_tuple):\n",
    "    flattened = []\n",
    "    for item in nested_tuple:\n",
    "        if isinstance(item, tuple):\n",
    "            flattened.extend(flatten_tuple(item))\n",
    "        else:\n",
    "            flattened.append(item)\n",
    "    return tuple(flattened)\n",
    "\n",
    "nested_tuple = ((1, 2), (3, (4, 5)), 6, (7, 8, 9))\n",
    "flattened_tuple = flatten_tuple(nested_tuple)\n",
    "print(flattened_tuple)"
   ]
  },
  {
   "cell_type": "code",
   "execution_count": null,
   "id": "66f81506-b29f-43c4-ac36-b0926846703f",
   "metadata": {},
   "outputs": [],
   "source": []
  },
  {
   "cell_type": "markdown",
   "id": "0fdcd0fa-8705-44b4-af7c-97dd54da1044",
   "metadata": {},
   "source": [
    "### Create a tuple of the first 5 prime numbers."
   ]
  },
  {
   "cell_type": "code",
   "execution_count": 17,
   "id": "875f0b03-f566-4684-bb35-3fb06200d2d7",
   "metadata": {},
   "outputs": [
    {
     "name": "stdout",
     "output_type": "stream",
     "text": [
      "Tuple of the first 5 prime numbers: (2, 3, 5, 7, 11)\n"
     ]
    }
   ],
   "source": [
    "# Function to check if a number is prime\n",
    "def is_prime(num):\n",
    "    if num <= 1:\n",
    "        return False\n",
    "    for i in range(2, int(num ** 0.5) + 1):\n",
    "        if num % i == 0:\n",
    "            return False\n",
    "    return True\n",
    "\n",
    "# Generate the first 5 prime numbers\n",
    "prime_numbers_list = [num for num in range(2, 100) if is_prime(num)][:5]\n",
    "\n",
    "# Convert the list to a tuple\n",
    "prime_numbers_tuple = tuple(prime_numbers_list)\n",
    "\n",
    "# Print the tuple of prime numbers\n",
    "print(\"Tuple of the first 5 prime numbers:\", prime_numbers_tuple)"
   ]
  },
  {
   "cell_type": "code",
   "execution_count": null,
   "id": "111bdb3e-4f54-483c-9662-7139bf366e8e",
   "metadata": {},
   "outputs": [],
   "source": []
  },
  {
   "cell_type": "markdown",
   "id": "e7e299ea-ea51-4d99-93b3-b523b3e12b53",
   "metadata": {},
   "source": [
    "### Check if a tuple is a palindrome."
   ]
  },
  {
   "cell_type": "code",
   "execution_count": 26,
   "id": "f681c1c5-dbaa-4887-a529-51ba87c73d1e",
   "metadata": {},
   "outputs": [
    {
     "name": "stdin",
     "output_type": "stream",
     "text": [
      "tuple: 1,2,4\n"
     ]
    },
    {
     "name": "stdout",
     "output_type": "stream",
     "text": [
      "tuple is not pal\n"
     ]
    }
   ],
   "source": [
    "def is_pal(t):\n",
    "    return t == t[::-1]\n",
    "\n",
    "t1 = input(\"tuple:\")\n",
    "if (is_pal(t1)):\n",
    "    print(\"tuple is pal\")\n",
    "else:\n",
    "    print(\"tuple is not pal\")\n"
   ]
  },
  {
   "cell_type": "code",
   "execution_count": null,
   "id": "bc331fd8-e092-4130-b2b8-0799c5c57d99",
   "metadata": {},
   "outputs": [],
   "source": []
  },
  {
   "cell_type": "markdown",
   "id": "fcc73a2c-cfd2-42d9-9481-b2ead0634ce3",
   "metadata": {},
   "source": [
    "### Create a tuple of squares of numbers from 1 to 5."
   ]
  },
  {
   "cell_type": "code",
   "execution_count": 32,
   "id": "12b306f3-000c-4651-be08-f74c05b47cbb",
   "metadata": {},
   "outputs": [
    {
     "name": "stdout",
     "output_type": "stream",
     "text": [
      "[1, 4, 9, 16, 25]\n"
     ]
    }
   ],
   "source": [
    "tup = [x**2 for x in range(1,6,1)]\n",
    "print(tup)"
   ]
  },
  {
   "cell_type": "code",
   "execution_count": null,
   "id": "6989ff84-e140-44bb-9fc0-d76da91ac664",
   "metadata": {},
   "outputs": [],
   "source": []
  },
  {
   "cell_type": "markdown",
   "id": "2a0e0e52-5584-4a36-bf93-81d2ecaf89e9",
   "metadata": {},
   "source": [
    "### Filter out all even numbers from a tuple."
   ]
  },
  {
   "cell_type": "code",
   "execution_count": 38,
   "id": "7f301a72-755d-479c-9bce-56ac8629b8f0",
   "metadata": {},
   "outputs": [
    {
     "name": "stdout",
     "output_type": "stream",
     "text": [
      "(2, 4, 6, 8)\n"
     ]
    }
   ],
   "source": [
    "tup = (1,2,3,4,5,6,7,8)\n",
    "even_num = []\n",
    "for x in tup:\n",
    "    if x % 2 == 0:\n",
    "        even_num.append(x)\n",
    "\n",
    "even_num_tup = tuple(even_num)\n",
    "print(even_num_tup)"
   ]
  },
  {
   "cell_type": "code",
   "execution_count": null,
   "id": "a8368ba0-f108-4adf-9a35-96551c5d9ad5",
   "metadata": {},
   "outputs": [],
   "source": []
  },
  {
   "cell_type": "markdown",
   "id": "3b10418d-0e84-4f4a-9da4-57beea799c94",
   "metadata": {},
   "source": [
    "### Multiply all elements in a tuple by 2."
   ]
  },
  {
   "cell_type": "code",
   "execution_count": 5,
   "id": "bec712b4-ae15-4b76-b472-d6d20c685e4e",
   "metadata": {},
   "outputs": [
    {
     "name": "stdout",
     "output_type": "stream",
     "text": [
      "(2, 4, 6, 8, 10)\n"
     ]
    }
   ],
   "source": [
    "tup = (1,2,3,4,5)\n",
    "t1 = tuple(x *2 for x in tup)\n",
    "print(t1)\n",
    "\n",
    "     "
   ]
  },
  {
   "cell_type": "code",
   "execution_count": null,
   "id": "562d0cb9-8eed-4628-b3da-4e8ce22358eb",
   "metadata": {},
   "outputs": [],
   "source": []
  },
  {
   "cell_type": "markdown",
   "id": "7f8bfcf1-7566-41fc-ac62-71c47becd90b",
   "metadata": {},
   "source": [
    "### Create a tuple of random numbers."
   ]
  },
  {
   "cell_type": "code",
   "execution_count": 13,
   "id": "4c33111c-4448-4826-ae4b-e34b12a510c3",
   "metadata": {},
   "outputs": [
    {
     "name": "stdout",
     "output_type": "stream",
     "text": [
      "(3, 5, 80, 82, 55, 69, 35, 76, 99, 17)\n"
     ]
    }
   ],
   "source": [
    "import random\n",
    "\n",
    "tup1 = tuple(random.randint (1,100) for _ in range(10))\n",
    "\n",
    "print(tup1)"
   ]
  },
  {
   "cell_type": "code",
   "execution_count": null,
   "id": "15f60d9c-b610-4f6d-9641-cd0437e0b298",
   "metadata": {},
   "outputs": [],
   "source": []
  },
  {
   "cell_type": "markdown",
   "id": "1b50c9e7-9fc6-4124-98b5-2dc1aab4450f",
   "metadata": {},
   "source": [
    "### Check if a tuple is sorted."
   ]
  },
  {
   "cell_type": "code",
   "execution_count": 9,
   "id": "823f8e73-32d0-4f7d-b83a-04a79588be37",
   "metadata": {},
   "outputs": [
    {
     "name": "stdout",
     "output_type": "stream",
     "text": [
      "(1, 2, 3, 4, 6, 7)\n",
      "sorted\n"
     ]
    }
   ],
   "source": [
    "tup = (1, 2, 3, 4,  6, 7)\n",
    "t2 = tuple(sorted(tup))\n",
    "print(t2)\n",
    "\n",
    "if tup == t2:\n",
    "    print(\"sorted\")\n",
    "else:\n",
    "    print(\"not sorted\")"
   ]
  },
  {
   "cell_type": "code",
   "execution_count": null,
   "id": "ec7f005e-02e0-40fa-a980-0fd7440a6733",
   "metadata": {},
   "outputs": [],
   "source": []
  },
  {
   "cell_type": "markdown",
   "id": "58f9d4e8-f368-4260-b30a-5f046de307ec",
   "metadata": {},
   "source": [
    "### Rotate a tuple to the left by `n` positions."
   ]
  },
  {
   "cell_type": "code",
   "execution_count": 11,
   "id": "8f4ce774-cd5d-4b6f-803a-a799278cd323",
   "metadata": {},
   "outputs": [
    {
     "name": "stdout",
     "output_type": "stream",
     "text": [
      "(3, 4, 5, 1, 2)\n"
     ]
    }
   ],
   "source": [
    "def rotate_tuple_left(tup, n):\n",
    "    n = n % len(tup)  # Ensure n is within the range of tuple length\n",
    "    rotated_tuple = tup[n:] + tup[:n]  # Rotate the tuple\n",
    "    return rotated_tuple\n",
    "\n",
    "# Example tuple\n",
    "my_tuple = (1, 2, 3, 4, 5)\n",
    "n_positions = 2\n",
    "result = rotate_tuple_left(my_tuple, n_positions)\n",
    "print(result)"
   ]
  },
  {
   "cell_type": "code",
   "execution_count": null,
   "id": "99793c46-b4e4-45e7-9c00-0c51ae50dc96",
   "metadata": {},
   "outputs": [],
   "source": []
  },
  {
   "cell_type": "markdown",
   "id": "bd75c6b6-1d18-4af0-9430-fcf73221f915",
   "metadata": {},
   "source": [
    "### Rotate a tuple to the right by `n` positions."
   ]
  },
  {
   "cell_type": "code",
   "execution_count": 12,
   "id": "da893384-62ae-4a55-a3aa-aac56c80e58f",
   "metadata": {},
   "outputs": [
    {
     "name": "stdout",
     "output_type": "stream",
     "text": [
      "(4, 5, 1, 2, 3)\n"
     ]
    }
   ],
   "source": [
    "def rotate_tuple_right(tup, n):\n",
    "    n = n % len(tup)  # Ensure n is within the range of tuple length\n",
    "    rotated_tuple = tup[-n:] + tup[:-n]  # Rotate the tuple\n",
    "    return rotated_tuple\n",
    "\n",
    "# Example tuple\n",
    "my_tuple = (1, 2, 3, 4, 5)\n",
    "n_positions = 2\n",
    "result = rotate_tuple_right(my_tuple, n_positions)\n",
    "print(result)"
   ]
  },
  {
   "cell_type": "code",
   "execution_count": null,
   "id": "dcfcb254-6f07-41dc-a753-2b9f40c67d3b",
   "metadata": {},
   "outputs": [],
   "source": []
  },
  {
   "cell_type": "markdown",
   "id": "058cf0b0-d6c3-4e13-933a-c7f270a6fb66",
   "metadata": {},
   "source": [
    "### Create a tuple of the first 5 Fibonacci numbers."
   ]
  },
  {
   "cell_type": "code",
   "execution_count": 13,
   "id": "5eafad04-84bd-4dbe-bd87-f37716de0932",
   "metadata": {},
   "outputs": [
    {
     "name": "stdout",
     "output_type": "stream",
     "text": [
      "(0, 1, 1, 2, 3)\n"
     ]
    }
   ],
   "source": [
    "# Define a function to generate the first n Fibonacci numbers\n",
    "def generate_fibonacci(n):\n",
    "    fibonacci = [0, 1]  # Initialize the list with the first two Fibonacci numbers\n",
    "    while len(fibonacci) < n:  # Continue generating Fibonacci numbers until the list has n elements\n",
    "        next_number = fibonacci[-1] + fibonacci[-2]  # Calculate the next Fibonacci number\n",
    "        fibonacci.append(next_number)  # Add the next Fibonacci number to the list\n",
    "    return tuple(fibonacci)  # Convert the list to a tuple and return it\n",
    "\n",
    "# Call the generate_fibonacci function to create a tuple of the first 5 Fibonacci numbers\n",
    "fibonacci_tuple = generate_fibonacci(5)\n",
    "\n",
    "# Print the resulting tuple\n",
    "print(fibonacci_tuple)"
   ]
  },
  {
   "cell_type": "code",
   "execution_count": 20,
   "id": "5b9d2771-ba7b-471e-abcb-df1babc1f69f",
   "metadata": {},
   "outputs": [],
   "source": []
  },
  {
   "cell_type": "markdown",
   "id": "cfbdcd60-731d-47a4-8e91-d0dd3edfebb7",
   "metadata": {},
   "source": [
    "### Create a tuple from user input."
   ]
  },
  {
   "cell_type": "code",
   "execution_count": 3,
   "id": "5d450cb3-6f4d-4966-8a66-af5229bba665",
   "metadata": {},
   "outputs": [
    {
     "name": "stdin",
     "output_type": "stream",
     "text": [
      "Enter a tuple: 123\n"
     ]
    },
    {
     "name": "stdout",
     "output_type": "stream",
     "text": [
      "('1', '2', '3')\n"
     ]
    }
   ],
   "source": [
    "tup = input(\"Enter a tuple:\")\n",
    "t1 = tuple(tup)\n",
    "print(t1)"
   ]
  },
  {
   "cell_type": "code",
   "execution_count": null,
   "id": "5c034fc3-4b6f-4b53-9c3d-1654a9f83ac8",
   "metadata": {},
   "outputs": [],
   "source": []
  },
  {
   "cell_type": "markdown",
   "id": "c8dfb467-ef09-4c2d-b898-25be87c3fb44",
   "metadata": {},
   "source": [
    "### Swap two elements in a tuple."
   ]
  },
  {
   "cell_type": "code",
   "execution_count": 25,
   "id": "08a29517-6044-4775-bfb3-1855aa7fe41a",
   "metadata": {},
   "outputs": [
    {
     "name": "stdout",
     "output_type": "stream",
     "text": [
      "Swapped tuple: (1, 4, 3, 2, 5)\n"
     ]
    }
   ],
   "source": [
    "# Create a tuple\n",
    "my_tuple = (1, 2, 3, 4, 5)\n",
    "\n",
    "# Swap elements at indices 1 and 3\n",
    "index1 = 1\n",
    "index2 = 3\n",
    "swapped_tuple = tuple(\n",
    "    my_tuple[i] if i not in (index1, index2) else\n",
    "    my_tuple[index2] if i == index1 else\n",
    "    my_tuple[index1]\n",
    "    for i in range(len(my_tuple))\n",
    ")\n",
    "\n",
    "# Print the swapped tuple\n",
    "print(\"Swapped tuple:\", swapped_tuple)"
   ]
  },
  {
   "cell_type": "code",
   "execution_count": null,
   "id": "3edb4dc7-3a26-4803-b3b2-7a6bda6937a9",
   "metadata": {},
   "outputs": [],
   "source": []
  },
  {
   "cell_type": "markdown",
   "id": "18eaa778-2507-49c4-85fd-d143ed84336f",
   "metadata": {},
   "source": [
    "### Reverse the elements of a tuple."
   ]
  },
  {
   "cell_type": "code",
   "execution_count": 26,
   "id": "80ac055f-ff55-4f9b-95cc-6e5dbe931a37",
   "metadata": {},
   "outputs": [
    {
     "name": "stdout",
     "output_type": "stream",
     "text": [
      "(6, 5, 4, 3, 2, 1)\n"
     ]
    }
   ],
   "source": [
    "tup = (1,2,3,4,5,6)\n",
    "\n",
    "t1 = tup[::-1]\n",
    "\n",
    "print(t1)"
   ]
  },
  {
   "cell_type": "code",
   "execution_count": null,
   "id": "8bb8315f-6c8f-4aa3-8588-835c5bec9213",
   "metadata": {},
   "outputs": [],
   "source": []
  },
  {
   "cell_type": "markdown",
   "id": "70fcb094-7d11-47f7-ab35-15958101c48d",
   "metadata": {},
   "source": [
    "### Create a tuple of the first `n` powers of 2."
   ]
  },
  {
   "cell_type": "code",
   "execution_count": 31,
   "id": "55461f2c-e4de-46f6-b242-2bef43c4737d",
   "metadata": {},
   "outputs": [
    {
     "name": "stdout",
     "output_type": "stream",
     "text": [
      "(1, 2, 4, 8, 16)\n"
     ]
    }
   ],
   "source": [
    "def tup_n(n):\n",
    "    return tuple(2**i for i in range(n))\n",
    "\n",
    "n = 5\n",
    "power = tup_n(n)\n",
    "print(power)\n"
   ]
  },
  {
   "cell_type": "code",
   "execution_count": null,
   "id": "40cb3655-990e-456e-8a48-3c6510445e80",
   "metadata": {},
   "outputs": [],
   "source": []
  },
  {
   "cell_type": "markdown",
   "id": "0a67bd36-265f-40f2-bbd7-ede348e95a1e",
   "metadata": {},
   "source": [
    "### Find the longest string in a tuple of strings."
   ]
  },
  {
   "cell_type": "code",
   "execution_count": 37,
   "id": "ee966bc7-cec9-4db4-bdb6-1407aa0b948c",
   "metadata": {},
   "outputs": [
    {
     "name": "stdout",
     "output_type": "stream",
     "text": [
      "longest string is: watermelon\n"
     ]
    }
   ],
   "source": [
    "string_tuple = (\"apple\", \"banana\", \"grape\", \"kiwi\", \"watermelon\")\n",
    "\n",
    "t1 = max(string_tuple , key = len)\n",
    "\n",
    "print(\"longest string is:\",t1)"
   ]
  },
  {
   "cell_type": "code",
   "execution_count": null,
   "id": "eaac34d6-4448-4f2c-afc8-e75340c40282",
   "metadata": {},
   "outputs": [],
   "source": []
  },
  {
   "cell_type": "markdown",
   "id": "06171a2c-0579-4e83-99d5-939fd510ca9e",
   "metadata": {},
   "source": [
    "### Find the shortest string in a tuple of strings."
   ]
  },
  {
   "cell_type": "code",
   "execution_count": 36,
   "id": "0d223d91-09f8-4deb-8003-eee019742632",
   "metadata": {},
   "outputs": [
    {
     "name": "stdout",
     "output_type": "stream",
     "text": [
      "shortest string is: kiwi\n"
     ]
    }
   ],
   "source": [
    "string_tuple = (\"apple\", \"banana\", \"grape\", \"kiwi\", \"watermelon\")\n",
    "\n",
    "t1 = min(string_tuple, key = len)\n",
    "\n",
    "print(\"shortest string is:\",t1)"
   ]
  },
  {
   "cell_type": "code",
   "execution_count": null,
   "id": "17c23e83-9978-406e-b007-6816c23485ab",
   "metadata": {},
   "outputs": [],
   "source": []
  },
  {
   "cell_type": "markdown",
   "id": "f59652af-bcdd-4eba-b307-26f72bfa64ad",
   "metadata": {},
   "source": [
    "### Create a tuple of the first `n` triangular numbers."
   ]
  },
  {
   "cell_type": "code",
   "execution_count": 38,
   "id": "dc467397-4921-4365-8ac4-db707e2bb54d",
   "metadata": {},
   "outputs": [
    {
     "name": "stdout",
     "output_type": "stream",
     "text": [
      "Tuple of the first 5 triangular numbers: (1, 3, 6, 10, 15)\n"
     ]
    }
   ],
   "source": [
    "# Define the value of n\n",
    "n = 5\n",
    "\n",
    "# Create a tuple of the first n triangular numbers using a list comprehension\n",
    "triangular_numbers_tuple = tuple((i * (i + 1)) // 2 for i in range(1, n + 1))\n",
    "\n",
    "# Print the tuple of triangular numbers\n",
    "print(\"Tuple of the first\", n, \"triangular numbers:\", triangular_numbers_tuple)"
   ]
  },
  {
   "cell_type": "code",
   "execution_count": null,
   "id": "8104fd3e-2a81-46b4-afac-bcd89ffbd688",
   "metadata": {},
   "outputs": [],
   "source": []
  },
  {
   "cell_type": "markdown",
   "id": "6e5879e4-b24a-435b-a6a2-6436eb9dee1a",
   "metadata": {},
   "source": [
    "### Check if a tuple contains another tuple as a subsequence."
   ]
  },
  {
   "cell_type": "code",
   "execution_count": 1,
   "id": "c260f0a7-4542-4bcb-9bcc-743bf97c3fca",
   "metadata": {},
   "outputs": [
    {
     "name": "stdout",
     "output_type": "stream",
     "text": [
      "Main list contains the subsequence.\n"
     ]
    }
   ],
   "source": [
    "# Function to check if a list contains another list as a subsequence\n",
    "def is_subsequence(subsequence, main_list):\n",
    "    subseq_index = 0  # Index for the subsequence elements\n",
    "    for element in main_list:\n",
    "        if element == subsequence[subseq_index]:\n",
    "            subseq_index += 1\n",
    "            if subseq_index == len(subsequence):\n",
    "                return True\n",
    "    return False\n",
    "\n",
    "# Example main list and subsequence\n",
    "main_list = [1, 2, 3, 4, 5, 6, 7, 8, 9, 10]\n",
    "subsequence = [3, 5, 8]\n",
    "\n",
    "# Check if the main list contains the subsequence\n",
    "if is_subsequence(subsequence, main_list):\n",
    "    print(\"Main list contains the subsequence.\")\n",
    "else:\n",
    "    print(\"Main list does not contain the subsequence.\")"
   ]
  },
  {
   "cell_type": "code",
   "execution_count": null,
   "id": "e4507a2c-baca-4cc6-a784-52b9824fad76",
   "metadata": {},
   "outputs": [],
   "source": []
  },
  {
   "cell_type": "markdown",
   "id": "0506100f-a251-4099-8926-cdca4153f8b1",
   "metadata": {},
   "source": [
    "### Swap two elements in a list by their indices."
   ]
  },
  {
   "cell_type": "code",
   "execution_count": 2,
   "id": "4ef83174-f685-4034-b5c6-f18901cf7c45",
   "metadata": {},
   "outputs": [
    {
     "name": "stdout",
     "output_type": "stream",
     "text": [
      "List after swapping elements: [1, 4, 3, 2, 5]\n"
     ]
    }
   ],
   "source": [
    "# Example list\n",
    "my_list = [1, 2, 3, 4, 5]\n",
    "\n",
    "# Indices of elements to swap\n",
    "index1 = 1\n",
    "index2 = 3\n",
    "\n",
    "# Swap the elements at the specified indices\n",
    "temp = my_list[index1]\n",
    "my_list[index1] = my_list[index2]\n",
    "my_list[index2] = temp\n",
    "\n",
    "# Print the list after swapping\n",
    "print(\"List after swapping elements:\", my_list)"
   ]
  },
  {
   "cell_type": "code",
   "execution_count": null,
   "id": "44753f07-a4cc-4f7e-8c13-2e92a7b9957b",
   "metadata": {},
   "outputs": [],
   "source": []
  },
  {
   "cell_type": "markdown",
   "id": "fa3e669d-13c3-4243-b0d4-08d0aad1a2a3",
   "metadata": {},
   "source": [
    "# Set Based Practice Problem :"
   ]
  },
  {
   "cell_type": "markdown",
   "id": "b2bab99b-1445-4e6f-bfda-337b8ab7ac7e",
   "metadata": {},
   "source": [
    "### Create a set with integers from 1 to 5."
   ]
  },
  {
   "cell_type": "code",
   "execution_count": 1,
   "id": "6c1e1de4-d60b-42f0-9e17-546698148557",
   "metadata": {},
   "outputs": [
    {
     "name": "stdout",
     "output_type": "stream",
     "text": [
      "{1, 2, 3, 4, 5}\n"
     ]
    }
   ],
   "source": [
    "set1 = {1,2,3,4,5}\n",
    "\n",
    "print(set1)"
   ]
  },
  {
   "cell_type": "code",
   "execution_count": null,
   "id": "f0651029-4500-4116-ac46-041748b64ad7",
   "metadata": {},
   "outputs": [],
   "source": []
  },
  {
   "cell_type": "markdown",
   "id": "9579e24c-4fb8-4728-9269-6879a929c12c",
   "metadata": {},
   "source": [
    "### Add an element to a set."
   ]
  },
  {
   "cell_type": "code",
   "execution_count": 2,
   "id": "0175e5a7-412c-45d0-b603-9ca4bd4bb527",
   "metadata": {},
   "outputs": [
    {
     "name": "stdin",
     "output_type": "stream",
     "text": [
      "enter element to add: abhi\n"
     ]
    },
    {
     "name": "stdout",
     "output_type": "stream",
     "text": [
      "{1, 2, 3, 4, 5, 6, 'abhi'}\n"
     ]
    }
   ],
   "source": [
    "set1 = {1,2,3,4,5,6}\n",
    "\n",
    "ele = input(\"enter element to add:\")\n",
    "\n",
    "set1.add(ele)\n",
    "\n",
    "print(set1)"
   ]
  },
  {
   "cell_type": "code",
   "execution_count": null,
   "id": "a08acf23-6d07-4a67-8af1-efd5b3a6c56c",
   "metadata": {},
   "outputs": [],
   "source": []
  },
  {
   "cell_type": "markdown",
   "id": "f3719609-0cae-4bb6-957b-ed089faeb6b6",
   "metadata": {},
   "source": [
    "### Remove an element from a set."
   ]
  },
  {
   "cell_type": "code",
   "execution_count": 4,
   "id": "b3c8aeed-c475-48da-af68-9fe12c3e1603",
   "metadata": {},
   "outputs": [
    {
     "name": "stdin",
     "output_type": "stream",
     "text": [
      "enter ele to remove: 1\n"
     ]
    },
    {
     "name": "stdout",
     "output_type": "stream",
     "text": [
      "{2, 3, 4, 5}\n"
     ]
    }
   ],
   "source": [
    "set1 = {1,2,3,4,5}\n",
    "\n",
    "ele = int(input(\"enter ele to remove:\"))\n",
    "\n",
    "set1.remove(ele)\n",
    "\n",
    "print(set1)"
   ]
  },
  {
   "cell_type": "code",
   "execution_count": null,
   "id": "ee09ea6e-d192-4457-9f61-a65abfa5d7db",
   "metadata": {},
   "outputs": [],
   "source": []
  },
  {
   "cell_type": "code",
   "execution_count": 10,
   "id": "295da127-f629-4c79-8e3e-94f43e50aa42",
   "metadata": {},
   "outputs": [
    {
     "name": "stdout",
     "output_type": "stream",
     "text": [
      "{1, 2, 3, 4, 'abhi'}\n",
      "Element exist\n"
     ]
    }
   ],
   "source": [
    "### Check if an element exists in a set.\n",
    "\n",
    "set1 = {1,2,3,'abhi',4}\n",
    "print(set1)\n",
    "\n",
    "ele = \"abhi\"\n",
    "\n",
    "if ele in set1:\n",
    "    print(\"Element exist\")\n",
    "else:\n",
    "    print(\"Element does not exist\")"
   ]
  },
  {
   "cell_type": "code",
   "execution_count": null,
   "id": "40bd2884-7b66-40b7-ab21-7983395bf3e3",
   "metadata": {},
   "outputs": [],
   "source": []
  },
  {
   "cell_type": "markdown",
   "id": "81cb2507-3c6f-483e-94db-a62d493f11b8",
   "metadata": {},
   "source": [
    "### Find the length of a set without using the `len()` function."
   ]
  },
  {
   "cell_type": "code",
   "execution_count": 15,
   "id": "11a4210b-25ce-4d4e-9301-fc443e0cfe9f",
   "metadata": {},
   "outputs": [
    {
     "name": "stdout",
     "output_type": "stream",
     "text": [
      "Number of elements: 6\n"
     ]
    }
   ],
   "source": [
    "set1 = {1,2,3,4,5,6}\n",
    "\n",
    "count = 0\n",
    "\n",
    "for _ in set1:\n",
    "    count += 1\n",
    "print(\"Number of elements:\",count)\n",
    "    "
   ]
  },
  {
   "cell_type": "code",
   "execution_count": null,
   "id": "bc775a0b-e74f-4e3e-b021-e6a86b21743a",
   "metadata": {},
   "outputs": [],
   "source": []
  },
  {
   "cell_type": "markdown",
   "id": "2898f532-1b08-4107-bef3-8b6f4dff8205",
   "metadata": {},
   "source": [
    "### Clear all elements from a set."
   ]
  },
  {
   "cell_type": "code",
   "execution_count": 16,
   "id": "27823040-044a-48cf-8469-85e77ff65da9",
   "metadata": {},
   "outputs": [
    {
     "name": "stdout",
     "output_type": "stream",
     "text": [
      "set()\n"
     ]
    }
   ],
   "source": [
    "set1 = {1,2,3,4,5}\n",
    "\n",
    "set1.clear()\n",
    "\n",
    "print(set1)"
   ]
  },
  {
   "cell_type": "code",
   "execution_count": null,
   "id": "0167b3fa-c006-49a4-a861-362d978f66e4",
   "metadata": {},
   "outputs": [],
   "source": []
  },
  {
   "cell_type": "markdown",
   "id": "ebf651d4-8ae5-483e-bc33-2ab29787ed64",
   "metadata": {},
   "source": [
    "### Create a set of even numbers from 1 to 10."
   ]
  },
  {
   "cell_type": "code",
   "execution_count": 17,
   "id": "f8ae45bf-f1ee-4b33-b02a-c070f0238c3c",
   "metadata": {},
   "outputs": [
    {
     "name": "stdout",
     "output_type": "stream",
     "text": [
      "{2, 4, 6, 8, 10}\n"
     ]
    }
   ],
   "source": [
    "even_num = {x for x in range(1,11) if x%2 == 0}\n",
    "print(even_num)"
   ]
  },
  {
   "cell_type": "code",
   "execution_count": null,
   "id": "247a2c22-936e-489e-a37a-0b63a0c0637f",
   "metadata": {},
   "outputs": [],
   "source": []
  },
  {
   "cell_type": "markdown",
   "id": "4e38673a-3846-419e-9f90-6a6dc79572b8",
   "metadata": {},
   "source": [
    "### Create a set of odd numbers from 1 to 10."
   ]
  },
  {
   "cell_type": "code",
   "execution_count": 18,
   "id": "9de4c6c9-d775-45ec-995b-ed0f12499790",
   "metadata": {},
   "outputs": [
    {
     "name": "stdout",
     "output_type": "stream",
     "text": [
      "{1, 3, 5, 7, 9}\n"
     ]
    }
   ],
   "source": [
    "odd_num = {x for x in range(1,11) if x%2 == 1}\n",
    "print(odd_num)"
   ]
  },
  {
   "cell_type": "code",
   "execution_count": null,
   "id": "78474e25-c608-42d5-a494-f8f5774ad717",
   "metadata": {},
   "outputs": [],
   "source": []
  },
  {
   "cell_type": "markdown",
   "id": "dec01c24-f083-4d48-b738-ef68788d7215",
   "metadata": {},
   "source": [
    "### Find the union of two sets."
   ]
  },
  {
   "cell_type": "code",
   "execution_count": 19,
   "id": "0060d616-68d6-4d91-8f7e-fc4dc251c31e",
   "metadata": {},
   "outputs": [
    {
     "name": "stdout",
     "output_type": "stream",
     "text": [
      "{1, 2, 3, 4, 5, 6, 7}\n"
     ]
    }
   ],
   "source": [
    "set1 = {1,2,3,4}\n",
    "set2 = {4,5,6,7}\n",
    "\n",
    "u_set = set1.union(set2)\n",
    "\n",
    "print(u_set)"
   ]
  },
  {
   "cell_type": "code",
   "execution_count": null,
   "id": "a375f615-a265-4faa-aa70-2ed5a491206f",
   "metadata": {},
   "outputs": [],
   "source": []
  },
  {
   "cell_type": "markdown",
   "id": "7945b35e-528e-4b60-970d-2f4f2a8a8965",
   "metadata": {},
   "source": [
    "### Find the intersection of two sets."
   ]
  },
  {
   "cell_type": "code",
   "execution_count": 21,
   "id": "8c3454df-b278-4880-8761-28dada30c1ef",
   "metadata": {},
   "outputs": [
    {
     "name": "stdout",
     "output_type": "stream",
     "text": [
      "{1, 2, 3, 7, 8}\n"
     ]
    }
   ],
   "source": [
    "set1 = {1,2,3,4,5,6,7,8,9}\n",
    "\n",
    "set2 = {1,2,3,7,8}\n",
    "\n",
    "int_set = set1.intersection(set2)\n",
    "\n",
    "print(int_set)"
   ]
  },
  {
   "cell_type": "code",
   "execution_count": null,
   "id": "31ce4edd-5694-4264-85eb-6f509ed3044f",
   "metadata": {},
   "outputs": [],
   "source": []
  },
  {
   "cell_type": "markdown",
   "id": "cd5fc2f1-689a-4458-bbb3-b9ae74cd5957",
   "metadata": {},
   "source": [
    "### Find the difference between two sets."
   ]
  },
  {
   "cell_type": "code",
   "execution_count": 22,
   "id": "d1e41d77-19dd-458d-9133-726a63da7eee",
   "metadata": {},
   "outputs": [
    {
     "name": "stdout",
     "output_type": "stream",
     "text": [
      "{8, 1, 2, 7}\n"
     ]
    }
   ],
   "source": [
    "set1 = {1,2,3,4,5,6,7,8}\n",
    "\n",
    "set2 = {3,4,5,6}\n",
    "\n",
    "diff = set1.difference(set2)\n",
    "\n",
    "print(diff)"
   ]
  },
  {
   "cell_type": "code",
   "execution_count": null,
   "id": "f66d5489-53c3-4b73-be0f-25bd90c4c3b1",
   "metadata": {},
   "outputs": [],
   "source": []
  },
  {
   "cell_type": "markdown",
   "id": "231f7cba-622f-41ce-bd70-36ea41f80813",
   "metadata": {},
   "source": [
    "### Check if a set is a subset of another set."
   ]
  },
  {
   "cell_type": "code",
   "execution_count": 25,
   "id": "95d6b1f6-8464-4751-8e7b-f9ff6f8cc648",
   "metadata": {},
   "outputs": [
    {
     "name": "stdout",
     "output_type": "stream",
     "text": [
      "True\n"
     ]
    }
   ],
   "source": [
    "set1 = {1,2,3,4,5,6}\n",
    "\n",
    "set2 = {1,2}\n",
    "\n",
    "sub = set2.issubset(set1)\n",
    "\n",
    "print(sub)"
   ]
  },
  {
   "cell_type": "code",
   "execution_count": null,
   "id": "91f49d46-f60a-47bb-9d73-b90dd435fddb",
   "metadata": {},
   "outputs": [],
   "source": []
  },
  {
   "cell_type": "markdown",
   "id": "1bf0b2e6-768e-417c-8b7a-c639468aeb2c",
   "metadata": {},
   "source": [
    "### Check if a set is a superset of another set."
   ]
  },
  {
   "cell_type": "code",
   "execution_count": 26,
   "id": "23a23904-0600-4a55-8b4e-0dbcbd3cf394",
   "metadata": {},
   "outputs": [
    {
     "name": "stdout",
     "output_type": "stream",
     "text": [
      "True\n"
     ]
    }
   ],
   "source": [
    "set1 = {1,2,3,4,5,6}\n",
    "\n",
    "set2 = {1,2,3,4}\n",
    "\n",
    "sup = set1.issuperset(set2)\n",
    "\n",
    "print(sup)"
   ]
  },
  {
   "cell_type": "code",
   "execution_count": null,
   "id": "d28d8975-e39b-4576-8851-6bdfe198fdc5",
   "metadata": {},
   "outputs": [],
   "source": []
  },
  {
   "cell_type": "markdown",
   "id": "be2f7e1f-9a11-4c1c-b05f-236ee7d3922f",
   "metadata": {},
   "source": [
    "### Create a set from a list."
   ]
  },
  {
   "cell_type": "code",
   "execution_count": 27,
   "id": "1e1bf229-c5d6-4723-9906-82a162c18694",
   "metadata": {},
   "outputs": [
    {
     "name": "stdout",
     "output_type": "stream",
     "text": [
      "{1, 2, 3, 4, 5, 6}\n"
     ]
    }
   ],
   "source": [
    "list1 = [1,2,3,4,5,6]\n",
    "\n",
    "set1 = set(list1)\n",
    "\n",
    "print(set1)"
   ]
  },
  {
   "cell_type": "code",
   "execution_count": null,
   "id": "cbcf3eaa-d434-4fd1-9f3a-71760ccd4178",
   "metadata": {},
   "outputs": [],
   "source": []
  },
  {
   "cell_type": "markdown",
   "id": "a5bdfcc8-9edd-4269-9084-8363f7ee8dcd",
   "metadata": {},
   "source": [
    "### Convert a set to a list."
   ]
  },
  {
   "cell_type": "code",
   "execution_count": 28,
   "id": "d87e1924-a3ec-44bd-92d0-64efbf8bad14",
   "metadata": {},
   "outputs": [
    {
     "name": "stdout",
     "output_type": "stream",
     "text": [
      "[1, 2, 3, 4, 5, 6]\n"
     ]
    }
   ],
   "source": [
    "set1 = {1,2,3,4,5,6}\n",
    "\n",
    "list1 = list(set1)\n",
    "\n",
    "print(list1)"
   ]
  },
  {
   "cell_type": "code",
   "execution_count": null,
   "id": "6d7d0bd3-a5bc-401f-8b8b-b2962c2b8d8d",
   "metadata": {},
   "outputs": [],
   "source": []
  },
  {
   "cell_type": "markdown",
   "id": "181a9d52-dbec-4a25-a4bb-6a3aa552b4bd",
   "metadata": {},
   "source": [
    "### Remove a random element from a set."
   ]
  },
  {
   "cell_type": "code",
   "execution_count": 35,
   "id": "532ad89b-6c3d-402d-96ec-544b55d10707",
   "metadata": {},
   "outputs": [
    {
     "name": "stdout",
     "output_type": "stream",
     "text": [
      "{1, 2, 4, 5, 8}\n"
     ]
    }
   ],
   "source": [
    "import random\n",
    "\n",
    "set1 = {1,2,4,5,7,8}\n",
    "random_element = random.choice(list(set1))\n",
    "set1.remove(random_element)\n",
    "\n",
    "print(set1)"
   ]
  },
  {
   "cell_type": "code",
   "execution_count": null,
   "id": "a58bd6d2-1587-4a96-942c-8c9a1ad297cc",
   "metadata": {},
   "outputs": [],
   "source": []
  },
  {
   "cell_type": "markdown",
   "id": "01deefeb-a30a-49a3-ba05-724585df4e9e",
   "metadata": {},
   "source": [
    "### Pop an element from a set."
   ]
  },
  {
   "cell_type": "code",
   "execution_count": 43,
   "id": "4063b409-194e-4f38-b0ae-b33d3ee26c48",
   "metadata": {},
   "outputs": [
    {
     "name": "stdout",
     "output_type": "stream",
     "text": [
      "{2, 3, 4, 5, 6}\n"
     ]
    }
   ],
   "source": [
    "set1 = {1,2,3,4,5,6}\n",
    "set1.pop()\n",
    "\n",
    "print(set1)"
   ]
  },
  {
   "cell_type": "code",
   "execution_count": null,
   "id": "05d37f46-2ccd-4a78-a0be-fac97173869e",
   "metadata": {},
   "outputs": [],
   "source": []
  },
  {
   "cell_type": "markdown",
   "id": "b3203aef-7c48-4c4a-8a5a-e53ff48bb0d6",
   "metadata": {},
   "source": [
    "### Check if two sets have no elements in common."
   ]
  },
  {
   "cell_type": "code",
   "execution_count": 48,
   "id": "572460fb-a716-4cc2-b13a-259c418ac920",
   "metadata": {},
   "outputs": [
    {
     "name": "stdout",
     "output_type": "stream",
     "text": [
      "set()\n",
      "No elements in common\n"
     ]
    }
   ],
   "source": [
    "set1 = {1,2,4,5}\n",
    "\n",
    "set2 = {7,8,9}\n",
    "\n",
    "diff = set1.intersection(set2)\n",
    "\n",
    "print(diff)\n",
    "\n",
    "if not diff:\n",
    "    print(\"No elements in common\")\n",
    "else:\n",
    "    print(\"common element:\",diff)"
   ]
  },
  {
   "cell_type": "code",
   "execution_count": null,
   "id": "7795d652-afe1-4376-b158-45986b3ffbc3",
   "metadata": {},
   "outputs": [],
   "source": []
  },
  {
   "cell_type": "markdown",
   "id": "e7a7568a-848d-4e7d-a096-278a9f2aca32",
   "metadata": {},
   "source": [
    "### Find the symmetric difference between two sets."
   ]
  },
  {
   "cell_type": "code",
   "execution_count": 51,
   "id": "2153a518-e56f-4822-92f9-da116d3a5a73",
   "metadata": {},
   "outputs": [
    {
     "name": "stdout",
     "output_type": "stream",
     "text": [
      "{1, 2, 3, 6, 7, 8}\n"
     ]
    }
   ],
   "source": [
    "set1 = {1,2,3,4,5}\n",
    "\n",
    "set2 = {4,5,6,7,8}\n",
    "\n",
    "symm_diff = set1.symmetric_difference(set2)\n",
    "\n",
    "print(symm_diff)"
   ]
  },
  {
   "cell_type": "code",
   "execution_count": null,
   "id": "3c9e2256-0faa-4fbb-ab4c-7a25d13c6dc8",
   "metadata": {},
   "outputs": [],
   "source": []
  },
  {
   "cell_type": "markdown",
   "id": "deeef1ec-2045-4c72-b44c-f4491722036b",
   "metadata": {},
   "source": [
    "### Update a set with elements from another set."
   ]
  },
  {
   "cell_type": "code",
   "execution_count": 52,
   "id": "5dcaaf2a-b43b-4d0e-81e7-5a1c3859bcaf",
   "metadata": {},
   "outputs": [
    {
     "name": "stdout",
     "output_type": "stream",
     "text": [
      "{1, 2, 3, 4, 5, 6, 7}\n"
     ]
    }
   ],
   "source": [
    "set1 = {1,2,3,4}\n",
    "\n",
    "set2 = {3,5,6,7}\n",
    "\n",
    "set1.update(set2)\n",
    "\n",
    "print(set1)"
   ]
  },
  {
   "cell_type": "code",
   "execution_count": null,
   "id": "6b025c9b-9813-4c53-902f-09b321dfc069",
   "metadata": {},
   "outputs": [],
   "source": []
  },
  {
   "cell_type": "markdown",
   "id": "8efb7ab5-dfbf-4dbc-a65a-804c9d1c317e",
   "metadata": {},
   "source": [
    "### Create a set of the first 5 prime numbers."
   ]
  },
  {
   "cell_type": "code",
   "execution_count": 53,
   "id": "7144a998-085e-47d8-8869-fa9f82174e42",
   "metadata": {},
   "outputs": [
    {
     "name": "stdout",
     "output_type": "stream",
     "text": [
      "Set of the first 5 prime numbers: {2, 3, 5, 7, 11}\n"
     ]
    }
   ],
   "source": [
    "# Function to check if a number is prime\n",
    "def is_prime(num):\n",
    "    if num <= 1:\n",
    "        return False\n",
    "    for i in range(2, int(num ** 0.5) + 1):\n",
    "        if num % i == 0:\n",
    "            return False\n",
    "    return True\n",
    "\n",
    "# Create an empty set to store the prime numbers\n",
    "prime_set = set()\n",
    "\n",
    "# Initialize the number to start checking for primes\n",
    "num = 2\n",
    "\n",
    "# Loop until we have found the first 5 prime numbers\n",
    "while len(prime_set) < 5:\n",
    "    # Check if the current number is prime using the is_prime function\n",
    "    if is_prime(num):\n",
    "        # If the number is prime, add it to the prime_set\n",
    "        prime_set.add(num)\n",
    "\n",
    "    # Move on to the next number for the next iteration\n",
    "    num += 1\n",
    "\n",
    "# Print the set of prime numbers\n",
    "print(\"Set of the first 5 prime numbers:\", prime_set)"
   ]
  },
  {
   "cell_type": "code",
   "execution_count": null,
   "id": "4217cede-e8f6-4f0e-8cc3-401f0ca4748f",
   "metadata": {},
   "outputs": [],
   "source": []
  },
  {
   "cell_type": "markdown",
   "id": "21bb5460-df61-4ff7-9843-cb6160a35120",
   "metadata": {},
   "source": [
    "### Check if two sets are identical."
   ]
  },
  {
   "cell_type": "code",
   "execution_count": 57,
   "id": "7ef3e009-a4bf-4171-8d02-45c546bb2cf5",
   "metadata": {},
   "outputs": [
    {
     "name": "stdout",
     "output_type": "stream",
     "text": [
      "sets are identical\n"
     ]
    }
   ],
   "source": [
    "set1 = {1,2,3,4}\n",
    "\n",
    "set2 = {1,2,3,4}\n",
    "\n",
    "if set1 == set2:\n",
    "    print(\"sets are identical\")\n",
    "else:\n",
    "    print(\"sets are not identical\")"
   ]
  },
  {
   "cell_type": "code",
   "execution_count": null,
   "id": "8c0f552a-993b-4e8d-be3a-4b81d5e922e6",
   "metadata": {},
   "outputs": [],
   "source": []
  },
  {
   "cell_type": "markdown",
   "id": "53349ea4-b9a5-4d99-991d-929c39c94373",
   "metadata": {},
   "source": [
    "### Create a frozen set."
   ]
  },
  {
   "cell_type": "code",
   "execution_count": 58,
   "id": "63378d1d-4f35-44e0-ba05-946751044bed",
   "metadata": {},
   "outputs": [
    {
     "name": "stdout",
     "output_type": "stream",
     "text": [
      "Frozen Set: frozenset({1, 2, 3, 4, 5})\n"
     ]
    }
   ],
   "source": [
    "# Step 2: Define a list of elements that you want to include in the frozen set\n",
    "elements = [1, 2, 3, 4, 5]\n",
    "\n",
    "# Step 3: Create a frozen set using the 'frozenset' constructor and passing the list of elements\n",
    "my_frozen_set = frozenset(elements)\n",
    "\n",
    "# Step 4: Print the frozen set\n",
    "print(\"Frozen Set:\", my_frozen_set)"
   ]
  },
  {
   "cell_type": "code",
   "execution_count": null,
   "id": "49d81c45-71e3-4560-885d-80b94abeb91d",
   "metadata": {},
   "outputs": [],
   "source": []
  },
  {
   "cell_type": "markdown",
   "id": "3d615790-ddbb-4779-8743-a739ef72c556",
   "metadata": {},
   "source": [
    "### Check if a set is disjoint with another set."
   ]
  },
  {
   "cell_type": "code",
   "execution_count": 61,
   "id": "01c97134-3153-448e-b6a7-badfbcf967e2",
   "metadata": {},
   "outputs": [
    {
     "name": "stdout",
     "output_type": "stream",
     "text": [
      "True\n"
     ]
    }
   ],
   "source": [
    "set1 = {1,2,3,4,5}\n",
    "\n",
    "set2 = {6,7,8,9}\n",
    "\n",
    "is_dis = set1.isdisjoint(set2)\n",
    "\n",
    "print(is_dis)"
   ]
  },
  {
   "cell_type": "code",
   "execution_count": null,
   "id": "75d14e7b-d5b6-4050-b511-41385cb750a9",
   "metadata": {},
   "outputs": [],
   "source": []
  },
  {
   "cell_type": "markdown",
   "id": "308b9c74-9b1a-4ea7-a190-53cbcc4463d7",
   "metadata": {},
   "source": [
    "### Create a set of squares of numbers from 1 to 5."
   ]
  },
  {
   "cell_type": "code",
   "execution_count": 62,
   "id": "d684f05b-bc4f-492e-aa0a-44f15eb0d088",
   "metadata": {},
   "outputs": [
    {
     "name": "stdout",
     "output_type": "stream",
     "text": [
      "{1, 4, 9, 16, 25}\n"
     ]
    }
   ],
   "source": [
    "sq = {x**2 for x in range(1,6)}\n",
    "print(sq)"
   ]
  },
  {
   "cell_type": "code",
   "execution_count": null,
   "id": "00477079-56e0-44ae-9081-4c7e2134b4ab",
   "metadata": {},
   "outputs": [],
   "source": []
  },
  {
   "cell_type": "markdown",
   "id": "a96b2f08-1009-46d4-9422-5c7ba7707974",
   "metadata": {},
   "source": [
    "### Filter out all even numbers from a set."
   ]
  },
  {
   "cell_type": "code",
   "execution_count": 65,
   "id": "6e455df6-0689-4dad-bc4e-ceb59ac63e79",
   "metadata": {},
   "outputs": [
    {
     "name": "stdout",
     "output_type": "stream",
     "text": [
      "{8, 2, 4, 6}\n"
     ]
    }
   ],
   "source": [
    "set1 = {1,2,3,4,5,6,7,8}\n",
    "\n",
    "even_num = {x for x in set1 if x%2==0}\n",
    "\n",
    "print(even_num)"
   ]
  },
  {
   "cell_type": "code",
   "execution_count": null,
   "id": "2f67323f-ed49-4f6a-a3e1-819714c3f75a",
   "metadata": {},
   "outputs": [],
   "source": []
  },
  {
   "cell_type": "markdown",
   "id": "048dd8b9-1539-4203-98d2-4dd84e2e2df6",
   "metadata": {},
   "source": [
    "### Multiply all elements in a set by 2."
   ]
  },
  {
   "cell_type": "code",
   "execution_count": 8,
   "id": "4d9d7d99-833b-4623-a04d-3c131ae2d858",
   "metadata": {},
   "outputs": [
    {
     "name": "stdout",
     "output_type": "stream",
     "text": [
      "{2, 4, 6, 8, 10}\n"
     ]
    }
   ],
   "source": [
    "set1 = {1,2,3,4,5}\n",
    "\n",
    "set2 = set(x*2 for x in set1)\n",
    "\n",
    "print(set2)"
   ]
  },
  {
   "cell_type": "code",
   "execution_count": null,
   "id": "a8f42a07-192d-4ca0-b8ea-c4ba9d0cdc38",
   "metadata": {},
   "outputs": [],
   "source": []
  },
  {
   "cell_type": "markdown",
   "id": "189c45b1-07e4-4394-9435-23c8f32027f8",
   "metadata": {},
   "source": [
    "### Create a set of random numbers."
   ]
  },
  {
   "cell_type": "code",
   "execution_count": 16,
   "id": "f3b4acbb-7c01-4494-a299-a38a4ef395da",
   "metadata": {},
   "outputs": [
    {
     "name": "stdout",
     "output_type": "stream",
     "text": [
      "Generated set of random numbers: {5, 77, 14, 58, 91}\n"
     ]
    }
   ],
   "source": [
    "# Step 1: Import the `random` module to generate random numbers\n",
    "import random\n",
    "\n",
    "# Step 2: Define the number of random numbers you want in the set\n",
    "num_random_numbers = 5\n",
    "\n",
    "# Step 3: Initialize an empty set to store the random numbers\n",
    "random_number_set = set()\n",
    "\n",
    "# Step 4: Use a loop to generate random numbers and add them to the set\n",
    "for _ in range(num_random_numbers):\n",
    "    # Generate a random integer using the `randint` function from the `random` module\n",
    "    random_num = random.randint(1, 100)  # Generate a random number between 1 and 100\n",
    "    # Add the random number to the set\n",
    "    random_number_set.add(random_num)\n",
    "\n",
    "# Step 5: Print the generated set of random numbers\n",
    "print(\"Generated set of random numbers:\", random_number_set)"
   ]
  },
  {
   "cell_type": "code",
   "execution_count": null,
   "id": "0efea313-25b1-4ed6-8f22-093a653722ee",
   "metadata": {},
   "outputs": [],
   "source": []
  },
  {
   "cell_type": "markdown",
   "id": "47ed2c55-f82f-4dca-85fd-e952f87fae24",
   "metadata": {},
   "source": [
    "### Check if a set is empty."
   ]
  },
  {
   "cell_type": "code",
   "execution_count": 18,
   "id": "eccf04fb-dd0e-4d9b-9f6c-3d4905429e4c",
   "metadata": {},
   "outputs": [
    {
     "name": "stdout",
     "output_type": "stream",
     "text": [
      "0\n",
      "set is empty\n"
     ]
    }
   ],
   "source": [
    "set1 = ()\n",
    "\n",
    "emp = len(set1)\n",
    "\n",
    "print(emp)\n",
    "\n",
    "if emp == 0:\n",
    "    print(\"set is empty\")\n",
    "else:\n",
    "    print(\"set is not empty\")"
   ]
  },
  {
   "cell_type": "code",
   "execution_count": null,
   "id": "e673d785-82f6-442f-b85c-2fe528ee4975",
   "metadata": {},
   "outputs": [],
   "source": []
  },
  {
   "cell_type": "markdown",
   "id": "04770f38-b851-499d-8ac6-a45512a83839",
   "metadata": {},
   "source": [
    "### Create a nested set (hint: use frozenset).Create a nested set (hint: use frozenset)."
   ]
  },
  {
   "cell_type": "code",
   "execution_count": 20,
   "id": "7a92ac45-97f3-45c8-9c3b-fa69f2a0f630",
   "metadata": {},
   "outputs": [
    {
     "name": "stdout",
     "output_type": "stream",
     "text": [
      "Nested Set: {frozenset({1, 2, 3, 4, 5}), frozenset({6, 7, 8, 9, 10})}\n"
     ]
    }
   ],
   "source": [
    "\n",
    "set1 = {1, 2, 3, 4, 5}\n",
    "set2 = {6, 7, 8, 9, 10}\n",
    "\n",
    "# Step 2: Create frozensets from the inner sets\n",
    "frozen_set1 = frozenset(set1)\n",
    "frozen_set2 = frozenset(set2)\n",
    "\n",
    "# Step 3: Create the nested set using the frozensets\n",
    "nested_set = {frozen_set1, frozen_set2}\n",
    "\n",
    "# Print the nested set\n",
    "print(\"Nested Set:\", nested_set)"
   ]
  },
  {
   "cell_type": "code",
   "execution_count": null,
   "id": "24f9fb0e-3fd0-4ae5-a3eb-fe165bbd99fa",
   "metadata": {},
   "outputs": [],
   "source": []
  },
  {
   "cell_type": "markdown",
   "id": "654d1a95-41d1-4177-b3aa-b442c83ea31d",
   "metadata": {},
   "source": [
    "### Remove an element from a set using the discard method."
   ]
  },
  {
   "cell_type": "code",
   "execution_count": 21,
   "id": "531fbd9e-3c7e-433f-b4dc-8c8a4de567da",
   "metadata": {},
   "outputs": [
    {
     "name": "stdout",
     "output_type": "stream",
     "text": [
      "{1, 2, 4, 5, 6}\n"
     ]
    }
   ],
   "source": [
    "set1 = {1,2,3,4,5,6}\n",
    "\n",
    "ele = 3\n",
    "\n",
    "set1.discard(ele)\n",
    "\n",
    "print(set1)"
   ]
  },
  {
   "cell_type": "code",
   "execution_count": null,
   "id": "698f47fd-a48b-42da-8ec9-6ff125de26ad",
   "metadata": {},
   "outputs": [],
   "source": []
  },
  {
   "cell_type": "markdown",
   "id": "1a864bed-597f-4deb-ace2-705ffd663219",
   "metadata": {},
   "source": [
    "### Compare two sets."
   ]
  },
  {
   "cell_type": "code",
   "execution_count": 22,
   "id": "e1e67c74-cd4a-42f6-9dd1-521561fc101f",
   "metadata": {},
   "outputs": [
    {
     "name": "stdout",
     "output_type": "stream",
     "text": [
      "Set 1: {1, 2, 3, 4, 5}\n",
      "Set 2: {4, 5, 6, 7, 8}\n",
      "Is set1 a subset of set2? False\n",
      "Is set2 a subset of set1? False\n",
      "Intersection: {4, 5}\n",
      "Union: {1, 2, 3, 4, 5, 6, 7, 8}\n",
      "Elements in set1 but not in set2: {1, 2, 3}\n",
      "Elements in set2 but not in set1: {8, 6, 7}\n"
     ]
    }
   ],
   "source": [
    "# Step 1: Define two sets\n",
    "set1 = {1, 2, 3, 4, 5}\n",
    "set2 = {4, 5, 6, 7, 8}\n",
    "\n",
    "# Step 2: Use set operations to compare the sets\n",
    "# Check if set1 is a subset of set2\n",
    "is_subset = set1.issubset(set2)\n",
    "\n",
    "# Check if set2 is a subset of set1\n",
    "is_superset = set1.issuperset(set2)\n",
    "\n",
    "# Find the intersection of the sets\n",
    "intersection = set1.intersection(set2)\n",
    "\n",
    "# Find the union of the sets\n",
    "union = set1.union(set2)\n",
    "\n",
    "# Find the elements that are in set1 but not in set2\n",
    "difference1 = set1.difference(set2)\n",
    "\n",
    "# Find the elements that are in set2 but not in set1\n",
    "difference2 = set2.difference(set1)\n",
    "\n",
    "# Step 3: Print the results\n",
    "print(\"Set 1:\", set1)\n",
    "print(\"Set 2:\", set2)\n",
    "print(\"Is set1 a subset of set2?\", is_subset)\n",
    "print(\"Is set2 a subset of set1?\", is_superset)\n",
    "print(\"Intersection:\", intersection)\n",
    "print(\"Union:\", union)\n",
    "print(\"Elements in set1 but not in set2:\", difference1)\n",
    "print(\"Elements in set2 but not in set1:\", difference2)"
   ]
  },
  {
   "cell_type": "code",
   "execution_count": null,
   "id": "b0930041-9f44-47fa-abd6-13e7edd5bf9e",
   "metadata": {},
   "outputs": [],
   "source": []
  },
  {
   "cell_type": "markdown",
   "id": "08115965-130e-4d45-b557-fa8b5b23497c",
   "metadata": {},
   "source": [
    "### Create a set from a string."
   ]
  },
  {
   "cell_type": "code",
   "execution_count": 23,
   "id": "42a27ab8-633f-44ec-ae66-db4190160615",
   "metadata": {},
   "outputs": [
    {
     "name": "stdout",
     "output_type": "stream",
     "text": [
      "{'e', 'l', 'h', 'o'}\n"
     ]
    }
   ],
   "source": [
    "string1 = \"hello\"\n",
    "\n",
    "set1 = set(string1)\n",
    "\n",
    "print(set1)"
   ]
  },
  {
   "cell_type": "code",
   "execution_count": null,
   "id": "a59ec6f0-505f-4a3c-bdf9-5a1a2a804376",
   "metadata": {},
   "outputs": [],
   "source": []
  },
  {
   "cell_type": "markdown",
   "id": "92295429-ecb8-47fb-a665-32e02eb1e630",
   "metadata": {},
   "source": [
    "### Convert a set of strings to a set of integers."
   ]
  },
  {
   "cell_type": "code",
   "execution_count": 28,
   "id": "bda9a864-af6f-4edb-9261-05e237eb8c10",
   "metadata": {},
   "outputs": [
    {
     "name": "stdout",
     "output_type": "stream",
     "text": [
      "Original String Set: {'789', '456', '123'}\n",
      "Converted Integer Set: {456, 123, 789}\n"
     ]
    }
   ],
   "source": [
    "# Step 1: Create a set of strings\n",
    "string_set = {\"123\", \"456\", \"789\"}\n",
    "\n",
    "# Step 2: Initialize an empty set to store integers\n",
    "integer_set = set()\n",
    "\n",
    "# Step 3: Iterate through each string in the string set\n",
    "for string in string_set:\n",
    "    # Step 4: Convert the string to an integer using the int() function\n",
    "    integer_value = int(string)\n",
    "\n",
    "    # Step 5: Add the integer to the integer set\n",
    "    integer_set.add(integer_value)\n",
    "\n",
    "# Step 6: Print the original string set and the converted integer set\n",
    "print(\"Original String Set:\", string_set)\n",
    "print(\"Converted Integer Set:\", integer_set)"
   ]
  },
  {
   "cell_type": "code",
   "execution_count": null,
   "id": "566b0062-741e-474f-a7bf-fd1c5025dfe0",
   "metadata": {},
   "outputs": [],
   "source": []
  },
  {
   "cell_type": "markdown",
   "id": "65ece98b-01a1-49d8-b79a-c09e04a70c85",
   "metadata": {},
   "source": [
    "### Convert a set of integers to a set of strings."
   ]
  },
  {
   "cell_type": "code",
   "execution_count": 30,
   "id": "2fde821d-657b-4c2f-96ba-25fbce1e5c03",
   "metadata": {},
   "outputs": [
    {
     "name": "stdout",
     "output_type": "stream",
     "text": [
      "{'2', '4', '5', '3', '1'}\n"
     ]
    }
   ],
   "source": [
    "set_int = {1,2,3,4,5}\n",
    "\n",
    "set_str = {str(x) for x in set_int}\n",
    "\n",
    "print(set_str)"
   ]
  },
  {
   "cell_type": "code",
   "execution_count": null,
   "id": "66588552-3dbe-4523-8b30-1e027070734d",
   "metadata": {},
   "outputs": [],
   "source": []
  },
  {
   "cell_type": "markdown",
   "id": "922f3e41-d3e9-4a1e-9356-cfa33213c3a6",
   "metadata": {},
   "source": [
    "### Create a set from a tuple."
   ]
  },
  {
   "cell_type": "code",
   "execution_count": 31,
   "id": "62620106-5d13-4d6c-b925-41fab583ee8e",
   "metadata": {},
   "outputs": [
    {
     "name": "stdout",
     "output_type": "stream",
     "text": [
      "{1, 2, 3, 4, 5}\n"
     ]
    }
   ],
   "source": [
    "tup = (1,2,3,4,5)\n",
    "\n",
    "set1 = set(tup)\n",
    "\n",
    "print(set1)"
   ]
  },
  {
   "cell_type": "code",
   "execution_count": null,
   "id": "84ffdc27-05ab-462f-8221-c0b6c241863b",
   "metadata": {},
   "outputs": [],
   "source": []
  },
  {
   "cell_type": "markdown",
   "id": "5f663020-3ba6-4685-aac4-5d6dd44ea2a0",
   "metadata": {},
   "source": [
    "### Convert a set to a tuple."
   ]
  },
  {
   "cell_type": "code",
   "execution_count": 32,
   "id": "404b7bc5-5978-478a-8375-aa818aac06a7",
   "metadata": {},
   "outputs": [
    {
     "name": "stdout",
     "output_type": "stream",
     "text": [
      "(1, 2, 3, 4, 5)\n"
     ]
    }
   ],
   "source": [
    "set1 = {1,2,3,4,5}\n",
    "\n",
    "tup = tuple(set1)\n",
    "\n",
    "print(tup)"
   ]
  },
  {
   "cell_type": "code",
   "execution_count": null,
   "id": "20d891f1-ad54-4bcb-bb9f-3b3e6eac8c9d",
   "metadata": {},
   "outputs": [],
   "source": []
  },
  {
   "cell_type": "markdown",
   "id": "546a42c1-abf1-4e8b-a5cc-3839333cf8cb",
   "metadata": {},
   "source": [
    "### Find the maximum value in a set."
   ]
  },
  {
   "cell_type": "code",
   "execution_count": 36,
   "id": "e01478a9-be20-4db4-ab03-6812fcf28c2e",
   "metadata": {},
   "outputs": [
    {
     "name": "stdout",
     "output_type": "stream",
     "text": [
      "6\n"
     ]
    }
   ],
   "source": [
    "set1 = {1,2,6,4,5}\n",
    "\n",
    "maximum_value = max(set1)\n",
    "\n",
    "print(maximum_value)"
   ]
  },
  {
   "cell_type": "code",
   "execution_count": null,
   "id": "2c1b25a3-eecf-4942-8a68-ad7566ac6764",
   "metadata": {},
   "outputs": [],
   "source": []
  },
  {
   "cell_type": "markdown",
   "id": "bac5b67d-cf15-47b4-ba06-92d8063a0a46",
   "metadata": {},
   "source": [
    "### Find the minimum value in a set."
   ]
  },
  {
   "cell_type": "code",
   "execution_count": 38,
   "id": "4e49055c-36ce-4599-88fe-3fc257a959c1",
   "metadata": {},
   "outputs": [
    {
     "name": "stdout",
     "output_type": "stream",
     "text": [
      "1\n"
     ]
    }
   ],
   "source": [
    "set1 = {2,3,4,5,1}\n",
    "\n",
    "set2 = min(set1)\n",
    "\n",
    "\n",
    "print(set2)"
   ]
  },
  {
   "cell_type": "code",
   "execution_count": null,
   "id": "b823818b-1a8a-4cd9-91a6-585a7c52f874",
   "metadata": {},
   "outputs": [],
   "source": []
  },
  {
   "cell_type": "markdown",
   "id": "09182506-b189-4ec5-8bcd-a1969923b6f4",
   "metadata": {},
   "source": [
    "### Create a set from user input."
   ]
  },
  {
   "cell_type": "code",
   "execution_count": 40,
   "id": "9f4278ff-3468-46c4-88c1-459150453076",
   "metadata": {},
   "outputs": [
    {
     "name": "stdin",
     "output_type": "stream",
     "text": [
      "Enter values: 12345\n"
     ]
    },
    {
     "name": "stdout",
     "output_type": "stream",
     "text": [
      "{'2', '4', '5', '3', '1'}\n"
     ]
    }
   ],
   "source": [
    "set1 = set(input(\"Enter values:\"))\n",
    "           \n",
    "print(set1)"
   ]
  },
  {
   "cell_type": "code",
   "execution_count": null,
   "id": "b1d7faa3-32f9-4ab4-8381-d3ab32aef7a0",
   "metadata": {},
   "outputs": [],
   "source": []
  },
  {
   "cell_type": "markdown",
   "id": "5588e82b-8ffe-4685-b614-5168af76d34a",
   "metadata": {},
   "source": [
    "### Check if the intersection of two sets is empty."
   ]
  },
  {
   "cell_type": "code",
   "execution_count": 42,
   "id": "af943f9e-1199-47a4-be34-df23c0f2fb1a",
   "metadata": {},
   "outputs": [
    {
     "name": "stdout",
     "output_type": "stream",
     "text": [
      "set()\n",
      "The intersection is empty\n"
     ]
    }
   ],
   "source": [
    "set1 = {1,2,3,4}\n",
    "\n",
    "set2 = {5,6,7,8}\n",
    "\n",
    "set3 = set1.intersection(set2)\n",
    "\n",
    "print(set3)\n",
    "\n",
    "if not set3:\n",
    "    print(\"The intersection is empty\")\n",
    "else:\n",
    "    print(\"The intersection is not empty\")"
   ]
  },
  {
   "cell_type": "code",
   "execution_count": null,
   "id": "d4bbad7b-7df6-4766-b334-73cdc6358da5",
   "metadata": {},
   "outputs": [],
   "source": []
  },
  {
   "cell_type": "markdown",
   "id": "eb63f117-0749-4067-a01d-ad13f16f060e",
   "metadata": {},
   "source": [
    "### Create a set of the first 5 Fibonacci numbers."
   ]
  },
  {
   "cell_type": "code",
   "execution_count": 53,
   "id": "a63667f6-4ca2-4ee1-9b1b-1c67d32c2cc6",
   "metadata": {},
   "outputs": [
    {
     "name": "stdout",
     "output_type": "stream",
     "text": [
      "Set of the first 5 Fibonacci numbers: {0, 1, 2, 3, 5}\n"
     ]
    }
   ],
   "source": [
    "# Create a set to store the first 5 Fibonacci numbers\n",
    "fibonacci_set = set()\n",
    "\n",
    "# Initialize the first two Fibonacci numbers\n",
    "a, b = 0, 1\n",
    "\n",
    "# Loop to generate the first 5 Fibonacci numbers\n",
    "for _ in range(6):\n",
    "    # Add the current Fibonacci number to the set\n",
    "    fibonacci_set.add(a)\n",
    "\n",
    "    # Calculate the next Fibonacci number\n",
    "    a, b = b, a + b\n",
    "\n",
    "# Print the set of Fibonacci numbers\n",
    "print(\"Set of the first 5 Fibonacci numbers:\", fibonacci_set)\n"
   ]
  },
  {
   "cell_type": "code",
   "execution_count": null,
   "id": "2dd19373-b895-4503-af01-2b11d7ca34b5",
   "metadata": {},
   "outputs": [],
   "source": []
  },
  {
   "cell_type": "markdown",
   "id": "5647b701-6548-4a54-81b2-a46db9fe7737",
   "metadata": {},
   "source": [
    "### Remove duplicates from a list using sets."
   ]
  },
  {
   "cell_type": "code",
   "execution_count": 54,
   "id": "ebc2a30f-a3ca-4ed4-9d3f-d9e103cc44a1",
   "metadata": {},
   "outputs": [
    {
     "name": "stdout",
     "output_type": "stream",
     "text": [
      "{1, 2, 3, 4, 5, 6}\n"
     ]
    }
   ],
   "source": [
    "list1 = [1,1,2,3,4,5,6,4,3]\n",
    "\n",
    "dup = set(list1)\n",
    "\n",
    "print(dup)"
   ]
  },
  {
   "cell_type": "code",
   "execution_count": null,
   "id": "60a042c8-400a-480b-96b1-b11dbe84efbf",
   "metadata": {},
   "outputs": [],
   "source": []
  },
  {
   "cell_type": "markdown",
   "id": "90f4be91-a8a1-4be1-91e6-962ec9429c7c",
   "metadata": {},
   "source": [
    "### Check if two sets have the same elements, regardless of their count."
   ]
  },
  {
   "cell_type": "code",
   "execution_count": 55,
   "id": "c8db4979-5735-4caa-b03e-7404d614fac4",
   "metadata": {},
   "outputs": [
    {
     "name": "stdout",
     "output_type": "stream",
     "text": [
      "The sets have the same elements.\n"
     ]
    }
   ],
   "source": [
    "def have_same_elements(set1, set2):\n",
    "    # Convert the sets to lists and sort them\n",
    "    sorted_list1 = sorted(list(set1))\n",
    "    sorted_list2 = sorted(list(set2))\n",
    "\n",
    "    # Compare the sorted lists to check if they are equal\n",
    "    return sorted_list1 == sorted_list2\n",
    "\n",
    "# Example sets\n",
    "set1 = {1, 2, 3, 2, 1}\n",
    "set2 = {3, 1, 2}\n",
    "\n",
    "# Check if the sets have the same elements\n",
    "result = have_same_elements(set1, set2)\n",
    "\n",
    "# Print the result\n",
    "if result:\n",
    "    print(\"The sets have the same elements.\")\n",
    "else:\n",
    "    print(\"The sets do not have the same elements.\")"
   ]
  },
  {
   "cell_type": "code",
   "execution_count": null,
   "id": "531b86ac-c0bf-4ba0-a506-c3dfa02c34bf",
   "metadata": {},
   "outputs": [],
   "source": []
  },
  {
   "cell_type": "markdown",
   "id": "825b7717-f705-49b5-95eb-cef9c7037c52",
   "metadata": {},
   "source": [
    "### Create a set of the first `n` powers of 2."
   ]
  },
  {
   "cell_type": "code",
   "execution_count": 56,
   "id": "407a6d22-e37a-4a31-a885-514d327d9af4",
   "metadata": {},
   "outputs": [
    {
     "name": "stdout",
     "output_type": "stream",
     "text": [
      "{1, 2, 4, 8, 16}\n"
     ]
    }
   ],
   "source": [
    "def generate_powers_of_2(n):\n",
    "    # Initialize an empty set to store the powers of 2\n",
    "    powers_of_2 = set()\n",
    "\n",
    "    # Loop from 0 to n-1\n",
    "    for i in range(n):\n",
    "        # Calculate the current power of 2 using the exponentiation operator **\n",
    "        power = 2 ** i\n",
    "\n",
    "        # Add the current power of 2 to the set\n",
    "        powers_of_2.add(power)\n",
    "\n",
    "    # Return the set of powers of 2\n",
    "    return powers_of_2\n",
    "\n",
    "# Define the value of n\n",
    "n = 5\n",
    "\n",
    "# Call the function to generate the set of powers of 2\n",
    "powers_set = generate_powers_of_2(n)\n",
    "\n",
    "# Print the resulting set\n",
    "print(powers_set)"
   ]
  },
  {
   "cell_type": "code",
   "execution_count": null,
   "id": "96a6c131-adb0-4103-931c-b7ee7d23e1c4",
   "metadata": {},
   "outputs": [],
   "source": []
  },
  {
   "cell_type": "markdown",
   "id": "8ba1f96e-9840-4311-af29-3c65ddfbcf77",
   "metadata": {},
   "source": [
    "### Find the common elements between a set and a list."
   ]
  },
  {
   "cell_type": "code",
   "execution_count": 57,
   "id": "f4765983-d9a5-48b0-a896-78139b8ac38f",
   "metadata": {},
   "outputs": [
    {
     "name": "stdout",
     "output_type": "stream",
     "text": [
      "Common elements: [7, 9, 12]\n"
     ]
    }
   ],
   "source": [
    "# Step 1: Define a set and a list\n",
    "my_set = {3, 7, 9, 12, 15}\n",
    "my_list = [7, 12, 5, 9]\n",
    "\n",
    "# Step 2: Convert the list to a set for efficient comparison\n",
    "list_to_set = set(my_list)\n",
    "\n",
    "# Step 3: Initialize an empty list to store common elements\n",
    "common_elements = []\n",
    "\n",
    "# Step 4: Iterate through the elements in the set\n",
    "for element in my_set:\n",
    "    # Step 5: Check if the element is present in the converted set (list_to_set)\n",
    "    if element in list_to_set:\n",
    "        # Step 6: If the element is present in both the set and the list, add it to the common_elements list\n",
    "        common_elements.append(element)\n",
    "\n",
    "# Step 7: Print the common elements\n",
    "print(\"Common elements:\", common_elements)"
   ]
  },
  {
   "cell_type": "code",
   "execution_count": null,
   "id": "c4718cac-5274-4712-9c97-e4fabe4068c0",
   "metadata": {},
   "outputs": [],
   "source": []
  },
  {
   "cell_type": "markdown",
   "id": "844567d4-2122-4a49-857b-ed0afc7143c7",
   "metadata": {},
   "source": [
    "### Create a set of the first `n` triangular numbers."
   ]
  },
  {
   "cell_type": "code",
   "execution_count": 58,
   "id": "e0fca060-2d62-4646-aa19-2cd1b288d355",
   "metadata": {},
   "outputs": [
    {
     "name": "stdin",
     "output_type": "stream",
     "text": [
      "Enter the value of n:  12\n"
     ]
    },
    {
     "name": "stdout",
     "output_type": "stream",
     "text": [
      "The set of the first 12 triangular numbers is: {1, 66, 3, 36, 6, 10, 45, 78, 15, 21, 55, 28}\n"
     ]
    }
   ],
   "source": [
    "def generate_triangular_numbers(n):\n",
    "    triangular_numbers = set()  # Create an empty set to store the triangular numbers\n",
    "    for i in range(1, n + 1):\n",
    "        triangular_number = i * (i + 1) // 2  # Calculate the ith triangular number using the formula\n",
    "        triangular_numbers.add(triangular_number)  # Add the calculated triangular number to the set\n",
    "    return triangular_numbers\n",
    "\n",
    "# Input the value of 'n'\n",
    "n = int(input(\"Enter the value of n: \"))\n",
    "\n",
    "# Call the function to generate the set of first 'n' triangular numbers\n",
    "triangular_set = generate_triangular_numbers(n)\n",
    "\n",
    "# Display the set of triangular numbers\n",
    "print(f\"The set of the first {n} triangular numbers is:\", triangular_set)"
   ]
  },
  {
   "cell_type": "code",
   "execution_count": null,
   "id": "867cf4ab-8d13-4af0-981d-b8ee53efdd23",
   "metadata": {},
   "outputs": [],
   "source": []
  },
  {
   "cell_type": "markdown",
   "id": "ddde0332-b798-4864-af5e-e80368b8f06d",
   "metadata": {},
   "source": [
    "### Check if a set contains another set as a subset."
   ]
  },
  {
   "cell_type": "code",
   "execution_count": 59,
   "id": "24e652b6-6126-45cd-ab4d-cebbad4cb978",
   "metadata": {},
   "outputs": [
    {
     "name": "stdout",
     "output_type": "stream",
     "text": [
      "set2 is a subset of set1\n"
     ]
    }
   ],
   "source": [
    "# Define two sets\n",
    "set1 = {1, 2, 3, 4, 5}\n",
    "set2 = {3, 4}\n",
    "\n",
    "# Check if set2 is a subset of set1\n",
    "is_subset = set2.issubset(set1)\n",
    "\n",
    "# Print the result\n",
    "if is_subset:\n",
    "    print(\"set2 is a subset of set1\")\n",
    "else:\n",
    "    print(\"set2 is not a subset of set1\")"
   ]
  },
  {
   "cell_type": "code",
   "execution_count": null,
   "id": "3adc93d0-8272-40e1-9f32-f0e24fa0811e",
   "metadata": {},
   "outputs": [],
   "source": []
  },
  {
   "cell_type": "markdown",
   "id": "1f7f26e3-3565-4658-8647-11eb2d56a5f4",
   "metadata": {},
   "source": [
    "### Create a set of alternating 1s and 0s of length `n`."
   ]
  },
  {
   "cell_type": "code",
   "execution_count": 60,
   "id": "391484fc-e95d-42ad-b444-5577f90016b9",
   "metadata": {},
   "outputs": [
    {
     "name": "stdout",
     "output_type": "stream",
     "text": [
      "{0, 1}\n"
     ]
    }
   ],
   "source": [
    "def create_alternating_set(n):\n",
    "    # Initialize an empty set to store the alternating sequence.\n",
    "    alternating_set = set()\n",
    "\n",
    "    # Loop to generate alternating 1s and 0s.\n",
    "    for i in range(n):\n",
    "        # Alternate between adding 1 and 0 to the set based on whether i is even or odd.\n",
    "        if i % 2 == 0:\n",
    "            alternating_set.add(1)  # Add 1 if i is even.\n",
    "        else:\n",
    "            alternating_set.add(0)  # Add 0 if i is odd.\n",
    "\n",
    "    return alternating_set\n",
    "\n",
    "# Define the desired length of the alternating set.\n",
    "length_n = 10\n",
    "\n",
    "# Call the function to create the alternating set of length 'length_n'.\n",
    "result = create_alternating_set(length_n)\n",
    "\n",
    "# Print the resulting set.\n",
    "print(result)"
   ]
  },
  {
   "cell_type": "code",
   "execution_count": null,
   "id": "683b9342-f9aa-4a95-a92c-79146ebbde4e",
   "metadata": {},
   "outputs": [],
   "source": []
  },
  {
   "cell_type": "markdown",
   "id": "563bf0c0-4f75-4821-b244-953613eca4ec",
   "metadata": {},
   "source": [
    "### Merge multiple sets into one."
   ]
  },
  {
   "cell_type": "code",
   "execution_count": 61,
   "id": "7cce9eee-10ed-4717-9257-de6e146c2e45",
   "metadata": {},
   "outputs": [
    {
     "name": "stdout",
     "output_type": "stream",
     "text": [
      "Merged Set: {1, 2, 3, 4, 5, 6, 7}\n"
     ]
    }
   ],
   "source": [
    "# Step 1: Create multiple sets\n",
    "set1 = {1, 2, 3}\n",
    "set2 = {3, 4, 5}\n",
    "set3 = {5, 6, 7}\n",
    "\n",
    "# Step 2: Use the union() method to merge sets\n",
    "merged_set = set1.union(set2, set3)\n",
    "\n",
    "# Alternatively, you can use the | operator\n",
    "# merged_set = set1 | set2 | set3\n",
    "\n",
    "# Step 3: Print the merged set\n",
    "print(\"Merged Set:\", merged_set)"
   ]
  },
  {
   "cell_type": "code",
   "execution_count": null,
   "id": "ce7e25a5-9353-4a16-85a7-18f110d046bf",
   "metadata": {},
   "outputs": [],
   "source": []
  }
 ],
 "metadata": {
  "kernelspec": {
   "display_name": "Python 3 (ipykernel)",
   "language": "python",
   "name": "python3"
  },
  "language_info": {
   "codemirror_mode": {
    "name": "ipython",
    "version": 3
   },
   "file_extension": ".py",
   "mimetype": "text/x-python",
   "name": "python",
   "nbconvert_exporter": "python",
   "pygments_lexer": "ipython3",
   "version": "3.10.8"
  }
 },
 "nbformat": 4,
 "nbformat_minor": 5
}
